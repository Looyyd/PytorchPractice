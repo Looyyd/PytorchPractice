{
 "cells": [
  {
   "cell_type": "code",
   "execution_count": 113,
   "id": "initial_id",
   "metadata": {
    "collapsed": true,
    "ExecuteTime": {
     "end_time": "2023-12-25T22:16:04.205907Z",
     "start_time": "2023-12-25T22:16:04.178191Z"
    }
   },
   "outputs": [],
   "source": [
    "import gymnasium as gym\n",
    "import torch\n",
    "import torch.nn as nn\n",
    "import torch.optim as optim\n",
    "import numpy as np\n",
    "import random\n",
    "import matplotlib.pyplot as plt\n",
    "from IPython import display\n",
    "from collections import Counter\n",
    "import optuna\n",
    "import wandb"
   ]
  },
  {
   "cell_type": "code",
   "execution_count": 114,
   "outputs": [
    {
     "name": "stderr",
     "output_type": "stream",
     "text": [
      "\u001B[34m\u001B[1mwandb\u001B[0m: \u001B[33mWARNING\u001B[0m Calling wandb.login() after wandb.init() has no effect.\n"
     ]
    },
    {
     "data": {
      "text/plain": "True"
     },
     "execution_count": 114,
     "metadata": {},
     "output_type": "execute_result"
    }
   ],
   "source": [
    "wandb.login()"
   ],
   "metadata": {
    "collapsed": false,
    "ExecuteTime": {
     "end_time": "2023-12-25T22:16:04.217600Z",
     "start_time": "2023-12-25T22:16:04.208983Z"
    }
   },
   "id": "78b83de3ba644fc"
  },
  {
   "cell_type": "code",
   "execution_count": 115,
   "outputs": [],
   "source": [
    "# Hyperparameters\n",
    "learning_rate = 0.01\n",
    "gamma = 0.99\n",
    "epsilon = 0.1"
   ],
   "metadata": {
    "collapsed": false,
    "ExecuteTime": {
     "end_time": "2023-12-25T22:16:04.232422Z",
     "start_time": "2023-12-25T22:16:04.222482Z"
    }
   },
   "id": "791f94d302ef6d2c"
  },
  {
   "cell_type": "code",
   "execution_count": 116,
   "outputs": [],
   "source": [
    "# Environment setup\n",
    "env = gym.make('FrozenLake-v1', is_slippery=False)\n",
    "n_actions = env.action_space.n\n",
    "n_states = env.observation_space.n"
   ],
   "metadata": {
    "collapsed": false,
    "ExecuteTime": {
     "end_time": "2023-12-25T22:16:04.259426Z",
     "start_time": "2023-12-25T22:16:04.234926Z"
    }
   },
   "id": "655c4f8ad84a6e65"
  },
  {
   "cell_type": "code",
   "execution_count": 117,
   "outputs": [],
   "source": [
    "# Neural network model\n",
    "class Net(nn.Module):\n",
    "    def __init__(self):\n",
    "        super(Net, self).__init__()\n",
    "        self.fc = nn.Linear(n_states, n_actions)\n",
    "\n",
    "    def forward(self, x):\n",
    "        return self.fc(x)"
   ],
   "metadata": {
    "collapsed": false,
    "ExecuteTime": {
     "end_time": "2023-12-25T22:16:04.259787Z",
     "start_time": "2023-12-25T22:16:04.238750Z"
    }
   },
   "id": "fc04ac7142783e42"
  },
  {
   "cell_type": "code",
   "execution_count": 118,
   "outputs": [],
   "source": [
    "# Initialize model, optimizer, and loss function\n",
    "device = torch.device(\"mps\")\n",
    "model = Net().to(device)\n",
    "optimizer = optim.Adam(model.parameters(), lr=learning_rate)\n",
    "loss_fn = nn.MSELoss()"
   ],
   "metadata": {
    "collapsed": false,
    "ExecuteTime": {
     "end_time": "2023-12-25T22:16:04.270247Z",
     "start_time": "2023-12-25T22:16:04.263016Z"
    }
   },
   "id": "475f097e7f7a6a9f"
  },
  {
   "cell_type": "code",
   "execution_count": 119,
   "outputs": [],
   "source": [
    "def objective(trial):\n",
    "    wandb.init(project=\"optuna_hyperparameter_optimization\", \n",
    "           name=f\"trial_{trial.number}\", \n",
    "           config=trial.params)\n",
    "\n",
    "    # Suggest values for the hyperparameters\n",
    "    learning_rate = trial.suggest_float('learning_rate', 1e-5, 1e-1, log=True)\n",
    "    gamma = trial.suggest_float('gamma', 0.8, 0.9999)\n",
    "    epsilon_start = trial.suggest_float('epsilon_start', 0.1, 0.9)\n",
    "    epsilon_decay = trial.suggest_float('epsilon_decay', 0.99, 0.9999)\n",
    "    \n",
    "    model = Net().to(device)\n",
    "    optimizer = optim.Adam(model.parameters(), lr=learning_rate)\n",
    "    loss_fn = nn.MSELoss()\n",
    "\n",
    "    # Training loop\n",
    "    # Initialize lists to store metrics\n",
    "    losses = []\n",
    "    weight_norms = []\n",
    "    bias_norms = []\n",
    "    grad_norms = []\n",
    "    total_rewards = []\n",
    "    epsilon_values = []\n",
    "    episode_lengths = []\n",
    "    successful_episodes = 0\n",
    "    success_rate = []\n",
    "    \n",
    "    plot_update_frequency = 30  # Update plots every 50 episodes, adjust as needed\n",
    "    num_episodes = 300\n",
    "    # Training loop\n",
    "    epsilon = epsilon_start\n",
    "\n",
    "    for episode in range(num_episodes):\n",
    "        state = env.reset()[0]\n",
    "        done = False\n",
    "        total_reward = 0\n",
    "        episode_length = 0\n",
    "    \n",
    "    \n",
    "        while not done:\n",
    "            state_tensor = torch.FloatTensor(np.eye(n_states)[int(state)]).to(device)\n",
    "            q_values = model(state_tensor)\n",
    "            if random.random() < epsilon:\n",
    "                action = env.action_space.sample()\n",
    "            else:\n",
    "                action = torch.argmax(q_values).item()\n",
    "            \n",
    "            # (0, 0.0, False, False, {'prob': 1.0})\n",
    "            next_state, reward, done, _, _ = env.step(action)\n",
    "    \n",
    "            next_state_tensor = torch.FloatTensor(np.eye(n_states)[next_state]).to(device)\n",
    "            next_q_values = model(next_state_tensor)\n",
    "    \n",
    "            max_next_q = torch.max(next_q_values)\n",
    "            q_target = reward + gamma * max_next_q * (1 - done)\n",
    "            q_val = q_values[action]\n",
    "    \n",
    "            loss = loss_fn(q_val.view(1).cpu(), torch.tensor([q_target]))\n",
    "    \n",
    "            optimizer.zero_grad()\n",
    "            loss.backward()\n",
    "            optimizer.step()\n",
    "    \n",
    "            state = next_state\n",
    "    \n",
    "            # Calculate and store loss\n",
    "            losses.append(loss.item())\n",
    "    \n",
    "            # Calculate and store weight and bias norms\n",
    "            weight_norm = sum(torch.norm(param)**2 for param in model.parameters() if param.dim() > 1)\n",
    "            bias_norm = sum(torch.norm(param)**2 for param in model.parameters() if param.dim() == 1)\n",
    "            weight_norms.append(weight_norm.item())\n",
    "            bias_norms.append(bias_norm.item())\n",
    "    \n",
    "            # Calculate and store gradient norms\n",
    "            grad_norm = sum(torch.norm(param.grad)**2 for param in model.parameters() if param.grad is not None)\n",
    "            grad_norms.append(grad_norm.item())\n",
    "            \n",
    "            # Accumulate reward\n",
    "            total_reward += reward\n",
    "            # Increment episode length\n",
    "            episode_length += 1\n",
    "    \n",
    "            if done and reward > 0:  # Assuming a positive reward indicates success\n",
    "                successful_episodes += 1\n",
    "    \n",
    "    \n",
    "        # Store total reward and epsilon value for the episode\n",
    "        total_rewards.append(total_reward)\n",
    "        epsilon_values.append(epsilon)\n",
    "        episode_lengths.append(episode_length)\n",
    "        success_rate.append(successful_episodes / (episode + 1))  # Calculate success rate\n",
    "    \n",
    "    \n",
    "    \n",
    "        # Decay epsilon\n",
    "        if epsilon > 0.01:\n",
    "            epsilon *= epsilon_decay\n",
    "    \n",
    "        # Update plots at specified frequency\n",
    "        if episode % plot_update_frequency == 0 or episode == num_episodes - 1:\n",
    "            # log metrics to wandb\n",
    "            wandb.log({\"loss\": loss.item(),\n",
    "                       \"weight_norm\": weight_norm.item(),\n",
    "                       \"bias_norm\": bias_norm.item(),\n",
    "                       \"grad_norm\": grad_norm.item(),\n",
    "                       \"total_reward\": total_reward,\n",
    "                       \"epsilon\": epsilon,\n",
    "                       \"episode_length\": episode_length,\n",
    "                       \"success_rate\": successful_episodes / (episode + 1)})\n",
    "            if False:\n",
    "                # Plotting\n",
    "                display.clear_output(wait=True)\n",
    "                plt.figure(figsize=(15, 20))  # Adjust the figure size as needed\n",
    "                \n",
    "                # Subplot for Loss\n",
    "                plt.subplot(4, 2, 1)\n",
    "                plt.plot(losses)\n",
    "                plt.title('Loss')\n",
    "                \n",
    "                # Subplot for Weight Norms\n",
    "                plt.subplot(4, 2, 2)\n",
    "                plt.plot(weight_norms)\n",
    "                plt.title('Weight Norms')\n",
    "                \n",
    "                # Subplot for Bias Norms\n",
    "                plt.subplot(4, 2, 3)\n",
    "                plt.plot(bias_norms)\n",
    "                plt.title('Bias Norms')\n",
    "                \n",
    "                # Subplot for Gradient Norms\n",
    "                plt.subplot(4, 2, 4)\n",
    "                plt.plot(grad_norms)\n",
    "                plt.title('Gradient Norms')\n",
    "                \n",
    "                # Subplot for Total Rewards\n",
    "                plt.subplot(4, 2, 5)\n",
    "                plt.plot(total_rewards)\n",
    "                plt.title('Total Rewards')\n",
    "                \n",
    "                # Subplot for Epsilon Values\n",
    "                plt.subplot(4, 2, 6)\n",
    "                plt.plot(epsilon_values)\n",
    "                plt.title('Epsilon Values')\n",
    "                \n",
    "                # Subplot for Episode Lengths\n",
    "                plt.subplot(4, 2, 7)\n",
    "                plt.plot(episode_lengths)\n",
    "                plt.title('Episode Lengths')\n",
    "                \n",
    "                # Subplot for Success Rate\n",
    "                plt.subplot(4, 2, 8)\n",
    "                plt.plot(success_rate)\n",
    "                plt.title('Success Rate')\n",
    "                \n",
    "                plt.tight_layout()\n",
    "                display.display(plt.gcf())\n",
    "                plt.close()\n",
    "    \n",
    "    # Close the environment\n",
    "    env.close()\n",
    "        # Ensure the W&B run finishes with the trial\n",
    "    wandb.finish()\n",
    "    # Return the metric you want to optimize\n",
    "    # For example, the average success rate\n",
    "    return sum(success_rate) / len(success_rate)\n"
   ],
   "metadata": {
    "collapsed": false,
    "ExecuteTime": {
     "end_time": "2023-12-25T22:16:04.295463Z",
     "start_time": "2023-12-25T22:16:04.277350Z"
    }
   },
   "id": "da966d3235295555"
  },
  {
   "cell_type": "code",
   "execution_count": 120,
   "outputs": [
    {
     "name": "stderr",
     "output_type": "stream",
     "text": [
      "[I 2023-12-25 23:16:04,281] A new study created in memory with name: no-name-5acd7785-e309-4176-9427-27b979871fd1\n"
     ]
    },
    {
     "data": {
      "text/plain": "<IPython.core.display.HTML object>",
      "text/html": "Finishing last run (ID:paymz9ns) before initializing another..."
     },
     "metadata": {},
     "output_type": "display_data"
    },
    {
     "data": {
      "text/plain": "VBox(children=(Label(value='0.001 MB of 0.001 MB uploaded\\r'), FloatProgress(value=1.0, max=1.0)))",
      "application/vnd.jupyter.widget-view+json": {
       "version_major": 2,
       "version_minor": 0,
       "model_id": "564bfc7a30ff4d77bb4e54b449836851"
      }
     },
     "metadata": {},
     "output_type": "display_data"
    },
    {
     "data": {
      "text/plain": "<IPython.core.display.HTML object>",
      "text/html": "<style>\n    table.wandb td:nth-child(1) { padding: 0 10px; text-align: left ; width: auto;} td:nth-child(2) {text-align: left ; width: 100%}\n    .wandb-row { display: flex; flex-direction: row; flex-wrap: wrap; justify-content: flex-start; width: 100% }\n    .wandb-col { display: flex; flex-direction: column; flex-basis: 100%; flex: 1; padding: 10px; }\n    </style>\n<div class=\"wandb-row\"><div class=\"wandb-col\"><h3>Run history:</h3><br/><table class=\"wandb\"><tr><td>bias_norm</td><td>█▁▃▆█</td></tr><tr><td>episode_length</td><td>█▃▂▁▁</td></tr><tr><td>epsilon</td><td>█▆▄▃▁</td></tr><tr><td>grad_norm</td><td>▁▂█▁▂</td></tr><tr><td>loss</td><td>▁▂█▁▂</td></tr><tr><td>success_rate</td><td>▁▃▄▆█</td></tr><tr><td>total_reward</td><td>▁▁█▁▁</td></tr><tr><td>weight_norm</td><td>█▆▃▃▁</td></tr></table><br/></div><div class=\"wandb-col\"><h3>Run summary:</h3><br/><table class=\"wandb\"><tr><td>bias_norm</td><td>0.10029</td></tr><tr><td>episode_length</td><td>5</td></tr><tr><td>epsilon</td><td>0.29552</td></tr><tr><td>grad_norm</td><td>0.65319</td></tr><tr><td>loss</td><td>0.08165</td></tr><tr><td>success_rate</td><td>0.09091</td></tr><tr><td>total_reward</td><td>0.0</td></tr><tr><td>weight_norm</td><td>1.07674</td></tr></table><br/></div></div>"
     },
     "metadata": {},
     "output_type": "display_data"
    },
    {
     "data": {
      "text/plain": "<IPython.core.display.HTML object>",
      "text/html": " View run <strong style=\"color:#cdcd00\">trial_1</strong> at: <a href='https://wandb.ai/loyd-team/optuna_hyperparameter_optimization/runs/paymz9ns' target=\"_blank\">https://wandb.ai/loyd-team/optuna_hyperparameter_optimization/runs/paymz9ns</a><br/> View job at <a href='https://wandb.ai/loyd-team/optuna_hyperparameter_optimization/jobs/QXJ0aWZhY3RDb2xsZWN0aW9uOjEyNTY5OTE1NA==/version_details/v0' target=\"_blank\">https://wandb.ai/loyd-team/optuna_hyperparameter_optimization/jobs/QXJ0aWZhY3RDb2xsZWN0aW9uOjEyNTY5OTE1NA==/version_details/v0</a><br/>Synced 6 W&B file(s), 0 media file(s), 0 artifact file(s) and 0 other file(s)"
     },
     "metadata": {},
     "output_type": "display_data"
    },
    {
     "data": {
      "text/plain": "<IPython.core.display.HTML object>",
      "text/html": "Find logs at: <code>./wandb/run-20231225_231504-paymz9ns/logs</code>"
     },
     "metadata": {},
     "output_type": "display_data"
    },
    {
     "data": {
      "text/plain": "<IPython.core.display.HTML object>",
      "text/html": "Successfully finished last run (ID:paymz9ns). Initializing new run:<br/>"
     },
     "metadata": {},
     "output_type": "display_data"
    },
    {
     "data": {
      "text/plain": "VBox(children=(Label(value='Waiting for wandb.init()...\\r'), FloatProgress(value=0.011146078233529503, max=1.0…",
      "application/vnd.jupyter.widget-view+json": {
       "version_major": 2,
       "version_minor": 0,
       "model_id": "37694a784b8b4873accfff96970585a2"
      }
     },
     "metadata": {},
     "output_type": "display_data"
    },
    {
     "data": {
      "text/plain": "<IPython.core.display.HTML object>",
      "text/html": "Tracking run with wandb version 0.16.1"
     },
     "metadata": {},
     "output_type": "display_data"
    },
    {
     "data": {
      "text/plain": "<IPython.core.display.HTML object>",
      "text/html": "Run data is saved locally in <code>/Users/loyd/PycharmProjects/PytorchPractice/notebooks/wandb/run-20231225_231604-2xs6qw77</code>"
     },
     "metadata": {},
     "output_type": "display_data"
    },
    {
     "data": {
      "text/plain": "<IPython.core.display.HTML object>",
      "text/html": "Syncing run <strong><a href='https://wandb.ai/loyd-team/optuna_hyperparameter_optimization/runs/2xs6qw77' target=\"_blank\">trial_0</a></strong> to <a href='https://wandb.ai/loyd-team/optuna_hyperparameter_optimization' target=\"_blank\">Weights & Biases</a> (<a href='https://wandb.me/run' target=\"_blank\">docs</a>)<br/>"
     },
     "metadata": {},
     "output_type": "display_data"
    },
    {
     "data": {
      "text/plain": "<IPython.core.display.HTML object>",
      "text/html": " View project at <a href='https://wandb.ai/loyd-team/optuna_hyperparameter_optimization' target=\"_blank\">https://wandb.ai/loyd-team/optuna_hyperparameter_optimization</a>"
     },
     "metadata": {},
     "output_type": "display_data"
    },
    {
     "data": {
      "text/plain": "<IPython.core.display.HTML object>",
      "text/html": " View run at <a href='https://wandb.ai/loyd-team/optuna_hyperparameter_optimization/runs/2xs6qw77' target=\"_blank\">https://wandb.ai/loyd-team/optuna_hyperparameter_optimization/runs/2xs6qw77</a>"
     },
     "metadata": {},
     "output_type": "display_data"
    },
    {
     "name": "stderr",
     "output_type": "stream",
     "text": [
      "[I 2023-12-25 23:16:27,251] Trial 0 finished with value: 0.12796662757680324 and parameters: {'learning_rate': 0.03767756179511895, 'gamma': 0.8020938554845787, 'epsilon_start': 0.6154812050342213, 'epsilon_decay': 0.9982932666540032}. Best is trial 0 with value: 0.12796662757680324.\n"
     ]
    },
    {
     "data": {
      "text/plain": "<IPython.core.display.HTML object>",
      "text/html": "Finishing last run (ID:2xs6qw77) before initializing another..."
     },
     "metadata": {},
     "output_type": "display_data"
    },
    {
     "data": {
      "text/plain": "VBox(children=(Label(value='0.001 MB of 0.001 MB uploaded\\r'), FloatProgress(value=1.0, max=1.0)))",
      "application/vnd.jupyter.widget-view+json": {
       "version_major": 2,
       "version_minor": 0,
       "model_id": "2e9ee34b1e7a45f682288caadb3adbd8"
      }
     },
     "metadata": {},
     "output_type": "display_data"
    },
    {
     "data": {
      "text/plain": "<IPython.core.display.HTML object>",
      "text/html": "<style>\n    table.wandb td:nth-child(1) { padding: 0 10px; text-align: left ; width: auto;} td:nth-child(2) {text-align: left ; width: 100%}\n    .wandb-row { display: flex; flex-direction: row; flex-wrap: wrap; justify-content: flex-start; width: 100% }\n    .wandb-col { display: flex; flex-direction: column; flex-basis: 100%; flex: 1; padding: 10px; }\n    </style>\n<div class=\"wandb-row\"><div class=\"wandb-col\"><h3>Run history:</h3><br/><table class=\"wandb\"><tr><td>bias_norm</td><td>▁▇██▃▆▄▅▄▇▄</td></tr><tr><td>episode_length</td><td>▁▁▂▂▁▃▃▁█▃▁</td></tr><tr><td>epsilon</td><td>█▇▆▆▅▄▃▃▂▂▁</td></tr><tr><td>grad_norm</td><td>▁▂▂▁▁▁▁▁▆█▅</td></tr><tr><td>loss</td><td>▁▂▂▁▁▁▁▁▆█▅</td></tr><tr><td>success_rate</td><td>▁▅▄▆▅▆▇▇▇██</td></tr><tr><td>total_reward</td><td>▁▁▁▁▁██▁▁▁▁</td></tr><tr><td>weight_norm</td><td>▁▄▄▅▅▅▅█▄▅▆</td></tr></table><br/></div><div class=\"wandb-col\"><h3>Run summary:</h3><br/><table class=\"wandb\"><tr><td>bias_norm</td><td>0.30438</td></tr><tr><td>episode_length</td><td>4</td></tr><tr><td>epsilon</td><td>0.36869</td></tr><tr><td>grad_norm</td><td>1.77415</td></tr><tr><td>loss</td><td>0.22177</td></tr><tr><td>success_rate</td><td>0.17</td></tr><tr><td>total_reward</td><td>0.0</td></tr><tr><td>weight_norm</td><td>5.90829</td></tr></table><br/></div></div>"
     },
     "metadata": {},
     "output_type": "display_data"
    },
    {
     "data": {
      "text/plain": "<IPython.core.display.HTML object>",
      "text/html": " View run <strong style=\"color:#cdcd00\">trial_0</strong> at: <a href='https://wandb.ai/loyd-team/optuna_hyperparameter_optimization/runs/2xs6qw77' target=\"_blank\">https://wandb.ai/loyd-team/optuna_hyperparameter_optimization/runs/2xs6qw77</a><br/> View job at <a href='https://wandb.ai/loyd-team/optuna_hyperparameter_optimization/jobs/QXJ0aWZhY3RDb2xsZWN0aW9uOjEyNTY5OTE1NA==/version_details/v0' target=\"_blank\">https://wandb.ai/loyd-team/optuna_hyperparameter_optimization/jobs/QXJ0aWZhY3RDb2xsZWN0aW9uOjEyNTY5OTE1NA==/version_details/v0</a><br/>Synced 6 W&B file(s), 0 media file(s), 0 artifact file(s) and 0 other file(s)"
     },
     "metadata": {},
     "output_type": "display_data"
    },
    {
     "data": {
      "text/plain": "<IPython.core.display.HTML object>",
      "text/html": "Find logs at: <code>./wandb/run-20231225_231604-2xs6qw77/logs</code>"
     },
     "metadata": {},
     "output_type": "display_data"
    },
    {
     "data": {
      "text/plain": "<IPython.core.display.HTML object>",
      "text/html": "Successfully finished last run (ID:2xs6qw77). Initializing new run:<br/>"
     },
     "metadata": {},
     "output_type": "display_data"
    },
    {
     "data": {
      "text/plain": "VBox(children=(Label(value='Waiting for wandb.init()...\\r'), FloatProgress(value=0.011136901855611035, max=1.0…",
      "application/vnd.jupyter.widget-view+json": {
       "version_major": 2,
       "version_minor": 0,
       "model_id": "7be1562ac1f04d9d990b4b133ff5a41b"
      }
     },
     "metadata": {},
     "output_type": "display_data"
    },
    {
     "data": {
      "text/plain": "<IPython.core.display.HTML object>",
      "text/html": "Tracking run with wandb version 0.16.1"
     },
     "metadata": {},
     "output_type": "display_data"
    },
    {
     "data": {
      "text/plain": "<IPython.core.display.HTML object>",
      "text/html": "Run data is saved locally in <code>/Users/loyd/PycharmProjects/PytorchPractice/notebooks/wandb/run-20231225_231627-zdqzjfcs</code>"
     },
     "metadata": {},
     "output_type": "display_data"
    },
    {
     "data": {
      "text/plain": "<IPython.core.display.HTML object>",
      "text/html": "Syncing run <strong><a href='https://wandb.ai/loyd-team/optuna_hyperparameter_optimization/runs/zdqzjfcs' target=\"_blank\">trial_1</a></strong> to <a href='https://wandb.ai/loyd-team/optuna_hyperparameter_optimization' target=\"_blank\">Weights & Biases</a> (<a href='https://wandb.me/run' target=\"_blank\">docs</a>)<br/>"
     },
     "metadata": {},
     "output_type": "display_data"
    },
    {
     "data": {
      "text/plain": "<IPython.core.display.HTML object>",
      "text/html": " View project at <a href='https://wandb.ai/loyd-team/optuna_hyperparameter_optimization' target=\"_blank\">https://wandb.ai/loyd-team/optuna_hyperparameter_optimization</a>"
     },
     "metadata": {},
     "output_type": "display_data"
    },
    {
     "data": {
      "text/plain": "<IPython.core.display.HTML object>",
      "text/html": " View run at <a href='https://wandb.ai/loyd-team/optuna_hyperparameter_optimization/runs/zdqzjfcs' target=\"_blank\">https://wandb.ai/loyd-team/optuna_hyperparameter_optimization/runs/zdqzjfcs</a>"
     },
     "metadata": {},
     "output_type": "display_data"
    },
    {
     "name": "stderr",
     "output_type": "stream",
     "text": [
      "[I 2023-12-25 23:16:40,447] Trial 1 finished with value: 0.0 and parameters: {'learning_rate': 1.1624474055308792e-05, 'gamma': 0.9528753283711036, 'epsilon_start': 0.3790573677053474, 'epsilon_decay': 0.9968805464419709}. Best is trial 0 with value: 0.12796662757680324.\n"
     ]
    },
    {
     "data": {
      "text/plain": "<IPython.core.display.HTML object>",
      "text/html": "Finishing last run (ID:zdqzjfcs) before initializing another..."
     },
     "metadata": {},
     "output_type": "display_data"
    },
    {
     "data": {
      "text/plain": "VBox(children=(Label(value='0.001 MB of 0.001 MB uploaded\\r'), FloatProgress(value=1.0, max=1.0)))",
      "application/vnd.jupyter.widget-view+json": {
       "version_major": 2,
       "version_minor": 0,
       "model_id": "3c4545e51c61444aaa0eb71f7117420e"
      }
     },
     "metadata": {},
     "output_type": "display_data"
    },
    {
     "data": {
      "text/plain": "<IPython.core.display.HTML object>",
      "text/html": "<style>\n    table.wandb td:nth-child(1) { padding: 0 10px; text-align: left ; width: auto;} td:nth-child(2) {text-align: left ; width: 100%}\n    .wandb-row { display: flex; flex-direction: row; flex-wrap: wrap; justify-content: flex-start; width: 100% }\n    .wandb-col { display: flex; flex-direction: column; flex-basis: 100%; flex: 1; padding: 10px; }\n    </style>\n<div class=\"wandb-row\"><div class=\"wandb-col\"><h3>Run history:</h3><br/><table class=\"wandb\"><tr><td>bias_norm</td><td>█▇▇▆▅▄▄▃▂▂▁</td></tr><tr><td>episode_length</td><td>▁██▁▅▁▁▅▁▁▁</td></tr><tr><td>epsilon</td><td>█▇▆▅▄▄▃▂▂▁▁</td></tr><tr><td>grad_norm</td><td>█▇▆▆▅▄▄▃▂▂▁</td></tr><tr><td>loss</td><td>█▇▆▆▅▄▄▃▂▂▁</td></tr><tr><td>success_rate</td><td>▁▁▁▁▁▁▁▁▁▁▁</td></tr><tr><td>total_reward</td><td>▁▁▁▁▁▁▁▁▁▁▁</td></tr><tr><td>weight_norm</td><td>█▇▇▆▅▄▄▃▂▂▁</td></tr></table><br/></div><div class=\"wandb-col\"><h3>Run summary:</h3><br/><table class=\"wandb\"><tr><td>bias_norm</td><td>0.07159</td></tr><tr><td>episode_length</td><td>3</td></tr><tr><td>epsilon</td><td>0.14847</td></tr><tr><td>grad_norm</td><td>0.14672</td></tr><tr><td>loss</td><td>0.01834</td></tr><tr><td>success_rate</td><td>0.0</td></tr><tr><td>total_reward</td><td>0.0</td></tr><tr><td>weight_norm</td><td>1.33896</td></tr></table><br/></div></div>"
     },
     "metadata": {},
     "output_type": "display_data"
    },
    {
     "data": {
      "text/plain": "<IPython.core.display.HTML object>",
      "text/html": " View run <strong style=\"color:#cdcd00\">trial_1</strong> at: <a href='https://wandb.ai/loyd-team/optuna_hyperparameter_optimization/runs/zdqzjfcs' target=\"_blank\">https://wandb.ai/loyd-team/optuna_hyperparameter_optimization/runs/zdqzjfcs</a><br/> View job at <a href='https://wandb.ai/loyd-team/optuna_hyperparameter_optimization/jobs/QXJ0aWZhY3RDb2xsZWN0aW9uOjEyNTY5OTE1NA==/version_details/v0' target=\"_blank\">https://wandb.ai/loyd-team/optuna_hyperparameter_optimization/jobs/QXJ0aWZhY3RDb2xsZWN0aW9uOjEyNTY5OTE1NA==/version_details/v0</a><br/>Synced 6 W&B file(s), 0 media file(s), 0 artifact file(s) and 0 other file(s)"
     },
     "metadata": {},
     "output_type": "display_data"
    },
    {
     "data": {
      "text/plain": "<IPython.core.display.HTML object>",
      "text/html": "Find logs at: <code>./wandb/run-20231225_231627-zdqzjfcs/logs</code>"
     },
     "metadata": {},
     "output_type": "display_data"
    },
    {
     "data": {
      "text/plain": "<IPython.core.display.HTML object>",
      "text/html": "Successfully finished last run (ID:zdqzjfcs). Initializing new run:<br/>"
     },
     "metadata": {},
     "output_type": "display_data"
    },
    {
     "data": {
      "text/plain": "VBox(children=(Label(value='Waiting for wandb.init()...\\r'), FloatProgress(value=0.011167978700056362, max=1.0…",
      "application/vnd.jupyter.widget-view+json": {
       "version_major": 2,
       "version_minor": 0,
       "model_id": "f5bcbec188cf4ebea98dd8b39405ed87"
      }
     },
     "metadata": {},
     "output_type": "display_data"
    },
    {
     "data": {
      "text/plain": "<IPython.core.display.HTML object>",
      "text/html": "Tracking run with wandb version 0.16.1"
     },
     "metadata": {},
     "output_type": "display_data"
    },
    {
     "data": {
      "text/plain": "<IPython.core.display.HTML object>",
      "text/html": "Run data is saved locally in <code>/Users/loyd/PycharmProjects/PytorchPractice/notebooks/wandb/run-20231225_231640-fmdtq5en</code>"
     },
     "metadata": {},
     "output_type": "display_data"
    },
    {
     "data": {
      "text/plain": "<IPython.core.display.HTML object>",
      "text/html": "Syncing run <strong><a href='https://wandb.ai/loyd-team/optuna_hyperparameter_optimization/runs/fmdtq5en' target=\"_blank\">trial_2</a></strong> to <a href='https://wandb.ai/loyd-team/optuna_hyperparameter_optimization' target=\"_blank\">Weights & Biases</a> (<a href='https://wandb.me/run' target=\"_blank\">docs</a>)<br/>"
     },
     "metadata": {},
     "output_type": "display_data"
    },
    {
     "data": {
      "text/plain": "<IPython.core.display.HTML object>",
      "text/html": " View project at <a href='https://wandb.ai/loyd-team/optuna_hyperparameter_optimization' target=\"_blank\">https://wandb.ai/loyd-team/optuna_hyperparameter_optimization</a>"
     },
     "metadata": {},
     "output_type": "display_data"
    },
    {
     "data": {
      "text/plain": "<IPython.core.display.HTML object>",
      "text/html": " View run at <a href='https://wandb.ai/loyd-team/optuna_hyperparameter_optimization/runs/fmdtq5en' target=\"_blank\">https://wandb.ai/loyd-team/optuna_hyperparameter_optimization/runs/fmdtq5en</a>"
     },
     "metadata": {},
     "output_type": "display_data"
    },
    {
     "name": "stderr",
     "output_type": "stream",
     "text": [
      "[I 2023-12-25 23:17:02,532] Trial 2 finished with value: 0.14066288775690605 and parameters: {'learning_rate': 0.00295910180082949, 'gamma': 0.9672540580429354, 'epsilon_start': 0.43193307368144274, 'epsilon_decay': 0.9995040547317204}. Best is trial 2 with value: 0.14066288775690605.\n"
     ]
    },
    {
     "data": {
      "text/plain": "<IPython.core.display.HTML object>",
      "text/html": "Finishing last run (ID:fmdtq5en) before initializing another..."
     },
     "metadata": {},
     "output_type": "display_data"
    },
    {
     "data": {
      "text/plain": "VBox(children=(Label(value='0.001 MB of 0.001 MB uploaded\\r'), FloatProgress(value=1.0, max=1.0)))",
      "application/vnd.jupyter.widget-view+json": {
       "version_major": 2,
       "version_minor": 0,
       "model_id": "d860b2cd9ce34e55b067b0f1b494c6e8"
      }
     },
     "metadata": {},
     "output_type": "display_data"
    },
    {
     "data": {
      "text/plain": "<IPython.core.display.HTML object>",
      "text/html": "<style>\n    table.wandb td:nth-child(1) { padding: 0 10px; text-align: left ; width: auto;} td:nth-child(2) {text-align: left ; width: 100%}\n    .wandb-row { display: flex; flex-direction: row; flex-wrap: wrap; justify-content: flex-start; width: 100% }\n    .wandb-col { display: flex; flex-direction: column; flex-basis: 100%; flex: 1; padding: 10px; }\n    </style>\n<div class=\"wandb-row\"><div class=\"wandb-col\"><h3>Run history:</h3><br/><table class=\"wandb\"><tr><td>bias_norm</td><td>▁▁▁▁▂▆█████</td></tr><tr><td>episode_length</td><td>█▁█▁▃▄▃▆▂▄▇</td></tr><tr><td>epsilon</td><td>█▇▇▆▅▄▄▃▂▂▁</td></tr><tr><td>grad_norm</td><td>█▁▁▁▁▁▁▂▁▁▁</td></tr><tr><td>loss</td><td>█▁▁▁▁▁▁▂▁▁▁</td></tr><tr><td>success_rate</td><td>▁▁▁▁▂▄▅▆▇▇█</td></tr><tr><td>total_reward</td><td>▁▁▁▁▁█▁▁▁██</td></tr><tr><td>weight_norm</td><td>▂▁▁▁▂▅▇████</td></tr></table><br/></div><div class=\"wandb-col\"><h3>Run summary:</h3><br/><table class=\"wandb\"><tr><td>bias_norm</td><td>1.36893</td></tr><tr><td>episode_length</td><td>14</td></tr><tr><td>epsilon</td><td>0.37221</td></tr><tr><td>grad_norm</td><td>3e-05</td></tr><tr><td>loss</td><td>0.0</td></tr><tr><td>success_rate</td><td>0.34</td></tr><tr><td>total_reward</td><td>1.0</td></tr><tr><td>weight_norm</td><td>4.22454</td></tr></table><br/></div></div>"
     },
     "metadata": {},
     "output_type": "display_data"
    },
    {
     "data": {
      "text/plain": "<IPython.core.display.HTML object>",
      "text/html": " View run <strong style=\"color:#cdcd00\">trial_2</strong> at: <a href='https://wandb.ai/loyd-team/optuna_hyperparameter_optimization/runs/fmdtq5en' target=\"_blank\">https://wandb.ai/loyd-team/optuna_hyperparameter_optimization/runs/fmdtq5en</a><br/> View job at <a href='https://wandb.ai/loyd-team/optuna_hyperparameter_optimization/jobs/QXJ0aWZhY3RDb2xsZWN0aW9uOjEyNTY5OTE1NA==/version_details/v0' target=\"_blank\">https://wandb.ai/loyd-team/optuna_hyperparameter_optimization/jobs/QXJ0aWZhY3RDb2xsZWN0aW9uOjEyNTY5OTE1NA==/version_details/v0</a><br/>Synced 6 W&B file(s), 0 media file(s), 0 artifact file(s) and 0 other file(s)"
     },
     "metadata": {},
     "output_type": "display_data"
    },
    {
     "data": {
      "text/plain": "<IPython.core.display.HTML object>",
      "text/html": "Find logs at: <code>./wandb/run-20231225_231640-fmdtq5en/logs</code>"
     },
     "metadata": {},
     "output_type": "display_data"
    },
    {
     "data": {
      "text/plain": "<IPython.core.display.HTML object>",
      "text/html": "Successfully finished last run (ID:fmdtq5en). Initializing new run:<br/>"
     },
     "metadata": {},
     "output_type": "display_data"
    },
    {
     "data": {
      "text/plain": "VBox(children=(Label(value='Waiting for wandb.init()...\\r'), FloatProgress(value=0.011167597688876816, max=1.0…",
      "application/vnd.jupyter.widget-view+json": {
       "version_major": 2,
       "version_minor": 0,
       "model_id": "81b558d39e1d49f5b9452fb3168cf7cc"
      }
     },
     "metadata": {},
     "output_type": "display_data"
    },
    {
     "data": {
      "text/plain": "<IPython.core.display.HTML object>",
      "text/html": "Tracking run with wandb version 0.16.1"
     },
     "metadata": {},
     "output_type": "display_data"
    },
    {
     "data": {
      "text/plain": "<IPython.core.display.HTML object>",
      "text/html": "Run data is saved locally in <code>/Users/loyd/PycharmProjects/PytorchPractice/notebooks/wandb/run-20231225_231702-43ngrwdi</code>"
     },
     "metadata": {},
     "output_type": "display_data"
    },
    {
     "data": {
      "text/plain": "<IPython.core.display.HTML object>",
      "text/html": "Syncing run <strong><a href='https://wandb.ai/loyd-team/optuna_hyperparameter_optimization/runs/43ngrwdi' target=\"_blank\">trial_3</a></strong> to <a href='https://wandb.ai/loyd-team/optuna_hyperparameter_optimization' target=\"_blank\">Weights & Biases</a> (<a href='https://wandb.me/run' target=\"_blank\">docs</a>)<br/>"
     },
     "metadata": {},
     "output_type": "display_data"
    },
    {
     "data": {
      "text/plain": "<IPython.core.display.HTML object>",
      "text/html": " View project at <a href='https://wandb.ai/loyd-team/optuna_hyperparameter_optimization' target=\"_blank\">https://wandb.ai/loyd-team/optuna_hyperparameter_optimization</a>"
     },
     "metadata": {},
     "output_type": "display_data"
    },
    {
     "data": {
      "text/plain": "<IPython.core.display.HTML object>",
      "text/html": " View run at <a href='https://wandb.ai/loyd-team/optuna_hyperparameter_optimization/runs/43ngrwdi' target=\"_blank\">https://wandb.ai/loyd-team/optuna_hyperparameter_optimization/runs/43ngrwdi</a>"
     },
     "metadata": {},
     "output_type": "display_data"
    },
    {
     "name": "stderr",
     "output_type": "stream",
     "text": [
      "[I 2023-12-25 23:17:27,461] Trial 3 finished with value: 0.020230375187966394 and parameters: {'learning_rate': 0.0011307891149950162, 'gamma': 0.9515386116320353, 'epsilon_start': 0.5097231626909285, 'epsilon_decay': 0.999790565769824}. Best is trial 2 with value: 0.14066288775690605.\n"
     ]
    },
    {
     "data": {
      "text/plain": "<IPython.core.display.HTML object>",
      "text/html": "Finishing last run (ID:43ngrwdi) before initializing another..."
     },
     "metadata": {},
     "output_type": "display_data"
    },
    {
     "data": {
      "text/plain": "VBox(children=(Label(value='0.001 MB of 0.001 MB uploaded\\r'), FloatProgress(value=1.0, max=1.0)))",
      "application/vnd.jupyter.widget-view+json": {
       "version_major": 2,
       "version_minor": 0,
       "model_id": "72e6501208504bd384d81ee3114580a4"
      }
     },
     "metadata": {},
     "output_type": "display_data"
    },
    {
     "data": {
      "text/plain": "<IPython.core.display.HTML object>",
      "text/html": "<style>\n    table.wandb td:nth-child(1) { padding: 0 10px; text-align: left ; width: auto;} td:nth-child(2) {text-align: left ; width: 100%}\n    .wandb-row { display: flex; flex-direction: row; flex-wrap: wrap; justify-content: flex-start; width: 100% }\n    .wandb-col { display: flex; flex-direction: column; flex-basis: 100%; flex: 1; padding: 10px; }\n    </style>\n<div class=\"wandb-row\"><div class=\"wandb-col\"><h3>Run history:</h3><br/><table class=\"wandb\"><tr><td>bias_norm</td><td>█▁▂▃▅▇▆▅▄▄▆</td></tr><tr><td>episode_length</td><td>▃▄▂▂▃▂▃▇█▁▃</td></tr><tr><td>epsilon</td><td>█▇▇▆▅▄▄▃▂▂▁</td></tr><tr><td>grad_norm</td><td>█▁▁▁▂▁▁▁▁▁▁</td></tr><tr><td>loss</td><td>█▁▁▁▂▁▁▁▁▁▁</td></tr><tr><td>success_rate</td><td>▁▁▁▁▇▇▇▆▆▇█</td></tr><tr><td>total_reward</td><td>▁▁▁▁▁▁▁▁▁▁▁</td></tr><tr><td>weight_norm</td><td>█▇▆▅▄▃▂▂▁▁▁</td></tr></table><br/></div><div class=\"wandb-col\"><h3>Run summary:</h3><br/><table class=\"wandb\"><tr><td>bias_norm</td><td>0.05358</td></tr><tr><td>episode_length</td><td>10</td></tr><tr><td>epsilon</td><td>0.47868</td></tr><tr><td>grad_norm</td><td>1e-05</td></tr><tr><td>loss</td><td>0.0</td></tr><tr><td>success_rate</td><td>0.03667</td></tr><tr><td>total_reward</td><td>0.0</td></tr><tr><td>weight_norm</td><td>0.53234</td></tr></table><br/></div></div>"
     },
     "metadata": {},
     "output_type": "display_data"
    },
    {
     "data": {
      "text/plain": "<IPython.core.display.HTML object>",
      "text/html": " View run <strong style=\"color:#cdcd00\">trial_3</strong> at: <a href='https://wandb.ai/loyd-team/optuna_hyperparameter_optimization/runs/43ngrwdi' target=\"_blank\">https://wandb.ai/loyd-team/optuna_hyperparameter_optimization/runs/43ngrwdi</a><br/> View job at <a href='https://wandb.ai/loyd-team/optuna_hyperparameter_optimization/jobs/QXJ0aWZhY3RDb2xsZWN0aW9uOjEyNTY5OTE1NA==/version_details/v0' target=\"_blank\">https://wandb.ai/loyd-team/optuna_hyperparameter_optimization/jobs/QXJ0aWZhY3RDb2xsZWN0aW9uOjEyNTY5OTE1NA==/version_details/v0</a><br/>Synced 6 W&B file(s), 0 media file(s), 0 artifact file(s) and 0 other file(s)"
     },
     "metadata": {},
     "output_type": "display_data"
    },
    {
     "data": {
      "text/plain": "<IPython.core.display.HTML object>",
      "text/html": "Find logs at: <code>./wandb/run-20231225_231702-43ngrwdi/logs</code>"
     },
     "metadata": {},
     "output_type": "display_data"
    },
    {
     "data": {
      "text/plain": "<IPython.core.display.HTML object>",
      "text/html": "Successfully finished last run (ID:43ngrwdi). Initializing new run:<br/>"
     },
     "metadata": {},
     "output_type": "display_data"
    },
    {
     "data": {
      "text/plain": "VBox(children=(Label(value='Waiting for wandb.init()...\\r'), FloatProgress(value=0.011117095366676545, max=1.0…",
      "application/vnd.jupyter.widget-view+json": {
       "version_major": 2,
       "version_minor": 0,
       "model_id": "57bbbf455bdb489a949d393b1a1f534c"
      }
     },
     "metadata": {},
     "output_type": "display_data"
    },
    {
     "data": {
      "text/plain": "<IPython.core.display.HTML object>",
      "text/html": "Tracking run with wandb version 0.16.1"
     },
     "metadata": {},
     "output_type": "display_data"
    },
    {
     "data": {
      "text/plain": "<IPython.core.display.HTML object>",
      "text/html": "Run data is saved locally in <code>/Users/loyd/PycharmProjects/PytorchPractice/notebooks/wandb/run-20231225_231727-tfhabxmw</code>"
     },
     "metadata": {},
     "output_type": "display_data"
    },
    {
     "data": {
      "text/plain": "<IPython.core.display.HTML object>",
      "text/html": "Syncing run <strong><a href='https://wandb.ai/loyd-team/optuna_hyperparameter_optimization/runs/tfhabxmw' target=\"_blank\">trial_4</a></strong> to <a href='https://wandb.ai/loyd-team/optuna_hyperparameter_optimization' target=\"_blank\">Weights & Biases</a> (<a href='https://wandb.me/run' target=\"_blank\">docs</a>)<br/>"
     },
     "metadata": {},
     "output_type": "display_data"
    },
    {
     "data": {
      "text/plain": "<IPython.core.display.HTML object>",
      "text/html": " View project at <a href='https://wandb.ai/loyd-team/optuna_hyperparameter_optimization' target=\"_blank\">https://wandb.ai/loyd-team/optuna_hyperparameter_optimization</a>"
     },
     "metadata": {},
     "output_type": "display_data"
    },
    {
     "data": {
      "text/plain": "<IPython.core.display.HTML object>",
      "text/html": " View run at <a href='https://wandb.ai/loyd-team/optuna_hyperparameter_optimization/runs/tfhabxmw' target=\"_blank\">https://wandb.ai/loyd-team/optuna_hyperparameter_optimization/runs/tfhabxmw</a>"
     },
     "metadata": {},
     "output_type": "display_data"
    },
    {
     "name": "stderr",
     "output_type": "stream",
     "text": [
      "[I 2023-12-25 23:17:53,996] Trial 4 finished with value: 0.16833328407964757 and parameters: {'learning_rate': 0.003812889451556125, 'gamma': 0.984854846034387, 'epsilon_start': 0.34845995156085857, 'epsilon_decay': 0.999262479284262}. Best is trial 4 with value: 0.16833328407964757.\n"
     ]
    },
    {
     "data": {
      "text/plain": "<IPython.core.display.HTML object>",
      "text/html": "Finishing last run (ID:tfhabxmw) before initializing another..."
     },
     "metadata": {},
     "output_type": "display_data"
    },
    {
     "data": {
      "text/plain": "VBox(children=(Label(value='0.001 MB of 0.001 MB uploaded\\r'), FloatProgress(value=1.0, max=1.0)))",
      "application/vnd.jupyter.widget-view+json": {
       "version_major": 2,
       "version_minor": 0,
       "model_id": "d9deba8f68114184aa53200344e366d8"
      }
     },
     "metadata": {},
     "output_type": "display_data"
    },
    {
     "data": {
      "text/plain": "<IPython.core.display.HTML object>",
      "text/html": "<style>\n    table.wandb td:nth-child(1) { padding: 0 10px; text-align: left ; width: auto;} td:nth-child(2) {text-align: left ; width: 100%}\n    .wandb-row { display: flex; flex-direction: row; flex-wrap: wrap; justify-content: flex-start; width: 100% }\n    .wandb-col { display: flex; flex-direction: column; flex-basis: 100%; flex: 1; padding: 10px; }\n    </style>\n<div class=\"wandb-row\"><div class=\"wandb-col\"><h3>Run history:</h3><br/><table class=\"wandb\"><tr><td>bias_norm</td><td>▁▁▁▂▂▆██▇▇█</td></tr><tr><td>episode_length</td><td>▁█▁▃▅▁▁▂▂▂▂</td></tr><tr><td>epsilon</td><td>█▇▆▆▅▄▄▃▂▂▁</td></tr><tr><td>grad_norm</td><td>█▁▁▁▅▆▁▁▁▂▄</td></tr><tr><td>loss</td><td>█▁▁▁▅▆▁▁▁▂▄</td></tr><tr><td>success_rate</td><td>▁▂▁▂▂▃▅▆▇██</td></tr><tr><td>total_reward</td><td>▁▁▁▁█▁▁██▁▁</td></tr><tr><td>weight_norm</td><td>▁▁▁▁▂▄▅▆▇▇█</td></tr></table><br/></div><div class=\"wandb-col\"><h3>Run summary:</h3><br/><table class=\"wandb\"><tr><td>bias_norm</td><td>1.61347</td></tr><tr><td>episode_length</td><td>8</td></tr><tr><td>epsilon</td><td>0.27927</td></tr><tr><td>grad_norm</td><td>0.26952</td></tr><tr><td>loss</td><td>0.03369</td></tr><tr><td>success_rate</td><td>0.39333</td></tr><tr><td>total_reward</td><td>0.0</td></tr><tr><td>weight_norm</td><td>4.43481</td></tr></table><br/></div></div>"
     },
     "metadata": {},
     "output_type": "display_data"
    },
    {
     "data": {
      "text/plain": "<IPython.core.display.HTML object>",
      "text/html": " View run <strong style=\"color:#cdcd00\">trial_4</strong> at: <a href='https://wandb.ai/loyd-team/optuna_hyperparameter_optimization/runs/tfhabxmw' target=\"_blank\">https://wandb.ai/loyd-team/optuna_hyperparameter_optimization/runs/tfhabxmw</a><br/> View job at <a href='https://wandb.ai/loyd-team/optuna_hyperparameter_optimization/jobs/QXJ0aWZhY3RDb2xsZWN0aW9uOjEyNTY5OTE1NA==/version_details/v0' target=\"_blank\">https://wandb.ai/loyd-team/optuna_hyperparameter_optimization/jobs/QXJ0aWZhY3RDb2xsZWN0aW9uOjEyNTY5OTE1NA==/version_details/v0</a><br/>Synced 6 W&B file(s), 0 media file(s), 0 artifact file(s) and 0 other file(s)"
     },
     "metadata": {},
     "output_type": "display_data"
    },
    {
     "data": {
      "text/plain": "<IPython.core.display.HTML object>",
      "text/html": "Find logs at: <code>./wandb/run-20231225_231727-tfhabxmw/logs</code>"
     },
     "metadata": {},
     "output_type": "display_data"
    },
    {
     "data": {
      "text/plain": "<IPython.core.display.HTML object>",
      "text/html": "Successfully finished last run (ID:tfhabxmw). Initializing new run:<br/>"
     },
     "metadata": {},
     "output_type": "display_data"
    },
    {
     "data": {
      "text/plain": "VBox(children=(Label(value='Waiting for wandb.init()...\\r'), FloatProgress(value=0.011168736111075203, max=1.0…",
      "application/vnd.jupyter.widget-view+json": {
       "version_major": 2,
       "version_minor": 0,
       "model_id": "f61ac264a2cd41be9b3d513059570822"
      }
     },
     "metadata": {},
     "output_type": "display_data"
    },
    {
     "data": {
      "text/plain": "<IPython.core.display.HTML object>",
      "text/html": "Tracking run with wandb version 0.16.1"
     },
     "metadata": {},
     "output_type": "display_data"
    },
    {
     "data": {
      "text/plain": "<IPython.core.display.HTML object>",
      "text/html": "Run data is saved locally in <code>/Users/loyd/PycharmProjects/PytorchPractice/notebooks/wandb/run-20231225_231754-x1tyt4p3</code>"
     },
     "metadata": {},
     "output_type": "display_data"
    },
    {
     "data": {
      "text/plain": "<IPython.core.display.HTML object>",
      "text/html": "Syncing run <strong><a href='https://wandb.ai/loyd-team/optuna_hyperparameter_optimization/runs/x1tyt4p3' target=\"_blank\">trial_5</a></strong> to <a href='https://wandb.ai/loyd-team/optuna_hyperparameter_optimization' target=\"_blank\">Weights & Biases</a> (<a href='https://wandb.me/run' target=\"_blank\">docs</a>)<br/>"
     },
     "metadata": {},
     "output_type": "display_data"
    },
    {
     "data": {
      "text/plain": "<IPython.core.display.HTML object>",
      "text/html": " View project at <a href='https://wandb.ai/loyd-team/optuna_hyperparameter_optimization' target=\"_blank\">https://wandb.ai/loyd-team/optuna_hyperparameter_optimization</a>"
     },
     "metadata": {},
     "output_type": "display_data"
    },
    {
     "data": {
      "text/plain": "<IPython.core.display.HTML object>",
      "text/html": " View run at <a href='https://wandb.ai/loyd-team/optuna_hyperparameter_optimization/runs/x1tyt4p3' target=\"_blank\">https://wandb.ai/loyd-team/optuna_hyperparameter_optimization/runs/x1tyt4p3</a>"
     },
     "metadata": {},
     "output_type": "display_data"
    },
    {
     "name": "stderr",
     "output_type": "stream",
     "text": [
      "[I 2023-12-25 23:18:27,787] Trial 5 finished with value: 0.006936925521592787 and parameters: {'learning_rate': 7.669023814528631e-05, 'gamma': 0.8569210858579668, 'epsilon_start': 0.3608413821052196, 'epsilon_decay': 0.9961601004706376}. Best is trial 4 with value: 0.16833328407964757.\n"
     ]
    },
    {
     "data": {
      "text/plain": "<IPython.core.display.HTML object>",
      "text/html": "Finishing last run (ID:x1tyt4p3) before initializing another..."
     },
     "metadata": {},
     "output_type": "display_data"
    },
    {
     "data": {
      "text/plain": "VBox(children=(Label(value='0.001 MB of 0.001 MB uploaded\\r'), FloatProgress(value=1.0, max=1.0)))",
      "application/vnd.jupyter.widget-view+json": {
       "version_major": 2,
       "version_minor": 0,
       "model_id": "7bcab729fe84491f9573a84acdb89ddc"
      }
     },
     "metadata": {},
     "output_type": "display_data"
    },
    {
     "data": {
      "text/plain": "<IPython.core.display.HTML object>",
      "text/html": "<style>\n    table.wandb td:nth-child(1) { padding: 0 10px; text-align: left ; width: auto;} td:nth-child(2) {text-align: left ; width: 100%}\n    .wandb-row { display: flex; flex-direction: row; flex-wrap: wrap; justify-content: flex-start; width: 100% }\n    .wandb-col { display: flex; flex-direction: column; flex-basis: 100%; flex: 1; padding: 10px; }\n    </style>\n<div class=\"wandb-row\"><div class=\"wandb-col\"><h3>Run history:</h3><br/><table class=\"wandb\"><tr><td>bias_norm</td><td>█▇▇▆▅▄▃▃▂▁▁</td></tr><tr><td>episode_length</td><td>▄▂▂▁▂▃▃▁█▁▁</td></tr><tr><td>epsilon</td><td>█▇▆▅▄▄▃▂▂▁▁</td></tr><tr><td>grad_norm</td><td>▁▁█▁▇▆▅▄▄▃▃</td></tr><tr><td>loss</td><td>▁▁█▁▇▆▅▄▄▃▃</td></tr><tr><td>success_rate</td><td>▁▁█▆▅▄▃▃▃▃▂</td></tr><tr><td>total_reward</td><td>▁▁▁▁▁▁▁▁▁▁▁</td></tr><tr><td>weight_norm</td><td>█▇▇▆▆▅▄▃▂▂▁</td></tr></table><br/></div><div class=\"wandb-col\"><h3>Run summary:</h3><br/><table class=\"wandb\"><tr><td>bias_norm</td><td>0.02143</td></tr><tr><td>episode_length</td><td>2</td></tr><tr><td>epsilon</td><td>0.11378</td></tr><tr><td>grad_norm</td><td>0.16244</td></tr><tr><td>loss</td><td>0.0203</td></tr><tr><td>success_rate</td><td>0.00333</td></tr><tr><td>total_reward</td><td>0.0</td></tr><tr><td>weight_norm</td><td>1.28163</td></tr></table><br/></div></div>"
     },
     "metadata": {},
     "output_type": "display_data"
    },
    {
     "data": {
      "text/plain": "<IPython.core.display.HTML object>",
      "text/html": " View run <strong style=\"color:#cdcd00\">trial_5</strong> at: <a href='https://wandb.ai/loyd-team/optuna_hyperparameter_optimization/runs/x1tyt4p3' target=\"_blank\">https://wandb.ai/loyd-team/optuna_hyperparameter_optimization/runs/x1tyt4p3</a><br/> View job at <a href='https://wandb.ai/loyd-team/optuna_hyperparameter_optimization/jobs/QXJ0aWZhY3RDb2xsZWN0aW9uOjEyNTY5OTE1NA==/version_details/v0' target=\"_blank\">https://wandb.ai/loyd-team/optuna_hyperparameter_optimization/jobs/QXJ0aWZhY3RDb2xsZWN0aW9uOjEyNTY5OTE1NA==/version_details/v0</a><br/>Synced 6 W&B file(s), 0 media file(s), 0 artifact file(s) and 0 other file(s)"
     },
     "metadata": {},
     "output_type": "display_data"
    },
    {
     "data": {
      "text/plain": "<IPython.core.display.HTML object>",
      "text/html": "Find logs at: <code>./wandb/run-20231225_231754-x1tyt4p3/logs</code>"
     },
     "metadata": {},
     "output_type": "display_data"
    },
    {
     "data": {
      "text/plain": "<IPython.core.display.HTML object>",
      "text/html": "Successfully finished last run (ID:x1tyt4p3). Initializing new run:<br/>"
     },
     "metadata": {},
     "output_type": "display_data"
    },
    {
     "data": {
      "text/plain": "VBox(children=(Label(value='Waiting for wandb.init()...\\r'), FloatProgress(value=0.011212945366666342, max=1.0…",
      "application/vnd.jupyter.widget-view+json": {
       "version_major": 2,
       "version_minor": 0,
       "model_id": "91f47427bc704955ae59f5c7a438045e"
      }
     },
     "metadata": {},
     "output_type": "display_data"
    },
    {
     "data": {
      "text/plain": "<IPython.core.display.HTML object>",
      "text/html": "Tracking run with wandb version 0.16.1"
     },
     "metadata": {},
     "output_type": "display_data"
    },
    {
     "data": {
      "text/plain": "<IPython.core.display.HTML object>",
      "text/html": "Run data is saved locally in <code>/Users/loyd/PycharmProjects/PytorchPractice/notebooks/wandb/run-20231225_231827-9kj3t5lw</code>"
     },
     "metadata": {},
     "output_type": "display_data"
    },
    {
     "data": {
      "text/plain": "<IPython.core.display.HTML object>",
      "text/html": "Syncing run <strong><a href='https://wandb.ai/loyd-team/optuna_hyperparameter_optimization/runs/9kj3t5lw' target=\"_blank\">trial_6</a></strong> to <a href='https://wandb.ai/loyd-team/optuna_hyperparameter_optimization' target=\"_blank\">Weights & Biases</a> (<a href='https://wandb.me/run' target=\"_blank\">docs</a>)<br/>"
     },
     "metadata": {},
     "output_type": "display_data"
    },
    {
     "data": {
      "text/plain": "<IPython.core.display.HTML object>",
      "text/html": " View project at <a href='https://wandb.ai/loyd-team/optuna_hyperparameter_optimization' target=\"_blank\">https://wandb.ai/loyd-team/optuna_hyperparameter_optimization</a>"
     },
     "metadata": {},
     "output_type": "display_data"
    },
    {
     "data": {
      "text/plain": "<IPython.core.display.HTML object>",
      "text/html": " View run at <a href='https://wandb.ai/loyd-team/optuna_hyperparameter_optimization/runs/9kj3t5lw' target=\"_blank\">https://wandb.ai/loyd-team/optuna_hyperparameter_optimization/runs/9kj3t5lw</a>"
     },
     "metadata": {},
     "output_type": "display_data"
    },
    {
     "name": "stderr",
     "output_type": "stream",
     "text": [
      "[I 2023-12-25 23:18:42,503] Trial 6 finished with value: 0.00518445168352967 and parameters: {'learning_rate': 0.00015798437043685934, 'gamma': 0.8789772376386791, 'epsilon_start': 0.7874231676855163, 'epsilon_decay': 0.9979771559821932}. Best is trial 4 with value: 0.16833328407964757.\n"
     ]
    },
    {
     "data": {
      "text/plain": "<IPython.core.display.HTML object>",
      "text/html": "Finishing last run (ID:9kj3t5lw) before initializing another..."
     },
     "metadata": {},
     "output_type": "display_data"
    },
    {
     "data": {
      "text/plain": "VBox(children=(Label(value='0.001 MB of 0.001 MB uploaded\\r'), FloatProgress(value=1.0, max=1.0)))",
      "application/vnd.jupyter.widget-view+json": {
       "version_major": 2,
       "version_minor": 0,
       "model_id": "7c3ecdcb01324abc8f44b78c7777cb59"
      }
     },
     "metadata": {},
     "output_type": "display_data"
    },
    {
     "data": {
      "text/plain": "<IPython.core.display.HTML object>",
      "text/html": "<style>\n    table.wandb td:nth-child(1) { padding: 0 10px; text-align: left ; width: auto;} td:nth-child(2) {text-align: left ; width: 100%}\n    .wandb-row { display: flex; flex-direction: row; flex-wrap: wrap; justify-content: flex-start; width: 100% }\n    .wandb-col { display: flex; flex-direction: column; flex-basis: 100%; flex: 1; padding: 10px; }\n    </style>\n<div class=\"wandb-row\"><div class=\"wandb-col\"><h3>Run history:</h3><br/><table class=\"wandb\"><tr><td>bias_norm</td><td>█▇▆▅▄▄▃▃▂▂▁</td></tr><tr><td>episode_length</td><td>▆▃▅▃▃▂▆▁█▂▁</td></tr><tr><td>epsilon</td><td>█▇▆▅▅▄▃▃▂▂▁</td></tr><tr><td>grad_norm</td><td>▄█▄▆▄▄▄▃▃▃▁</td></tr><tr><td>loss</td><td>▄█▄▆▄▄▄▃▃▃▁</td></tr><tr><td>success_rate</td><td>▁▁▁▁▁▁▆█▇▆▆</td></tr><tr><td>total_reward</td><td>▁▁▁▁▁▁▁▁▁▁▁</td></tr><tr><td>weight_norm</td><td>█▇▇▆▅▄▄▂▂▁▁</td></tr></table><br/></div><div class=\"wandb-col\"><h3>Run summary:</h3><br/><table class=\"wandb\"><tr><td>bias_norm</td><td>0.05535</td></tr><tr><td>episode_length</td><td>2</td></tr><tr><td>epsilon</td><td>0.42893</td></tr><tr><td>grad_norm</td><td>0.17991</td></tr><tr><td>loss</td><td>0.02249</td></tr><tr><td>success_rate</td><td>0.01</td></tr><tr><td>total_reward</td><td>0.0</td></tr><tr><td>weight_norm</td><td>1.50779</td></tr></table><br/></div></div>"
     },
     "metadata": {},
     "output_type": "display_data"
    },
    {
     "data": {
      "text/plain": "<IPython.core.display.HTML object>",
      "text/html": " View run <strong style=\"color:#cdcd00\">trial_6</strong> at: <a href='https://wandb.ai/loyd-team/optuna_hyperparameter_optimization/runs/9kj3t5lw' target=\"_blank\">https://wandb.ai/loyd-team/optuna_hyperparameter_optimization/runs/9kj3t5lw</a><br/> View job at <a href='https://wandb.ai/loyd-team/optuna_hyperparameter_optimization/jobs/QXJ0aWZhY3RDb2xsZWN0aW9uOjEyNTY5OTE1NA==/version_details/v0' target=\"_blank\">https://wandb.ai/loyd-team/optuna_hyperparameter_optimization/jobs/QXJ0aWZhY3RDb2xsZWN0aW9uOjEyNTY5OTE1NA==/version_details/v0</a><br/>Synced 6 W&B file(s), 0 media file(s), 0 artifact file(s) and 0 other file(s)"
     },
     "metadata": {},
     "output_type": "display_data"
    },
    {
     "data": {
      "text/plain": "<IPython.core.display.HTML object>",
      "text/html": "Find logs at: <code>./wandb/run-20231225_231827-9kj3t5lw/logs</code>"
     },
     "metadata": {},
     "output_type": "display_data"
    },
    {
     "data": {
      "text/plain": "<IPython.core.display.HTML object>",
      "text/html": "Successfully finished last run (ID:9kj3t5lw). Initializing new run:<br/>"
     },
     "metadata": {},
     "output_type": "display_data"
    },
    {
     "data": {
      "text/plain": "VBox(children=(Label(value='Waiting for wandb.init()...\\r'), FloatProgress(value=0.01118366944428999, max=1.0)…",
      "application/vnd.jupyter.widget-view+json": {
       "version_major": 2,
       "version_minor": 0,
       "model_id": "ceff1438229240469ac5cf024ec662fb"
      }
     },
     "metadata": {},
     "output_type": "display_data"
    },
    {
     "data": {
      "text/plain": "<IPython.core.display.HTML object>",
      "text/html": "Tracking run with wandb version 0.16.1"
     },
     "metadata": {},
     "output_type": "display_data"
    },
    {
     "data": {
      "text/plain": "<IPython.core.display.HTML object>",
      "text/html": "Run data is saved locally in <code>/Users/loyd/PycharmProjects/PytorchPractice/notebooks/wandb/run-20231225_231842-usqbpuf9</code>"
     },
     "metadata": {},
     "output_type": "display_data"
    },
    {
     "data": {
      "text/plain": "<IPython.core.display.HTML object>",
      "text/html": "Syncing run <strong><a href='https://wandb.ai/loyd-team/optuna_hyperparameter_optimization/runs/usqbpuf9' target=\"_blank\">trial_7</a></strong> to <a href='https://wandb.ai/loyd-team/optuna_hyperparameter_optimization' target=\"_blank\">Weights & Biases</a> (<a href='https://wandb.me/run' target=\"_blank\">docs</a>)<br/>"
     },
     "metadata": {},
     "output_type": "display_data"
    },
    {
     "data": {
      "text/plain": "<IPython.core.display.HTML object>",
      "text/html": " View project at <a href='https://wandb.ai/loyd-team/optuna_hyperparameter_optimization' target=\"_blank\">https://wandb.ai/loyd-team/optuna_hyperparameter_optimization</a>"
     },
     "metadata": {},
     "output_type": "display_data"
    },
    {
     "data": {
      "text/plain": "<IPython.core.display.HTML object>",
      "text/html": " View run at <a href='https://wandb.ai/loyd-team/optuna_hyperparameter_optimization/runs/usqbpuf9' target=\"_blank\">https://wandb.ai/loyd-team/optuna_hyperparameter_optimization/runs/usqbpuf9</a>"
     },
     "metadata": {},
     "output_type": "display_data"
    },
    {
     "name": "stderr",
     "output_type": "stream",
     "text": [
      "[I 2023-12-25 23:19:01,958] Trial 7 finished with value: 0.575047441646383 and parameters: {'learning_rate': 0.026514591365969876, 'gamma': 0.8251724707269791, 'epsilon_start': 0.3207237971056019, 'epsilon_decay': 0.9935894352887233}. Best is trial 7 with value: 0.575047441646383.\n"
     ]
    },
    {
     "data": {
      "text/plain": "<IPython.core.display.HTML object>",
      "text/html": "Finishing last run (ID:usqbpuf9) before initializing another..."
     },
     "metadata": {},
     "output_type": "display_data"
    },
    {
     "data": {
      "text/plain": "VBox(children=(Label(value='0.001 MB of 0.001 MB uploaded\\r'), FloatProgress(value=1.0, max=1.0)))",
      "application/vnd.jupyter.widget-view+json": {
       "version_major": 2,
       "version_minor": 0,
       "model_id": "be3d610b266e40e7bc00024f0eb9a5ac"
      }
     },
     "metadata": {},
     "output_type": "display_data"
    },
    {
     "data": {
      "text/plain": "<IPython.core.display.HTML object>",
      "text/html": "<style>\n    table.wandb td:nth-child(1) { padding: 0 10px; text-align: left ; width: auto;} td:nth-child(2) {text-align: left ; width: 100%}\n    .wandb-row { display: flex; flex-direction: row; flex-wrap: wrap; justify-content: flex-start; width: 100% }\n    .wandb-col { display: flex; flex-direction: column; flex-basis: 100%; flex: 1; padding: 10px; }\n    </style>\n<div class=\"wandb-row\"><div class=\"wandb-col\"><h3>Run history:</h3><br/><table class=\"wandb\"><tr><td>bias_norm</td><td>▁█▆▆▆▇▅▅▇▆▄</td></tr><tr><td>episode_length</td><td>▂▅▁▂▅▂▂█▄▂▂</td></tr><tr><td>epsilon</td><td>█▇▅▄▄▃▂▂▂▁▁</td></tr><tr><td>grad_norm</td><td>█▂▃▃▁▁▁▁▁▁▁</td></tr><tr><td>loss</td><td>█▂▃▃▁▁▁▁▁▁▁</td></tr><tr><td>success_rate</td><td>▁▄▅▆▆▇▇▇███</td></tr><tr><td>total_reward</td><td>▁█▁████████</td></tr><tr><td>weight_norm</td><td>▁▆▆▇▇▇▇▇▇██</td></tr></table><br/></div><div class=\"wandb-col\"><h3>Run summary:</h3><br/><table class=\"wandb\"><tr><td>bias_norm</td><td>0.26919</td></tr><tr><td>episode_length</td><td>6</td></tr><tr><td>epsilon</td><td>0.04658</td></tr><tr><td>grad_norm</td><td>0.00035</td></tr><tr><td>loss</td><td>4e-05</td></tr><tr><td>success_rate</td><td>0.78333</td></tr><tr><td>total_reward</td><td>1.0</td></tr><tr><td>weight_norm</td><td>4.97472</td></tr></table><br/></div></div>"
     },
     "metadata": {},
     "output_type": "display_data"
    },
    {
     "data": {
      "text/plain": "<IPython.core.display.HTML object>",
      "text/html": " View run <strong style=\"color:#cdcd00\">trial_7</strong> at: <a href='https://wandb.ai/loyd-team/optuna_hyperparameter_optimization/runs/usqbpuf9' target=\"_blank\">https://wandb.ai/loyd-team/optuna_hyperparameter_optimization/runs/usqbpuf9</a><br/> View job at <a href='https://wandb.ai/loyd-team/optuna_hyperparameter_optimization/jobs/QXJ0aWZhY3RDb2xsZWN0aW9uOjEyNTY5OTE1NA==/version_details/v0' target=\"_blank\">https://wandb.ai/loyd-team/optuna_hyperparameter_optimization/jobs/QXJ0aWZhY3RDb2xsZWN0aW9uOjEyNTY5OTE1NA==/version_details/v0</a><br/>Synced 6 W&B file(s), 0 media file(s), 0 artifact file(s) and 0 other file(s)"
     },
     "metadata": {},
     "output_type": "display_data"
    },
    {
     "data": {
      "text/plain": "<IPython.core.display.HTML object>",
      "text/html": "Find logs at: <code>./wandb/run-20231225_231842-usqbpuf9/logs</code>"
     },
     "metadata": {},
     "output_type": "display_data"
    },
    {
     "data": {
      "text/plain": "<IPython.core.display.HTML object>",
      "text/html": "Successfully finished last run (ID:usqbpuf9). Initializing new run:<br/>"
     },
     "metadata": {},
     "output_type": "display_data"
    },
    {
     "data": {
      "text/plain": "VBox(children=(Label(value='Waiting for wandb.init()...\\r'), FloatProgress(value=0.01116866712238536, max=1.0)…",
      "application/vnd.jupyter.widget-view+json": {
       "version_major": 2,
       "version_minor": 0,
       "model_id": "15c9fa5731e24ff49975660ede224a66"
      }
     },
     "metadata": {},
     "output_type": "display_data"
    },
    {
     "data": {
      "text/plain": "<IPython.core.display.HTML object>",
      "text/html": "Tracking run with wandb version 0.16.1"
     },
     "metadata": {},
     "output_type": "display_data"
    },
    {
     "data": {
      "text/plain": "<IPython.core.display.HTML object>",
      "text/html": "Run data is saved locally in <code>/Users/loyd/PycharmProjects/PytorchPractice/notebooks/wandb/run-20231225_231901-wcdno4he</code>"
     },
     "metadata": {},
     "output_type": "display_data"
    },
    {
     "data": {
      "text/plain": "<IPython.core.display.HTML object>",
      "text/html": "Syncing run <strong><a href='https://wandb.ai/loyd-team/optuna_hyperparameter_optimization/runs/wcdno4he' target=\"_blank\">trial_8</a></strong> to <a href='https://wandb.ai/loyd-team/optuna_hyperparameter_optimization' target=\"_blank\">Weights & Biases</a> (<a href='https://wandb.me/run' target=\"_blank\">docs</a>)<br/>"
     },
     "metadata": {},
     "output_type": "display_data"
    },
    {
     "data": {
      "text/plain": "<IPython.core.display.HTML object>",
      "text/html": " View project at <a href='https://wandb.ai/loyd-team/optuna_hyperparameter_optimization' target=\"_blank\">https://wandb.ai/loyd-team/optuna_hyperparameter_optimization</a>"
     },
     "metadata": {},
     "output_type": "display_data"
    },
    {
     "data": {
      "text/plain": "<IPython.core.display.HTML object>",
      "text/html": " View run at <a href='https://wandb.ai/loyd-team/optuna_hyperparameter_optimization/runs/wcdno4he' target=\"_blank\">https://wandb.ai/loyd-team/optuna_hyperparameter_optimization/runs/wcdno4he</a>"
     },
     "metadata": {},
     "output_type": "display_data"
    },
    {
     "name": "stderr",
     "output_type": "stream",
     "text": [
      "[I 2023-12-25 23:19:29,047] Trial 8 finished with value: 0.06897942023920943 and parameters: {'learning_rate': 0.0014318917347635818, 'gamma': 0.8570685261279455, 'epsilon_start': 0.44424582336257484, 'epsilon_decay': 0.9961387975538833}. Best is trial 7 with value: 0.575047441646383.\n"
     ]
    },
    {
     "data": {
      "text/plain": "<IPython.core.display.HTML object>",
      "text/html": "Finishing last run (ID:wcdno4he) before initializing another..."
     },
     "metadata": {},
     "output_type": "display_data"
    },
    {
     "data": {
      "text/plain": "VBox(children=(Label(value='0.001 MB of 0.001 MB uploaded\\r'), FloatProgress(value=1.0, max=1.0)))",
      "application/vnd.jupyter.widget-view+json": {
       "version_major": 2,
       "version_minor": 0,
       "model_id": "fd6353c8c88c42cb89ada53bd13ea32a"
      }
     },
     "metadata": {},
     "output_type": "display_data"
    },
    {
     "data": {
      "text/plain": "<IPython.core.display.HTML object>",
      "text/html": "<style>\n    table.wandb td:nth-child(1) { padding: 0 10px; text-align: left ; width: auto;} td:nth-child(2) {text-align: left ; width: 100%}\n    .wandb-row { display: flex; flex-direction: row; flex-wrap: wrap; justify-content: flex-start; width: 100% }\n    .wandb-col { display: flex; flex-direction: column; flex-basis: 100%; flex: 1; padding: 10px; }\n    </style>\n<div class=\"wandb-row\"><div class=\"wandb-col\"><h3>Run history:</h3><br/><table class=\"wandb\"><tr><td>bias_norm</td><td>▂▁▁▁▁▁▁▂▄██</td></tr><tr><td>episode_length</td><td>▇▁▂▁█▂▁▃▂▂▂</td></tr><tr><td>epsilon</td><td>█▇▆▅▄▄▃▂▂▁▁</td></tr><tr><td>grad_norm</td><td>▁▁▁▁▁█▁▃▁▁▁</td></tr><tr><td>loss</td><td>▁▁▁▁▁█▁▃▁▁▁</td></tr><tr><td>success_rate</td><td>▁▁▁▁▁▂▂▃▅▇█</td></tr><tr><td>total_reward</td><td>▁▁▁▁▁█▁████</td></tr><tr><td>weight_norm</td><td>▃▂▂▁▁▁▁▂▅▇█</td></tr></table><br/></div><div class=\"wandb-col\"><h3>Run summary:</h3><br/><table class=\"wandb\"><tr><td>bias_norm</td><td>0.42061</td></tr><tr><td>episode_length</td><td>6</td></tr><tr><td>epsilon</td><td>0.13918</td></tr><tr><td>grad_norm</td><td>0.00228</td></tr><tr><td>loss</td><td>0.00028</td></tr><tr><td>success_rate</td><td>0.28</td></tr><tr><td>total_reward</td><td>1.0</td></tr><tr><td>weight_norm</td><td>2.09554</td></tr></table><br/></div></div>"
     },
     "metadata": {},
     "output_type": "display_data"
    },
    {
     "data": {
      "text/plain": "<IPython.core.display.HTML object>",
      "text/html": " View run <strong style=\"color:#cdcd00\">trial_8</strong> at: <a href='https://wandb.ai/loyd-team/optuna_hyperparameter_optimization/runs/wcdno4he' target=\"_blank\">https://wandb.ai/loyd-team/optuna_hyperparameter_optimization/runs/wcdno4he</a><br/> View job at <a href='https://wandb.ai/loyd-team/optuna_hyperparameter_optimization/jobs/QXJ0aWZhY3RDb2xsZWN0aW9uOjEyNTY5OTE1NA==/version_details/v0' target=\"_blank\">https://wandb.ai/loyd-team/optuna_hyperparameter_optimization/jobs/QXJ0aWZhY3RDb2xsZWN0aW9uOjEyNTY5OTE1NA==/version_details/v0</a><br/>Synced 6 W&B file(s), 0 media file(s), 0 artifact file(s) and 0 other file(s)"
     },
     "metadata": {},
     "output_type": "display_data"
    },
    {
     "data": {
      "text/plain": "<IPython.core.display.HTML object>",
      "text/html": "Find logs at: <code>./wandb/run-20231225_231901-wcdno4he/logs</code>"
     },
     "metadata": {},
     "output_type": "display_data"
    },
    {
     "data": {
      "text/plain": "<IPython.core.display.HTML object>",
      "text/html": "Successfully finished last run (ID:wcdno4he). Initializing new run:<br/>"
     },
     "metadata": {},
     "output_type": "display_data"
    },
    {
     "data": {
      "text/plain": "VBox(children=(Label(value='Waiting for wandb.init()...\\r'), FloatProgress(value=0.01112308981084627, max=1.0)…",
      "application/vnd.jupyter.widget-view+json": {
       "version_major": 2,
       "version_minor": 0,
       "model_id": "576ddc8f92b243998edcb16d51ac0205"
      }
     },
     "metadata": {},
     "output_type": "display_data"
    },
    {
     "data": {
      "text/plain": "<IPython.core.display.HTML object>",
      "text/html": "Tracking run with wandb version 0.16.1"
     },
     "metadata": {},
     "output_type": "display_data"
    },
    {
     "data": {
      "text/plain": "<IPython.core.display.HTML object>",
      "text/html": "Run data is saved locally in <code>/Users/loyd/PycharmProjects/PytorchPractice/notebooks/wandb/run-20231225_231929-yd6t4csi</code>"
     },
     "metadata": {},
     "output_type": "display_data"
    },
    {
     "data": {
      "text/plain": "<IPython.core.display.HTML object>",
      "text/html": "Syncing run <strong><a href='https://wandb.ai/loyd-team/optuna_hyperparameter_optimization/runs/yd6t4csi' target=\"_blank\">trial_9</a></strong> to <a href='https://wandb.ai/loyd-team/optuna_hyperparameter_optimization' target=\"_blank\">Weights & Biases</a> (<a href='https://wandb.me/run' target=\"_blank\">docs</a>)<br/>"
     },
     "metadata": {},
     "output_type": "display_data"
    },
    {
     "data": {
      "text/plain": "<IPython.core.display.HTML object>",
      "text/html": " View project at <a href='https://wandb.ai/loyd-team/optuna_hyperparameter_optimization' target=\"_blank\">https://wandb.ai/loyd-team/optuna_hyperparameter_optimization</a>"
     },
     "metadata": {},
     "output_type": "display_data"
    },
    {
     "data": {
      "text/plain": "<IPython.core.display.HTML object>",
      "text/html": " View run at <a href='https://wandb.ai/loyd-team/optuna_hyperparameter_optimization/runs/yd6t4csi' target=\"_blank\">https://wandb.ai/loyd-team/optuna_hyperparameter_optimization/runs/yd6t4csi</a>"
     },
     "metadata": {},
     "output_type": "display_data"
    },
    {
     "name": "stderr",
     "output_type": "stream",
     "text": [
      "[I 2023-12-25 23:19:56,529] Trial 9 finished with value: 0.010649950290566859 and parameters: {'learning_rate': 0.0007027824737301788, 'gamma': 0.9405072789340383, 'epsilon_start': 0.21424544431557513, 'epsilon_decay': 0.9988180839003865}. Best is trial 7 with value: 0.575047441646383.\n"
     ]
    },
    {
     "data": {
      "text/plain": "<IPython.core.display.HTML object>",
      "text/html": "Finishing last run (ID:yd6t4csi) before initializing another..."
     },
     "metadata": {},
     "output_type": "display_data"
    },
    {
     "data": {
      "text/plain": "VBox(children=(Label(value='0.001 MB of 0.001 MB uploaded\\r'), FloatProgress(value=1.0, max=1.0)))",
      "application/vnd.jupyter.widget-view+json": {
       "version_major": 2,
       "version_minor": 0,
       "model_id": "901f8f0f752c4d639fa885552b16edb9"
      }
     },
     "metadata": {},
     "output_type": "display_data"
    },
    {
     "data": {
      "text/plain": "<IPython.core.display.HTML object>",
      "text/html": "<style>\n    table.wandb td:nth-child(1) { padding: 0 10px; text-align: left ; width: auto;} td:nth-child(2) {text-align: left ; width: 100%}\n    .wandb-row { display: flex; flex-direction: row; flex-wrap: wrap; justify-content: flex-start; width: 100% }\n    .wandb-col { display: flex; flex-direction: column; flex-basis: 100%; flex: 1; padding: 10px; }\n    </style>\n<div class=\"wandb-row\"><div class=\"wandb-col\"><h3>Run history:</h3><br/><table class=\"wandb\"><tr><td>bias_norm</td><td>█▆▅▃▃▂▂▁▁▁▂</td></tr><tr><td>episode_length</td><td>▁▁▁▁█▃▃▂▂▁▁</td></tr><tr><td>epsilon</td><td>█▇▆▆▅▄▃▃▂▂▁</td></tr><tr><td>grad_norm</td><td>▃▂▁▁▂▁▁▁▁▁█</td></tr><tr><td>loss</td><td>▃▂▁▁▂▁▁▁▁▁█</td></tr><tr><td>success_rate</td><td>▁▁▁▁▁▁▆▆▆▆█</td></tr><tr><td>total_reward</td><td>▁▁▁▁▁▁▁▁▁▁█</td></tr><tr><td>weight_norm</td><td>██▇▇▆▄▃▂▂▁▁</td></tr></table><br/></div><div class=\"wandb-col\"><h3>Run summary:</h3><br/><table class=\"wandb\"><tr><td>bias_norm</td><td>0.01883</td></tr><tr><td>episode_length</td><td>6</td></tr><tr><td>epsilon</td><td>0.15026</td></tr><tr><td>grad_norm</td><td>3.69119</td></tr><tr><td>loss</td><td>0.4614</td></tr><tr><td>success_rate</td><td>0.03333</td></tr><tr><td>total_reward</td><td>1.0</td></tr><tr><td>weight_norm</td><td>0.77211</td></tr></table><br/></div></div>"
     },
     "metadata": {},
     "output_type": "display_data"
    },
    {
     "data": {
      "text/plain": "<IPython.core.display.HTML object>",
      "text/html": " View run <strong style=\"color:#cdcd00\">trial_9</strong> at: <a href='https://wandb.ai/loyd-team/optuna_hyperparameter_optimization/runs/yd6t4csi' target=\"_blank\">https://wandb.ai/loyd-team/optuna_hyperparameter_optimization/runs/yd6t4csi</a><br/> View job at <a href='https://wandb.ai/loyd-team/optuna_hyperparameter_optimization/jobs/QXJ0aWZhY3RDb2xsZWN0aW9uOjEyNTY5OTE1NA==/version_details/v0' target=\"_blank\">https://wandb.ai/loyd-team/optuna_hyperparameter_optimization/jobs/QXJ0aWZhY3RDb2xsZWN0aW9uOjEyNTY5OTE1NA==/version_details/v0</a><br/>Synced 6 W&B file(s), 0 media file(s), 0 artifact file(s) and 0 other file(s)"
     },
     "metadata": {},
     "output_type": "display_data"
    },
    {
     "data": {
      "text/plain": "<IPython.core.display.HTML object>",
      "text/html": "Find logs at: <code>./wandb/run-20231225_231929-yd6t4csi/logs</code>"
     },
     "metadata": {},
     "output_type": "display_data"
    },
    {
     "data": {
      "text/plain": "<IPython.core.display.HTML object>",
      "text/html": "Successfully finished last run (ID:yd6t4csi). Initializing new run:<br/>"
     },
     "metadata": {},
     "output_type": "display_data"
    },
    {
     "data": {
      "text/plain": "VBox(children=(Label(value='Waiting for wandb.init()...\\r'), FloatProgress(value=0.011119118522037752, max=1.0…",
      "application/vnd.jupyter.widget-view+json": {
       "version_major": 2,
       "version_minor": 0,
       "model_id": "0e8e07e0dd5e44f5bc154259a507b771"
      }
     },
     "metadata": {},
     "output_type": "display_data"
    },
    {
     "data": {
      "text/plain": "<IPython.core.display.HTML object>",
      "text/html": "Tracking run with wandb version 0.16.1"
     },
     "metadata": {},
     "output_type": "display_data"
    },
    {
     "data": {
      "text/plain": "<IPython.core.display.HTML object>",
      "text/html": "Run data is saved locally in <code>/Users/loyd/PycharmProjects/PytorchPractice/notebooks/wandb/run-20231225_231956-w0rti1qb</code>"
     },
     "metadata": {},
     "output_type": "display_data"
    },
    {
     "data": {
      "text/plain": "<IPython.core.display.HTML object>",
      "text/html": "Syncing run <strong><a href='https://wandb.ai/loyd-team/optuna_hyperparameter_optimization/runs/w0rti1qb' target=\"_blank\">trial_10</a></strong> to <a href='https://wandb.ai/loyd-team/optuna_hyperparameter_optimization' target=\"_blank\">Weights & Biases</a> (<a href='https://wandb.me/run' target=\"_blank\">docs</a>)<br/>"
     },
     "metadata": {},
     "output_type": "display_data"
    },
    {
     "data": {
      "text/plain": "<IPython.core.display.HTML object>",
      "text/html": " View project at <a href='https://wandb.ai/loyd-team/optuna_hyperparameter_optimization' target=\"_blank\">https://wandb.ai/loyd-team/optuna_hyperparameter_optimization</a>"
     },
     "metadata": {},
     "output_type": "display_data"
    },
    {
     "data": {
      "text/plain": "<IPython.core.display.HTML object>",
      "text/html": " View run at <a href='https://wandb.ai/loyd-team/optuna_hyperparameter_optimization/runs/w0rti1qb' target=\"_blank\">https://wandb.ai/loyd-team/optuna_hyperparameter_optimization/runs/w0rti1qb</a>"
     },
     "metadata": {},
     "output_type": "display_data"
    },
    {
     "name": "stderr",
     "output_type": "stream",
     "text": [
      "[I 2023-12-25 23:20:18,079] Trial 10 finished with value: 0.5140767367182631 and parameters: {'learning_rate': 0.09443371833289117, 'gamma': 0.8258516946061312, 'epsilon_start': 0.10348841158569533, 'epsilon_decay': 0.9923619019244012}. Best is trial 7 with value: 0.575047441646383.\n"
     ]
    },
    {
     "data": {
      "text/plain": "<IPython.core.display.HTML object>",
      "text/html": "Finishing last run (ID:w0rti1qb) before initializing another..."
     },
     "metadata": {},
     "output_type": "display_data"
    },
    {
     "data": {
      "text/plain": "VBox(children=(Label(value='0.001 MB of 0.001 MB uploaded\\r'), FloatProgress(value=1.0, max=1.0)))",
      "application/vnd.jupyter.widget-view+json": {
       "version_major": 2,
       "version_minor": 0,
       "model_id": "12d5912738684e25b37efa6196f9d90e"
      }
     },
     "metadata": {},
     "output_type": "display_data"
    },
    {
     "data": {
      "text/plain": "<IPython.core.display.HTML object>",
      "text/html": "<style>\n    table.wandb td:nth-child(1) { padding: 0 10px; text-align: left ; width: auto;} td:nth-child(2) {text-align: left ; width: 100%}\n    .wandb-row { display: flex; flex-direction: row; flex-wrap: wrap; justify-content: flex-start; width: 100% }\n    .wandb-col { display: flex; flex-direction: column; flex-basis: 100%; flex: 1; padding: 10px; }\n    </style>\n<div class=\"wandb-row\"><div class=\"wandb-col\"><h3>Run history:</h3><br/><table class=\"wandb\"><tr><td>bias_norm</td><td>▁▃█▇▅▃▂▁▅▅▅</td></tr><tr><td>episode_length</td><td>▂▁█▂▂▂▂▂▂▂▂</td></tr><tr><td>epsilon</td><td>█▆▅▄▃▃▂▂▁▁▁</td></tr><tr><td>grad_norm</td><td>▁▂▁▁█▁▁▁▁▁▁</td></tr><tr><td>loss</td><td>▁▂▁▁█▁▁▁▁▁▁</td></tr><tr><td>success_rate</td><td>▁▁▃▅▆▇▇▇███</td></tr><tr><td>total_reward</td><td>▁▁██▁██████</td></tr><tr><td>weight_norm</td><td>▁▃█▇▅▅▅▅▅▅▅</td></tr></table><br/></div><div class=\"wandb-col\"><h3>Run summary:</h3><br/><table class=\"wandb\"><tr><td>bias_norm</td><td>0.47525</td></tr><tr><td>episode_length</td><td>6</td></tr><tr><td>epsilon</td><td>0.01037</td></tr><tr><td>grad_norm</td><td>1e-05</td></tr><tr><td>loss</td><td>0.0</td></tr><tr><td>success_rate</td><td>0.78333</td></tr><tr><td>total_reward</td><td>1.0</td></tr><tr><td>weight_norm</td><td>24.34234</td></tr></table><br/></div></div>"
     },
     "metadata": {},
     "output_type": "display_data"
    },
    {
     "data": {
      "text/plain": "<IPython.core.display.HTML object>",
      "text/html": " View run <strong style=\"color:#cdcd00\">trial_10</strong> at: <a href='https://wandb.ai/loyd-team/optuna_hyperparameter_optimization/runs/w0rti1qb' target=\"_blank\">https://wandb.ai/loyd-team/optuna_hyperparameter_optimization/runs/w0rti1qb</a><br/> View job at <a href='https://wandb.ai/loyd-team/optuna_hyperparameter_optimization/jobs/QXJ0aWZhY3RDb2xsZWN0aW9uOjEyNTY5OTE1NA==/version_details/v0' target=\"_blank\">https://wandb.ai/loyd-team/optuna_hyperparameter_optimization/jobs/QXJ0aWZhY3RDb2xsZWN0aW9uOjEyNTY5OTE1NA==/version_details/v0</a><br/>Synced 6 W&B file(s), 0 media file(s), 0 artifact file(s) and 0 other file(s)"
     },
     "metadata": {},
     "output_type": "display_data"
    },
    {
     "data": {
      "text/plain": "<IPython.core.display.HTML object>",
      "text/html": "Find logs at: <code>./wandb/run-20231225_231956-w0rti1qb/logs</code>"
     },
     "metadata": {},
     "output_type": "display_data"
    },
    {
     "data": {
      "text/plain": "<IPython.core.display.HTML object>",
      "text/html": "Successfully finished last run (ID:w0rti1qb). Initializing new run:<br/>"
     },
     "metadata": {},
     "output_type": "display_data"
    },
    {
     "data": {
      "text/plain": "VBox(children=(Label(value='Waiting for wandb.init()...\\r'), FloatProgress(value=0.01113841296658696, max=1.0)…",
      "application/vnd.jupyter.widget-view+json": {
       "version_major": 2,
       "version_minor": 0,
       "model_id": "d0acc2c3ca72463a8c761d9b8152fb5f"
      }
     },
     "metadata": {},
     "output_type": "display_data"
    },
    {
     "data": {
      "text/plain": "<IPython.core.display.HTML object>",
      "text/html": "Tracking run with wandb version 0.16.1"
     },
     "metadata": {},
     "output_type": "display_data"
    },
    {
     "data": {
      "text/plain": "<IPython.core.display.HTML object>",
      "text/html": "Run data is saved locally in <code>/Users/loyd/PycharmProjects/PytorchPractice/notebooks/wandb/run-20231225_232018-qrthaxpi</code>"
     },
     "metadata": {},
     "output_type": "display_data"
    },
    {
     "data": {
      "text/plain": "<IPython.core.display.HTML object>",
      "text/html": "Syncing run <strong><a href='https://wandb.ai/loyd-team/optuna_hyperparameter_optimization/runs/qrthaxpi' target=\"_blank\">trial_11</a></strong> to <a href='https://wandb.ai/loyd-team/optuna_hyperparameter_optimization' target=\"_blank\">Weights & Biases</a> (<a href='https://wandb.me/run' target=\"_blank\">docs</a>)<br/>"
     },
     "metadata": {},
     "output_type": "display_data"
    },
    {
     "data": {
      "text/plain": "<IPython.core.display.HTML object>",
      "text/html": " View project at <a href='https://wandb.ai/loyd-team/optuna_hyperparameter_optimization' target=\"_blank\">https://wandb.ai/loyd-team/optuna_hyperparameter_optimization</a>"
     },
     "metadata": {},
     "output_type": "display_data"
    },
    {
     "data": {
      "text/plain": "<IPython.core.display.HTML object>",
      "text/html": " View run at <a href='https://wandb.ai/loyd-team/optuna_hyperparameter_optimization/runs/qrthaxpi' target=\"_blank\">https://wandb.ai/loyd-team/optuna_hyperparameter_optimization/runs/qrthaxpi</a>"
     },
     "metadata": {},
     "output_type": "display_data"
    },
    {
     "name": "stderr",
     "output_type": "stream",
     "text": [
      "[I 2023-12-25 23:20:48,067] Trial 11 finished with value: 0.19255148267390368 and parameters: {'learning_rate': 0.07396391795418569, 'gamma': 0.8013584417181296, 'epsilon_start': 0.14161031565038806, 'epsilon_decay': 0.9919783177593924}. Best is trial 7 with value: 0.575047441646383.\n"
     ]
    },
    {
     "data": {
      "text/plain": "<IPython.core.display.HTML object>",
      "text/html": "Finishing last run (ID:qrthaxpi) before initializing another..."
     },
     "metadata": {},
     "output_type": "display_data"
    },
    {
     "data": {
      "text/plain": "VBox(children=(Label(value='0.001 MB of 0.001 MB uploaded\\r'), FloatProgress(value=1.0, max=1.0)))",
      "application/vnd.jupyter.widget-view+json": {
       "version_major": 2,
       "version_minor": 0,
       "model_id": "096901a35cad4242ad35c49d2bde5bcf"
      }
     },
     "metadata": {},
     "output_type": "display_data"
    },
    {
     "data": {
      "text/plain": "<IPython.core.display.HTML object>",
      "text/html": "W&B sync reduced upload amount by 16.2%             "
     },
     "metadata": {},
     "output_type": "display_data"
    },
    {
     "data": {
      "text/plain": "<IPython.core.display.HTML object>",
      "text/html": "<style>\n    table.wandb td:nth-child(1) { padding: 0 10px; text-align: left ; width: auto;} td:nth-child(2) {text-align: left ; width: 100%}\n    .wandb-row { display: flex; flex-direction: row; flex-wrap: wrap; justify-content: flex-start; width: 100% }\n    .wandb-col { display: flex; flex-direction: column; flex-basis: 100%; flex: 1; padding: 10px; }\n    </style>\n<div class=\"wandb-row\"><div class=\"wandb-col\"><h3>Run history:</h3><br/><table class=\"wandb\"><tr><td>bias_norm</td><td>▁▁▇▄▅▂▆█▅█▄</td></tr><tr><td>episode_length</td><td>▄█▁▂▄▁▁▆▂▁▁</td></tr><tr><td>epsilon</td><td>█▆▅▄▃▃▂▂▁▁▁</td></tr><tr><td>grad_norm</td><td>▁█▂▂▁▁▁▂▁▁▁</td></tr><tr><td>loss</td><td>▁█▂▂▁▁▁▂▁▁▁</td></tr><tr><td>success_rate</td><td>▁▁▁▂▂▃▅▆▆▇█</td></tr><tr><td>total_reward</td><td>▁▁▁█▁▁█████</td></tr><tr><td>weight_norm</td><td>▁▃▅▇███▇█▇▇</td></tr></table><br/></div><div class=\"wandb-col\"><h3>Run summary:</h3><br/><table class=\"wandb\"><tr><td>bias_norm</td><td>0.64688</td></tr><tr><td>episode_length</td><td>6</td></tr><tr><td>epsilon</td><td>0.01264</td></tr><tr><td>grad_norm</td><td>0.01129</td></tr><tr><td>loss</td><td>0.00141</td></tr><tr><td>success_rate</td><td>0.48333</td></tr><tr><td>total_reward</td><td>1.0</td></tr><tr><td>weight_norm</td><td>42.95639</td></tr></table><br/></div></div>"
     },
     "metadata": {},
     "output_type": "display_data"
    },
    {
     "data": {
      "text/plain": "<IPython.core.display.HTML object>",
      "text/html": " View run <strong style=\"color:#cdcd00\">trial_11</strong> at: <a href='https://wandb.ai/loyd-team/optuna_hyperparameter_optimization/runs/qrthaxpi' target=\"_blank\">https://wandb.ai/loyd-team/optuna_hyperparameter_optimization/runs/qrthaxpi</a><br/> View job at <a href='https://wandb.ai/loyd-team/optuna_hyperparameter_optimization/jobs/QXJ0aWZhY3RDb2xsZWN0aW9uOjEyNTY5OTE1NA==/version_details/v1' target=\"_blank\">https://wandb.ai/loyd-team/optuna_hyperparameter_optimization/jobs/QXJ0aWZhY3RDb2xsZWN0aW9uOjEyNTY5OTE1NA==/version_details/v1</a><br/>Synced 6 W&B file(s), 0 media file(s), 2 artifact file(s) and 0 other file(s)"
     },
     "metadata": {},
     "output_type": "display_data"
    },
    {
     "data": {
      "text/plain": "<IPython.core.display.HTML object>",
      "text/html": "Find logs at: <code>./wandb/run-20231225_232018-qrthaxpi/logs</code>"
     },
     "metadata": {},
     "output_type": "display_data"
    },
    {
     "data": {
      "text/plain": "<IPython.core.display.HTML object>",
      "text/html": "Successfully finished last run (ID:qrthaxpi). Initializing new run:<br/>"
     },
     "metadata": {},
     "output_type": "display_data"
    },
    {
     "data": {
      "text/plain": "VBox(children=(Label(value='Waiting for wandb.init()...\\r'), FloatProgress(value=0.011164256488943163, max=1.0…",
      "application/vnd.jupyter.widget-view+json": {
       "version_major": 2,
       "version_minor": 0,
       "model_id": "cb55b72b0c004e6fa7eeccd49357a507"
      }
     },
     "metadata": {},
     "output_type": "display_data"
    },
    {
     "data": {
      "text/plain": "<IPython.core.display.HTML object>",
      "text/html": "Tracking run with wandb version 0.16.1"
     },
     "metadata": {},
     "output_type": "display_data"
    },
    {
     "data": {
      "text/plain": "<IPython.core.display.HTML object>",
      "text/html": "Run data is saved locally in <code>/Users/loyd/PycharmProjects/PytorchPractice/notebooks/wandb/run-20231225_232048-5gur4zqy</code>"
     },
     "metadata": {},
     "output_type": "display_data"
    },
    {
     "data": {
      "text/plain": "<IPython.core.display.HTML object>",
      "text/html": "Syncing run <strong><a href='https://wandb.ai/loyd-team/optuna_hyperparameter_optimization/runs/5gur4zqy' target=\"_blank\">trial_12</a></strong> to <a href='https://wandb.ai/loyd-team/optuna_hyperparameter_optimization' target=\"_blank\">Weights & Biases</a> (<a href='https://wandb.me/run' target=\"_blank\">docs</a>)<br/>"
     },
     "metadata": {},
     "output_type": "display_data"
    },
    {
     "data": {
      "text/plain": "<IPython.core.display.HTML object>",
      "text/html": " View project at <a href='https://wandb.ai/loyd-team/optuna_hyperparameter_optimization' target=\"_blank\">https://wandb.ai/loyd-team/optuna_hyperparameter_optimization</a>"
     },
     "metadata": {},
     "output_type": "display_data"
    },
    {
     "data": {
      "text/plain": "<IPython.core.display.HTML object>",
      "text/html": " View run at <a href='https://wandb.ai/loyd-team/optuna_hyperparameter_optimization/runs/5gur4zqy' target=\"_blank\">https://wandb.ai/loyd-team/optuna_hyperparameter_optimization/runs/5gur4zqy</a>"
     },
     "metadata": {},
     "output_type": "display_data"
    },
    {
     "name": "stderr",
     "output_type": "stream",
     "text": [
      "[I 2023-12-25 23:21:09,875] Trial 12 finished with value: 0.1896276950347512 and parameters: {'learning_rate': 0.01718091621145993, 'gamma': 0.8315483409361514, 'epsilon_start': 0.10804835514275568, 'epsilon_decay': 0.9928469023356977}. Best is trial 7 with value: 0.575047441646383.\n"
     ]
    },
    {
     "data": {
      "text/plain": "<IPython.core.display.HTML object>",
      "text/html": "Finishing last run (ID:5gur4zqy) before initializing another..."
     },
     "metadata": {},
     "output_type": "display_data"
    },
    {
     "data": {
      "text/plain": "VBox(children=(Label(value='0.001 MB of 0.001 MB uploaded\\r'), FloatProgress(value=1.0, max=1.0)))",
      "application/vnd.jupyter.widget-view+json": {
       "version_major": 2,
       "version_minor": 0,
       "model_id": "b89c9f7b55c443ac88286af1d67ee306"
      }
     },
     "metadata": {},
     "output_type": "display_data"
    },
    {
     "data": {
      "text/plain": "<IPython.core.display.HTML object>",
      "text/html": "W&B sync reduced upload amount by 16.2%             "
     },
     "metadata": {},
     "output_type": "display_data"
    },
    {
     "data": {
      "text/plain": "<IPython.core.display.HTML object>",
      "text/html": "<style>\n    table.wandb td:nth-child(1) { padding: 0 10px; text-align: left ; width: auto;} td:nth-child(2) {text-align: left ; width: 100%}\n    .wandb-row { display: flex; flex-direction: row; flex-wrap: wrap; justify-content: flex-start; width: 100% }\n    .wandb-col { display: flex; flex-direction: column; flex-basis: 100%; flex: 1; padding: 10px; }\n    </style>\n<div class=\"wandb-row\"><div class=\"wandb-col\"><h3>Run history:</h3><br/><table class=\"wandb\"><tr><td>bias_norm</td><td>▂▁▁▁▁▅▆██▇▇</td></tr><tr><td>episode_length</td><td>▁▁▁▁▁▆█▆▆▆▆</td></tr><tr><td>epsilon</td><td>█▆▅▄▃▃▂▂▁▁▁</td></tr><tr><td>grad_norm</td><td>█▁▁▁▁▁▁▁▁▁▁</td></tr><tr><td>loss</td><td>█▁▁▁▁▁▁▁▁▁▁</td></tr><tr><td>success_rate</td><td>▁▁▁▁▁▃▄▆▇▇█</td></tr><tr><td>total_reward</td><td>▁▁▁▁▁██████</td></tr><tr><td>weight_norm</td><td>▁▁▁▁▁██▆▆▆▇</td></tr></table><br/></div><div class=\"wandb-col\"><h3>Run summary:</h3><br/><table class=\"wandb\"><tr><td>bias_norm</td><td>0.46607</td></tr><tr><td>episode_length</td><td>6</td></tr><tr><td>epsilon</td><td>0.01254</td></tr><tr><td>grad_norm</td><td>0.0</td></tr><tr><td>loss</td><td>0.0</td></tr><tr><td>success_rate</td><td>0.54</td></tr><tr><td>total_reward</td><td>1.0</td></tr><tr><td>weight_norm</td><td>4.45122</td></tr></table><br/></div></div>"
     },
     "metadata": {},
     "output_type": "display_data"
    },
    {
     "data": {
      "text/plain": "<IPython.core.display.HTML object>",
      "text/html": " View run <strong style=\"color:#cdcd00\">trial_12</strong> at: <a href='https://wandb.ai/loyd-team/optuna_hyperparameter_optimization/runs/5gur4zqy' target=\"_blank\">https://wandb.ai/loyd-team/optuna_hyperparameter_optimization/runs/5gur4zqy</a><br/> View job at <a href='https://wandb.ai/loyd-team/optuna_hyperparameter_optimization/jobs/QXJ0aWZhY3RDb2xsZWN0aW9uOjEyNTY5OTE1NA==/version_details/v2' target=\"_blank\">https://wandb.ai/loyd-team/optuna_hyperparameter_optimization/jobs/QXJ0aWZhY3RDb2xsZWN0aW9uOjEyNTY5OTE1NA==/version_details/v2</a><br/>Synced 6 W&B file(s), 0 media file(s), 2 artifact file(s) and 0 other file(s)"
     },
     "metadata": {},
     "output_type": "display_data"
    },
    {
     "data": {
      "text/plain": "<IPython.core.display.HTML object>",
      "text/html": "Find logs at: <code>./wandb/run-20231225_232048-5gur4zqy/logs</code>"
     },
     "metadata": {},
     "output_type": "display_data"
    },
    {
     "data": {
      "text/plain": "<IPython.core.display.HTML object>",
      "text/html": "Successfully finished last run (ID:5gur4zqy). Initializing new run:<br/>"
     },
     "metadata": {},
     "output_type": "display_data"
    },
    {
     "data": {
      "text/plain": "VBox(children=(Label(value='Waiting for wandb.init()...\\r'), FloatProgress(value=0.011165712033592476, max=1.0…",
      "application/vnd.jupyter.widget-view+json": {
       "version_major": 2,
       "version_minor": 0,
       "model_id": "184c801f18554cd6bca76a6273f53578"
      }
     },
     "metadata": {},
     "output_type": "display_data"
    },
    {
     "data": {
      "text/plain": "<IPython.core.display.HTML object>",
      "text/html": "Tracking run with wandb version 0.16.1"
     },
     "metadata": {},
     "output_type": "display_data"
    },
    {
     "data": {
      "text/plain": "<IPython.core.display.HTML object>",
      "text/html": "Run data is saved locally in <code>/Users/loyd/PycharmProjects/PytorchPractice/notebooks/wandb/run-20231225_232109-yghvani6</code>"
     },
     "metadata": {},
     "output_type": "display_data"
    },
    {
     "data": {
      "text/plain": "<IPython.core.display.HTML object>",
      "text/html": "Syncing run <strong><a href='https://wandb.ai/loyd-team/optuna_hyperparameter_optimization/runs/yghvani6' target=\"_blank\">trial_13</a></strong> to <a href='https://wandb.ai/loyd-team/optuna_hyperparameter_optimization' target=\"_blank\">Weights & Biases</a> (<a href='https://wandb.me/run' target=\"_blank\">docs</a>)<br/>"
     },
     "metadata": {},
     "output_type": "display_data"
    },
    {
     "data": {
      "text/plain": "<IPython.core.display.HTML object>",
      "text/html": " View project at <a href='https://wandb.ai/loyd-team/optuna_hyperparameter_optimization' target=\"_blank\">https://wandb.ai/loyd-team/optuna_hyperparameter_optimization</a>"
     },
     "metadata": {},
     "output_type": "display_data"
    },
    {
     "data": {
      "text/plain": "<IPython.core.display.HTML object>",
      "text/html": " View run at <a href='https://wandb.ai/loyd-team/optuna_hyperparameter_optimization/runs/yghvani6' target=\"_blank\">https://wandb.ai/loyd-team/optuna_hyperparameter_optimization/runs/yghvani6</a>"
     },
     "metadata": {},
     "output_type": "display_data"
    },
    {
     "name": "stderr",
     "output_type": "stream",
     "text": [
      "[I 2023-12-25 23:21:38,140] Trial 13 finished with value: 0.15587789747203804 and parameters: {'learning_rate': 0.01504696593883335, 'gamma': 0.8959691758144748, 'epsilon_start': 0.2549170565158625, 'epsilon_decay': 0.9938275376556036}. Best is trial 7 with value: 0.575047441646383.\n"
     ]
    },
    {
     "data": {
      "text/plain": "<IPython.core.display.HTML object>",
      "text/html": "Finishing last run (ID:yghvani6) before initializing another..."
     },
     "metadata": {},
     "output_type": "display_data"
    },
    {
     "data": {
      "text/plain": "VBox(children=(Label(value='0.001 MB of 0.001 MB uploaded\\r'), FloatProgress(value=1.0, max=1.0)))",
      "application/vnd.jupyter.widget-view+json": {
       "version_major": 2,
       "version_minor": 0,
       "model_id": "b320c0ac3463493d9c69b0a2e760e0aa"
      }
     },
     "metadata": {},
     "output_type": "display_data"
    },
    {
     "data": {
      "text/plain": "<IPython.core.display.HTML object>",
      "text/html": "<style>\n    table.wandb td:nth-child(1) { padding: 0 10px; text-align: left ; width: auto;} td:nth-child(2) {text-align: left ; width: 100%}\n    .wandb-row { display: flex; flex-direction: row; flex-wrap: wrap; justify-content: flex-start; width: 100% }\n    .wandb-col { display: flex; flex-direction: column; flex-basis: 100%; flex: 1; padding: 10px; }\n    </style>\n<div class=\"wandb-row\"><div class=\"wandb-col\"><h3>Run history:</h3><br/><table class=\"wandb\"><tr><td>bias_norm</td><td>▁▁▁▁▁▆██▇▇█</td></tr><tr><td>episode_length</td><td>█▄▇▃▇▂▁▂▂▂▂</td></tr><tr><td>epsilon</td><td>█▇▅▄▄▃▂▂▂▁▁</td></tr><tr><td>grad_norm</td><td>█▁▂▁▁▁▁▁▁▁▁</td></tr><tr><td>loss</td><td>█▁▂▁▁▁▁▁▁▁▁</td></tr><tr><td>success_rate</td><td>▁▁▁▁▁▂▄▅▆▇█</td></tr><tr><td>total_reward</td><td>▁▁▁▁▁█▁████</td></tr><tr><td>weight_norm</td><td>▂▁▂▂▂▆▆█▇██</td></tr></table><br/></div><div class=\"wandb-col\"><h3>Run summary:</h3><br/><table class=\"wandb\"><tr><td>bias_norm</td><td>0.78707</td></tr><tr><td>episode_length</td><td>6</td></tr><tr><td>epsilon</td><td>0.03978</td></tr><tr><td>grad_norm</td><td>3e-05</td></tr><tr><td>loss</td><td>0.0</td></tr><tr><td>success_rate</td><td>0.48667</td></tr><tr><td>total_reward</td><td>1.0</td></tr><tr><td>weight_norm</td><td>4.07633</td></tr></table><br/></div></div>"
     },
     "metadata": {},
     "output_type": "display_data"
    },
    {
     "data": {
      "text/plain": "<IPython.core.display.HTML object>",
      "text/html": " View run <strong style=\"color:#cdcd00\">trial_13</strong> at: <a href='https://wandb.ai/loyd-team/optuna_hyperparameter_optimization/runs/yghvani6' target=\"_blank\">https://wandb.ai/loyd-team/optuna_hyperparameter_optimization/runs/yghvani6</a><br/> View job at <a href='https://wandb.ai/loyd-team/optuna_hyperparameter_optimization/jobs/QXJ0aWZhY3RDb2xsZWN0aW9uOjEyNTY5OTE1NA==/version_details/v2' target=\"_blank\">https://wandb.ai/loyd-team/optuna_hyperparameter_optimization/jobs/QXJ0aWZhY3RDb2xsZWN0aW9uOjEyNTY5OTE1NA==/version_details/v2</a><br/>Synced 6 W&B file(s), 0 media file(s), 0 artifact file(s) and 0 other file(s)"
     },
     "metadata": {},
     "output_type": "display_data"
    },
    {
     "data": {
      "text/plain": "<IPython.core.display.HTML object>",
      "text/html": "Find logs at: <code>./wandb/run-20231225_232109-yghvani6/logs</code>"
     },
     "metadata": {},
     "output_type": "display_data"
    },
    {
     "data": {
      "text/plain": "<IPython.core.display.HTML object>",
      "text/html": "Successfully finished last run (ID:yghvani6). Initializing new run:<br/>"
     },
     "metadata": {},
     "output_type": "display_data"
    },
    {
     "data": {
      "text/plain": "VBox(children=(Label(value='Waiting for wandb.init()...\\r'), FloatProgress(value=0.01116567916663674, max=1.0)…",
      "application/vnd.jupyter.widget-view+json": {
       "version_major": 2,
       "version_minor": 0,
       "model_id": "fb79d303430f41c0a963c58204e11efa"
      }
     },
     "metadata": {},
     "output_type": "display_data"
    },
    {
     "data": {
      "text/plain": "<IPython.core.display.HTML object>",
      "text/html": "Tracking run with wandb version 0.16.1"
     },
     "metadata": {},
     "output_type": "display_data"
    },
    {
     "data": {
      "text/plain": "<IPython.core.display.HTML object>",
      "text/html": "Run data is saved locally in <code>/Users/loyd/PycharmProjects/PytorchPractice/notebooks/wandb/run-20231225_232138-cyrkat6p</code>"
     },
     "metadata": {},
     "output_type": "display_data"
    },
    {
     "data": {
      "text/plain": "<IPython.core.display.HTML object>",
      "text/html": "Syncing run <strong><a href='https://wandb.ai/loyd-team/optuna_hyperparameter_optimization/runs/cyrkat6p' target=\"_blank\">trial_14</a></strong> to <a href='https://wandb.ai/loyd-team/optuna_hyperparameter_optimization' target=\"_blank\">Weights & Biases</a> (<a href='https://wandb.me/run' target=\"_blank\">docs</a>)<br/>"
     },
     "metadata": {},
     "output_type": "display_data"
    },
    {
     "data": {
      "text/plain": "<IPython.core.display.HTML object>",
      "text/html": " View project at <a href='https://wandb.ai/loyd-team/optuna_hyperparameter_optimization' target=\"_blank\">https://wandb.ai/loyd-team/optuna_hyperparameter_optimization</a>"
     },
     "metadata": {},
     "output_type": "display_data"
    },
    {
     "data": {
      "text/plain": "<IPython.core.display.HTML object>",
      "text/html": " View run at <a href='https://wandb.ai/loyd-team/optuna_hyperparameter_optimization/runs/cyrkat6p' target=\"_blank\">https://wandb.ai/loyd-team/optuna_hyperparameter_optimization/runs/cyrkat6p</a>"
     },
     "metadata": {},
     "output_type": "display_data"
    },
    {
     "name": "stderr",
     "output_type": "stream",
     "text": [
      "[I 2023-12-25 23:21:58,120] Trial 14 finished with value: 0.45810791211999363 and parameters: {'learning_rate': 0.012330046095073965, 'gamma': 0.8380599901856739, 'epsilon_start': 0.24792398685214218, 'epsilon_decay': 0.9900646654259951}. Best is trial 7 with value: 0.575047441646383.\n"
     ]
    },
    {
     "data": {
      "text/plain": "<IPython.core.display.HTML object>",
      "text/html": "Finishing last run (ID:cyrkat6p) before initializing another..."
     },
     "metadata": {},
     "output_type": "display_data"
    },
    {
     "data": {
      "text/plain": "VBox(children=(Label(value='0.001 MB of 0.001 MB uploaded\\r'), FloatProgress(value=1.0, max=1.0)))",
      "application/vnd.jupyter.widget-view+json": {
       "version_major": 2,
       "version_minor": 0,
       "model_id": "fcb14cb49eec4a4d8be504685b44ab12"
      }
     },
     "metadata": {},
     "output_type": "display_data"
    },
    {
     "data": {
      "text/plain": "<IPython.core.display.HTML object>",
      "text/html": "<style>\n    table.wandb td:nth-child(1) { padding: 0 10px; text-align: left ; width: auto;} td:nth-child(2) {text-align: left ; width: 100%}\n    .wandb-row { display: flex; flex-direction: row; flex-wrap: wrap; justify-content: flex-start; width: 100% }\n    .wandb-col { display: flex; flex-direction: column; flex-basis: 100%; flex: 1; padding: 10px; }\n    </style>\n<div class=\"wandb-row\"><div class=\"wandb-col\"><h3>Run history:</h3><br/><table class=\"wandb\"><tr><td>bias_norm</td><td>▁▁▂▅▇▆▇▇█▇█</td></tr><tr><td>episode_length</td><td>▄█▁▁▁▁▁▁▁▁▁</td></tr><tr><td>epsilon</td><td>█▆▅▄▃▂▂▂▁▁▁</td></tr><tr><td>grad_norm</td><td>▁▁█▁▁▁▁▁▁▁▁</td></tr><tr><td>loss</td><td>▁▁█▁▁▁▁▁▁▁▁</td></tr><tr><td>success_rate</td><td>▁▁▂▄▅▆▇▇▇██</td></tr><tr><td>total_reward</td><td>▁▁█████████</td></tr><tr><td>weight_norm</td><td>▂▁▃▆▆▇▇███▇</td></tr></table><br/></div><div class=\"wandb-col\"><h3>Run summary:</h3><br/><table class=\"wandb\"><tr><td>bias_norm</td><td>0.45983</td></tr><tr><td>episode_length</td><td>6</td></tr><tr><td>epsilon</td><td>0.0124</td></tr><tr><td>grad_norm</td><td>0.0001</td></tr><tr><td>loss</td><td>1e-05</td></tr><tr><td>success_rate</td><td>0.77333</td></tr><tr><td>total_reward</td><td>1.0</td></tr><tr><td>weight_norm</td><td>3.44804</td></tr></table><br/></div></div>"
     },
     "metadata": {},
     "output_type": "display_data"
    },
    {
     "data": {
      "text/plain": "<IPython.core.display.HTML object>",
      "text/html": " View run <strong style=\"color:#cdcd00\">trial_14</strong> at: <a href='https://wandb.ai/loyd-team/optuna_hyperparameter_optimization/runs/cyrkat6p' target=\"_blank\">https://wandb.ai/loyd-team/optuna_hyperparameter_optimization/runs/cyrkat6p</a><br/> View job at <a href='https://wandb.ai/loyd-team/optuna_hyperparameter_optimization/jobs/QXJ0aWZhY3RDb2xsZWN0aW9uOjEyNTY5OTE1NA==/version_details/v2' target=\"_blank\">https://wandb.ai/loyd-team/optuna_hyperparameter_optimization/jobs/QXJ0aWZhY3RDb2xsZWN0aW9uOjEyNTY5OTE1NA==/version_details/v2</a><br/>Synced 6 W&B file(s), 0 media file(s), 0 artifact file(s) and 0 other file(s)"
     },
     "metadata": {},
     "output_type": "display_data"
    },
    {
     "data": {
      "text/plain": "<IPython.core.display.HTML object>",
      "text/html": "Find logs at: <code>./wandb/run-20231225_232138-cyrkat6p/logs</code>"
     },
     "metadata": {},
     "output_type": "display_data"
    },
    {
     "data": {
      "text/plain": "<IPython.core.display.HTML object>",
      "text/html": "Successfully finished last run (ID:cyrkat6p). Initializing new run:<br/>"
     },
     "metadata": {},
     "output_type": "display_data"
    },
    {
     "data": {
      "text/plain": "VBox(children=(Label(value='Waiting for wandb.init()...\\r'), FloatProgress(value=0.011168141210994994, max=1.0…",
      "application/vnd.jupyter.widget-view+json": {
       "version_major": 2,
       "version_minor": 0,
       "model_id": "fb047e5a99fc41f1b06d8dc1a91bf600"
      }
     },
     "metadata": {},
     "output_type": "display_data"
    },
    {
     "data": {
      "text/plain": "<IPython.core.display.HTML object>",
      "text/html": "Tracking run with wandb version 0.16.1"
     },
     "metadata": {},
     "output_type": "display_data"
    },
    {
     "data": {
      "text/plain": "<IPython.core.display.HTML object>",
      "text/html": "Run data is saved locally in <code>/Users/loyd/PycharmProjects/PytorchPractice/notebooks/wandb/run-20231225_232158-esjj3rys</code>"
     },
     "metadata": {},
     "output_type": "display_data"
    },
    {
     "data": {
      "text/plain": "<IPython.core.display.HTML object>",
      "text/html": "Syncing run <strong><a href='https://wandb.ai/loyd-team/optuna_hyperparameter_optimization/runs/esjj3rys' target=\"_blank\">trial_15</a></strong> to <a href='https://wandb.ai/loyd-team/optuna_hyperparameter_optimization' target=\"_blank\">Weights & Biases</a> (<a href='https://wandb.me/run' target=\"_blank\">docs</a>)<br/>"
     },
     "metadata": {},
     "output_type": "display_data"
    },
    {
     "data": {
      "text/plain": "<IPython.core.display.HTML object>",
      "text/html": " View project at <a href='https://wandb.ai/loyd-team/optuna_hyperparameter_optimization' target=\"_blank\">https://wandb.ai/loyd-team/optuna_hyperparameter_optimization</a>"
     },
     "metadata": {},
     "output_type": "display_data"
    },
    {
     "data": {
      "text/plain": "<IPython.core.display.HTML object>",
      "text/html": " View run at <a href='https://wandb.ai/loyd-team/optuna_hyperparameter_optimization/runs/esjj3rys' target=\"_blank\">https://wandb.ai/loyd-team/optuna_hyperparameter_optimization/runs/esjj3rys</a>"
     },
     "metadata": {},
     "output_type": "display_data"
    },
    {
     "name": "stderr",
     "output_type": "stream",
     "text": [
      "[I 2023-12-25 23:22:31,394] Trial 15 finished with value: 0.014436798284145406 and parameters: {'learning_rate': 0.09143647373970176, 'gamma': 0.8270106039112651, 'epsilon_start': 0.5779644020813133, 'epsilon_decay': 0.9913420599490912}. Best is trial 7 with value: 0.575047441646383.\n"
     ]
    },
    {
     "data": {
      "text/plain": "<IPython.core.display.HTML object>",
      "text/html": "Finishing last run (ID:esjj3rys) before initializing another..."
     },
     "metadata": {},
     "output_type": "display_data"
    },
    {
     "data": {
      "text/plain": "VBox(children=(Label(value='0.001 MB of 0.001 MB uploaded\\r'), FloatProgress(value=1.0, max=1.0)))",
      "application/vnd.jupyter.widget-view+json": {
       "version_major": 2,
       "version_minor": 0,
       "model_id": "63483cc79a994c4b8dfdefcac4812c87"
      }
     },
     "metadata": {},
     "output_type": "display_data"
    },
    {
     "data": {
      "text/plain": "<IPython.core.display.HTML object>",
      "text/html": "<style>\n    table.wandb td:nth-child(1) { padding: 0 10px; text-align: left ; width: auto;} td:nth-child(2) {text-align: left ; width: 100%}\n    .wandb-row { display: flex; flex-direction: row; flex-wrap: wrap; justify-content: flex-start; width: 100% }\n    .wandb-col { display: flex; flex-direction: column; flex-basis: 100%; flex: 1; padding: 10px; }\n    </style>\n<div class=\"wandb-row\"><div class=\"wandb-col\"><h3>Run history:</h3><br/><table class=\"wandb\"><tr><td>bias_norm</td><td>▃▂█▅▃▂▄▁▁▁▃</td></tr><tr><td>episode_length</td><td>█▁▁▁▄▇▁▆▁▆▁</td></tr><tr><td>epsilon</td><td>█▆▅▄▃▂▂▂▁▁▁</td></tr><tr><td>grad_norm</td><td>▁█▃▁▅▁▁▁▁▁▁</td></tr><tr><td>loss</td><td>▁█▃▁▅▁▁▁▁▁▁</td></tr><tr><td>success_rate</td><td>▁▁▁▄▇▆█▇▆▆▅</td></tr><tr><td>total_reward</td><td>▁▁▁▁▁▁▁▁▁▁▁</td></tr><tr><td>weight_norm</td><td>▁▅▄▅█▆▆▅▄▄▆</td></tr></table><br/></div><div class=\"wandb-col\"><h3>Run summary:</h3><br/><table class=\"wandb\"><tr><td>bias_norm</td><td>0.51602</td></tr><tr><td>episode_length</td><td>2</td></tr><tr><td>epsilon</td><td>0.04256</td></tr><tr><td>grad_norm</td><td>0.00666</td></tr><tr><td>loss</td><td>0.00083</td></tr><tr><td>success_rate</td><td>0.01667</td></tr><tr><td>total_reward</td><td>0.0</td></tr><tr><td>weight_norm</td><td>28.92663</td></tr></table><br/></div></div>"
     },
     "metadata": {},
     "output_type": "display_data"
    },
    {
     "data": {
      "text/plain": "<IPython.core.display.HTML object>",
      "text/html": " View run <strong style=\"color:#cdcd00\">trial_15</strong> at: <a href='https://wandb.ai/loyd-team/optuna_hyperparameter_optimization/runs/esjj3rys' target=\"_blank\">https://wandb.ai/loyd-team/optuna_hyperparameter_optimization/runs/esjj3rys</a><br/> View job at <a href='https://wandb.ai/loyd-team/optuna_hyperparameter_optimization/jobs/QXJ0aWZhY3RDb2xsZWN0aW9uOjEyNTY5OTE1NA==/version_details/v2' target=\"_blank\">https://wandb.ai/loyd-team/optuna_hyperparameter_optimization/jobs/QXJ0aWZhY3RDb2xsZWN0aW9uOjEyNTY5OTE1NA==/version_details/v2</a><br/>Synced 6 W&B file(s), 0 media file(s), 0 artifact file(s) and 0 other file(s)"
     },
     "metadata": {},
     "output_type": "display_data"
    },
    {
     "data": {
      "text/plain": "<IPython.core.display.HTML object>",
      "text/html": "Find logs at: <code>./wandb/run-20231225_232158-esjj3rys/logs</code>"
     },
     "metadata": {},
     "output_type": "display_data"
    },
    {
     "data": {
      "text/plain": "<IPython.core.display.HTML object>",
      "text/html": "Successfully finished last run (ID:esjj3rys). Initializing new run:<br/>"
     },
     "metadata": {},
     "output_type": "display_data"
    },
    {
     "data": {
      "text/plain": "VBox(children=(Label(value='Waiting for wandb.init()...\\r'), FloatProgress(value=0.011123382400061626, max=1.0…",
      "application/vnd.jupyter.widget-view+json": {
       "version_major": 2,
       "version_minor": 0,
       "model_id": "76c1be95f3a94060b0dcbd5b038d35cc"
      }
     },
     "metadata": {},
     "output_type": "display_data"
    },
    {
     "data": {
      "text/plain": "<IPython.core.display.HTML object>",
      "text/html": "Tracking run with wandb version 0.16.1"
     },
     "metadata": {},
     "output_type": "display_data"
    },
    {
     "data": {
      "text/plain": "<IPython.core.display.HTML object>",
      "text/html": "Run data is saved locally in <code>/Users/loyd/PycharmProjects/PytorchPractice/notebooks/wandb/run-20231225_232231-p1v6lem2</code>"
     },
     "metadata": {},
     "output_type": "display_data"
    },
    {
     "data": {
      "text/plain": "<IPython.core.display.HTML object>",
      "text/html": "Syncing run <strong><a href='https://wandb.ai/loyd-team/optuna_hyperparameter_optimization/runs/p1v6lem2' target=\"_blank\">trial_16</a></strong> to <a href='https://wandb.ai/loyd-team/optuna_hyperparameter_optimization' target=\"_blank\">Weights & Biases</a> (<a href='https://wandb.me/run' target=\"_blank\">docs</a>)<br/>"
     },
     "metadata": {},
     "output_type": "display_data"
    },
    {
     "data": {
      "text/plain": "<IPython.core.display.HTML object>",
      "text/html": " View project at <a href='https://wandb.ai/loyd-team/optuna_hyperparameter_optimization' target=\"_blank\">https://wandb.ai/loyd-team/optuna_hyperparameter_optimization</a>"
     },
     "metadata": {},
     "output_type": "display_data"
    },
    {
     "data": {
      "text/plain": "<IPython.core.display.HTML object>",
      "text/html": " View run at <a href='https://wandb.ai/loyd-team/optuna_hyperparameter_optimization/runs/p1v6lem2' target=\"_blank\">https://wandb.ai/loyd-team/optuna_hyperparameter_optimization/runs/p1v6lem2</a>"
     },
     "metadata": {},
     "output_type": "display_data"
    },
    {
     "name": "stderr",
     "output_type": "stream",
     "text": [
      "[I 2023-12-25 23:22:51,629] Trial 16 finished with value: 0.17004990588523794 and parameters: {'learning_rate': 0.0070538571592181545, 'gamma': 0.9056843267712962, 'epsilon_start': 0.8729160577799076, 'epsilon_decay': 0.9946682483480175}. Best is trial 7 with value: 0.575047441646383.\n"
     ]
    },
    {
     "data": {
      "text/plain": "<IPython.core.display.HTML object>",
      "text/html": "Finishing last run (ID:p1v6lem2) before initializing another..."
     },
     "metadata": {},
     "output_type": "display_data"
    },
    {
     "data": {
      "text/plain": "VBox(children=(Label(value='0.001 MB of 0.001 MB uploaded\\r'), FloatProgress(value=1.0, max=1.0)))",
      "application/vnd.jupyter.widget-view+json": {
       "version_major": 2,
       "version_minor": 0,
       "model_id": "d0b26612df4042209fb641ee1b4c9563"
      }
     },
     "metadata": {},
     "output_type": "display_data"
    },
    {
     "data": {
      "text/plain": "<IPython.core.display.HTML object>",
      "text/html": "<style>\n    table.wandb td:nth-child(1) { padding: 0 10px; text-align: left ; width: auto;} td:nth-child(2) {text-align: left ; width: 100%}\n    .wandb-row { display: flex; flex-direction: row; flex-wrap: wrap; justify-content: flex-start; width: 100% }\n    .wandb-col { display: flex; flex-direction: column; flex-basis: 100%; flex: 1; padding: 10px; }\n    </style>\n<div class=\"wandb-row\"><div class=\"wandb-col\"><h3>Run history:</h3><br/><table class=\"wandb\"><tr><td>bias_norm</td><td>▂▁▁▁▂▆█████</td></tr><tr><td>episode_length</td><td>▃▂█▁▁▃▃▃▄▃▂</td></tr><tr><td>epsilon</td><td>█▇▆▅▄▃▃▂▂▁▁</td></tr><tr><td>grad_norm</td><td>█▁▁▁▁▁▁▁▁▁▁</td></tr><tr><td>loss</td><td>█▁▁▁▁▁▁▁▁▁▁</td></tr><tr><td>success_rate</td><td>▁▁▁▁▂▃▅▅▇▇█</td></tr><tr><td>total_reward</td><td>▁▁▁▁▁████▁▁</td></tr><tr><td>weight_norm</td><td>▃▂▁▁▂▅▇▇▇██</td></tr></table><br/></div><div class=\"wandb-col\"><h3>Run summary:</h3><br/><table class=\"wandb\"><tr><td>bias_norm</td><td>0.89298</td></tr><tr><td>episode_length</td><td>3</td></tr><tr><td>epsilon</td><td>0.17557</td></tr><tr><td>grad_norm</td><td>1e-05</td></tr><tr><td>loss</td><td>0.0</td></tr><tr><td>success_rate</td><td>0.44</td></tr><tr><td>total_reward</td><td>0.0</td></tr><tr><td>weight_norm</td><td>4.49114</td></tr></table><br/></div></div>"
     },
     "metadata": {},
     "output_type": "display_data"
    },
    {
     "data": {
      "text/plain": "<IPython.core.display.HTML object>",
      "text/html": " View run <strong style=\"color:#cdcd00\">trial_16</strong> at: <a href='https://wandb.ai/loyd-team/optuna_hyperparameter_optimization/runs/p1v6lem2' target=\"_blank\">https://wandb.ai/loyd-team/optuna_hyperparameter_optimization/runs/p1v6lem2</a><br/> View job at <a href='https://wandb.ai/loyd-team/optuna_hyperparameter_optimization/jobs/QXJ0aWZhY3RDb2xsZWN0aW9uOjEyNTY5OTE1NA==/version_details/v2' target=\"_blank\">https://wandb.ai/loyd-team/optuna_hyperparameter_optimization/jobs/QXJ0aWZhY3RDb2xsZWN0aW9uOjEyNTY5OTE1NA==/version_details/v2</a><br/>Synced 6 W&B file(s), 0 media file(s), 0 artifact file(s) and 0 other file(s)"
     },
     "metadata": {},
     "output_type": "display_data"
    },
    {
     "data": {
      "text/plain": "<IPython.core.display.HTML object>",
      "text/html": "Find logs at: <code>./wandb/run-20231225_232231-p1v6lem2/logs</code>"
     },
     "metadata": {},
     "output_type": "display_data"
    },
    {
     "data": {
      "text/plain": "<IPython.core.display.HTML object>",
      "text/html": "Successfully finished last run (ID:p1v6lem2). Initializing new run:<br/>"
     },
     "metadata": {},
     "output_type": "display_data"
    },
    {
     "data": {
      "text/plain": "VBox(children=(Label(value='Waiting for wandb.init()...\\r'), FloatProgress(value=0.01112244489971393, max=1.0)…",
      "application/vnd.jupyter.widget-view+json": {
       "version_major": 2,
       "version_minor": 0,
       "model_id": "6f4e593ce3804a078291d675946bedbe"
      }
     },
     "metadata": {},
     "output_type": "display_data"
    },
    {
     "data": {
      "text/plain": "<IPython.core.display.HTML object>",
      "text/html": "Tracking run with wandb version 0.16.1"
     },
     "metadata": {},
     "output_type": "display_data"
    },
    {
     "data": {
      "text/plain": "<IPython.core.display.HTML object>",
      "text/html": "Run data is saved locally in <code>/Users/loyd/PycharmProjects/PytorchPractice/notebooks/wandb/run-20231225_232251-se9oav4v</code>"
     },
     "metadata": {},
     "output_type": "display_data"
    },
    {
     "data": {
      "text/plain": "<IPython.core.display.HTML object>",
      "text/html": "Syncing run <strong><a href='https://wandb.ai/loyd-team/optuna_hyperparameter_optimization/runs/se9oav4v' target=\"_blank\">trial_17</a></strong> to <a href='https://wandb.ai/loyd-team/optuna_hyperparameter_optimization' target=\"_blank\">Weights & Biases</a> (<a href='https://wandb.me/run' target=\"_blank\">docs</a>)<br/>"
     },
     "metadata": {},
     "output_type": "display_data"
    },
    {
     "data": {
      "text/plain": "<IPython.core.display.HTML object>",
      "text/html": " View project at <a href='https://wandb.ai/loyd-team/optuna_hyperparameter_optimization' target=\"_blank\">https://wandb.ai/loyd-team/optuna_hyperparameter_optimization</a>"
     },
     "metadata": {},
     "output_type": "display_data"
    },
    {
     "data": {
      "text/plain": "<IPython.core.display.HTML object>",
      "text/html": " View run at <a href='https://wandb.ai/loyd-team/optuna_hyperparameter_optimization/runs/se9oav4v' target=\"_blank\">https://wandb.ai/loyd-team/optuna_hyperparameter_optimization/runs/se9oav4v</a>"
     },
     "metadata": {},
     "output_type": "display_data"
    },
    {
     "name": "stderr",
     "output_type": "stream",
     "text": [
      "[I 2023-12-25 23:23:20,015] Trial 17 finished with value: 0.3738443217809422 and parameters: {'learning_rate': 0.03559638612253314, 'gamma': 0.9201766634110826, 'epsilon_start': 0.18456437818389468, 'epsilon_decay': 0.9935134534675142}. Best is trial 7 with value: 0.575047441646383.\n"
     ]
    },
    {
     "data": {
      "text/plain": "<IPython.core.display.HTML object>",
      "text/html": "Finishing last run (ID:se9oav4v) before initializing another..."
     },
     "metadata": {},
     "output_type": "display_data"
    },
    {
     "data": {
      "text/plain": "VBox(children=(Label(value='0.001 MB of 0.001 MB uploaded\\r'), FloatProgress(value=1.0, max=1.0)))",
      "application/vnd.jupyter.widget-view+json": {
       "version_major": 2,
       "version_minor": 0,
       "model_id": "721f9d579e3a451284426c7b54b45f12"
      }
     },
     "metadata": {},
     "output_type": "display_data"
    },
    {
     "data": {
      "text/plain": "<IPython.core.display.HTML object>",
      "text/html": "<style>\n    table.wandb td:nth-child(1) { padding: 0 10px; text-align: left ; width: auto;} td:nth-child(2) {text-align: left ; width: 100%}\n    .wandb-row { display: flex; flex-direction: row; flex-wrap: wrap; justify-content: flex-start; width: 100% }\n    .wandb-col { display: flex; flex-direction: column; flex-basis: 100%; flex: 1; padding: 10px; }\n    </style>\n<div class=\"wandb-row\"><div class=\"wandb-col\"><h3>Run history:</h3><br/><table class=\"wandb\"><tr><td>bias_norm</td><td>▁▁▂▇▁██▅█▃▅</td></tr><tr><td>episode_length</td><td>▆▅█▁▃▁▁▁▁▁▁</td></tr><tr><td>epsilon</td><td>█▇▅▄▄▃▂▂▂▁▁</td></tr><tr><td>grad_norm</td><td>▁▁▁▁█▁▁▁▁▁▁</td></tr><tr><td>loss</td><td>▁▁▁▁█▁▁▁▁▁▁</td></tr><tr><td>success_rate</td><td>▁▁▁▃▄▆▇▇▇██</td></tr><tr><td>total_reward</td><td>▁▁▁█▁██████</td></tr><tr><td>weight_norm</td><td>▁▃█▇▅▆▆▆▅█▇</td></tr></table><br/></div><div class=\"wandb-col\"><h3>Run summary:</h3><br/><table class=\"wandb\"><tr><td>bias_norm</td><td>0.23495</td></tr><tr><td>episode_length</td><td>6</td></tr><tr><td>epsilon</td><td>0.0262</td></tr><tr><td>grad_norm</td><td>0.01433</td></tr><tr><td>loss</td><td>0.00179</td></tr><tr><td>success_rate</td><td>0.68333</td></tr><tr><td>total_reward</td><td>1.0</td></tr><tr><td>weight_norm</td><td>8.3201</td></tr></table><br/></div></div>"
     },
     "metadata": {},
     "output_type": "display_data"
    },
    {
     "data": {
      "text/plain": "<IPython.core.display.HTML object>",
      "text/html": " View run <strong style=\"color:#cdcd00\">trial_17</strong> at: <a href='https://wandb.ai/loyd-team/optuna_hyperparameter_optimization/runs/se9oav4v' target=\"_blank\">https://wandb.ai/loyd-team/optuna_hyperparameter_optimization/runs/se9oav4v</a><br/> View job at <a href='https://wandb.ai/loyd-team/optuna_hyperparameter_optimization/jobs/QXJ0aWZhY3RDb2xsZWN0aW9uOjEyNTY5OTE1NA==/version_details/v2' target=\"_blank\">https://wandb.ai/loyd-team/optuna_hyperparameter_optimization/jobs/QXJ0aWZhY3RDb2xsZWN0aW9uOjEyNTY5OTE1NA==/version_details/v2</a><br/>Synced 6 W&B file(s), 0 media file(s), 0 artifact file(s) and 0 other file(s)"
     },
     "metadata": {},
     "output_type": "display_data"
    },
    {
     "data": {
      "text/plain": "<IPython.core.display.HTML object>",
      "text/html": "Find logs at: <code>./wandb/run-20231225_232251-se9oav4v/logs</code>"
     },
     "metadata": {},
     "output_type": "display_data"
    },
    {
     "data": {
      "text/plain": "<IPython.core.display.HTML object>",
      "text/html": "Successfully finished last run (ID:se9oav4v). Initializing new run:<br/>"
     },
     "metadata": {},
     "output_type": "display_data"
    },
    {
     "data": {
      "text/plain": "VBox(children=(Label(value='Waiting for wandb.init()...\\r'), FloatProgress(value=0.011168235177562262, max=1.0…",
      "application/vnd.jupyter.widget-view+json": {
       "version_major": 2,
       "version_minor": 0,
       "model_id": "8c2fd6b96f154b859656e85d03916b31"
      }
     },
     "metadata": {},
     "output_type": "display_data"
    },
    {
     "data": {
      "text/plain": "<IPython.core.display.HTML object>",
      "text/html": "Tracking run with wandb version 0.16.1"
     },
     "metadata": {},
     "output_type": "display_data"
    },
    {
     "data": {
      "text/plain": "<IPython.core.display.HTML object>",
      "text/html": "Run data is saved locally in <code>/Users/loyd/PycharmProjects/PytorchPractice/notebooks/wandb/run-20231225_232320-2p0274sh</code>"
     },
     "metadata": {},
     "output_type": "display_data"
    },
    {
     "data": {
      "text/plain": "<IPython.core.display.HTML object>",
      "text/html": "Syncing run <strong><a href='https://wandb.ai/loyd-team/optuna_hyperparameter_optimization/runs/2p0274sh' target=\"_blank\">trial_18</a></strong> to <a href='https://wandb.ai/loyd-team/optuna_hyperparameter_optimization' target=\"_blank\">Weights & Biases</a> (<a href='https://wandb.me/run' target=\"_blank\">docs</a>)<br/>"
     },
     "metadata": {},
     "output_type": "display_data"
    },
    {
     "data": {
      "text/plain": "<IPython.core.display.HTML object>",
      "text/html": " View project at <a href='https://wandb.ai/loyd-team/optuna_hyperparameter_optimization' target=\"_blank\">https://wandb.ai/loyd-team/optuna_hyperparameter_optimization</a>"
     },
     "metadata": {},
     "output_type": "display_data"
    },
    {
     "data": {
      "text/plain": "<IPython.core.display.HTML object>",
      "text/html": " View run at <a href='https://wandb.ai/loyd-team/optuna_hyperparameter_optimization/runs/2p0274sh' target=\"_blank\">https://wandb.ai/loyd-team/optuna_hyperparameter_optimization/runs/2p0274sh</a>"
     },
     "metadata": {},
     "output_type": "display_data"
    },
    {
     "name": "stderr",
     "output_type": "stream",
     "text": [
      "[I 2023-12-25 23:23:43,900] Trial 18 finished with value: 0.20351390555882654 and parameters: {'learning_rate': 0.03700718577502639, 'gamma': 0.86664272240422, 'epsilon_start': 0.26593042883636964, 'epsilon_decay': 0.9911849708516292}. Best is trial 7 with value: 0.575047441646383.\n"
     ]
    },
    {
     "data": {
      "text/plain": "<IPython.core.display.HTML object>",
      "text/html": "Finishing last run (ID:2p0274sh) before initializing another..."
     },
     "metadata": {},
     "output_type": "display_data"
    },
    {
     "data": {
      "text/plain": "VBox(children=(Label(value='0.001 MB of 0.001 MB uploaded\\r'), FloatProgress(value=1.0, max=1.0)))",
      "application/vnd.jupyter.widget-view+json": {
       "version_major": 2,
       "version_minor": 0,
       "model_id": "193811bf98e84db98a811af919fa565d"
      }
     },
     "metadata": {},
     "output_type": "display_data"
    },
    {
     "data": {
      "text/plain": "<IPython.core.display.HTML object>",
      "text/html": "<style>\n    table.wandb td:nth-child(1) { padding: 0 10px; text-align: left ; width: auto;} td:nth-child(2) {text-align: left ; width: 100%}\n    .wandb-row { display: flex; flex-direction: row; flex-wrap: wrap; justify-content: flex-start; width: 100% }\n    .wandb-col { display: flex; flex-direction: column; flex-basis: 100%; flex: 1; padding: 10px; }\n    </style>\n<div class=\"wandb-row\"><div class=\"wandb-col\"><h3>Run history:</h3><br/><table class=\"wandb\"><tr><td>bias_norm</td><td>▁▂▄▃▆▄█▆▃▂▃</td></tr><tr><td>episode_length</td><td>▂▄█▄▂▇▇▇▁▇▇</td></tr><tr><td>epsilon</td><td>█▆▅▄▃▂▂▂▁▁▁</td></tr><tr><td>grad_norm</td><td>▁▂▆▁█▁▁▁▁▃▁</td></tr><tr><td>loss</td><td>▁▂▆▁█▁▁▁▁▃▁</td></tr><tr><td>success_rate</td><td>▁▁▁▁▂▄▆▇█▇█</td></tr><tr><td>total_reward</td><td>▁▁▁▁▁███▁██</td></tr><tr><td>weight_norm</td><td>▁▄▆▆▅▆▅▆██▇</td></tr></table><br/></div><div class=\"wandb-col\"><h3>Run summary:</h3><br/><table class=\"wandb\"><tr><td>bias_norm</td><td>0.17609</td></tr><tr><td>episode_length</td><td>6</td></tr><tr><td>epsilon</td><td>0.01867</td></tr><tr><td>grad_norm</td><td>0.0022</td></tr><tr><td>loss</td><td>0.00027</td></tr><tr><td>success_rate</td><td>0.44667</td></tr><tr><td>total_reward</td><td>1.0</td></tr><tr><td>weight_norm</td><td>8.84477</td></tr></table><br/></div></div>"
     },
     "metadata": {},
     "output_type": "display_data"
    },
    {
     "data": {
      "text/plain": "<IPython.core.display.HTML object>",
      "text/html": " View run <strong style=\"color:#cdcd00\">trial_18</strong> at: <a href='https://wandb.ai/loyd-team/optuna_hyperparameter_optimization/runs/2p0274sh' target=\"_blank\">https://wandb.ai/loyd-team/optuna_hyperparameter_optimization/runs/2p0274sh</a><br/> View job at <a href='https://wandb.ai/loyd-team/optuna_hyperparameter_optimization/jobs/QXJ0aWZhY3RDb2xsZWN0aW9uOjEyNTY5OTE1NA==/version_details/v2' target=\"_blank\">https://wandb.ai/loyd-team/optuna_hyperparameter_optimization/jobs/QXJ0aWZhY3RDb2xsZWN0aW9uOjEyNTY5OTE1NA==/version_details/v2</a><br/>Synced 6 W&B file(s), 0 media file(s), 0 artifact file(s) and 0 other file(s)"
     },
     "metadata": {},
     "output_type": "display_data"
    },
    {
     "data": {
      "text/plain": "<IPython.core.display.HTML object>",
      "text/html": "Find logs at: <code>./wandb/run-20231225_232320-2p0274sh/logs</code>"
     },
     "metadata": {},
     "output_type": "display_data"
    },
    {
     "data": {
      "text/plain": "<IPython.core.display.HTML object>",
      "text/html": "Successfully finished last run (ID:2p0274sh). Initializing new run:<br/>"
     },
     "metadata": {},
     "output_type": "display_data"
    },
    {
     "data": {
      "text/plain": "VBox(children=(Label(value='Waiting for wandb.init()...\\r'), FloatProgress(value=0.011156572688681385, max=1.0…",
      "application/vnd.jupyter.widget-view+json": {
       "version_major": 2,
       "version_minor": 0,
       "model_id": "56a9c085bb8849ab882566d3e225589b"
      }
     },
     "metadata": {},
     "output_type": "display_data"
    },
    {
     "data": {
      "text/plain": "<IPython.core.display.HTML object>",
      "text/html": "Tracking run with wandb version 0.16.1"
     },
     "metadata": {},
     "output_type": "display_data"
    },
    {
     "data": {
      "text/plain": "<IPython.core.display.HTML object>",
      "text/html": "Run data is saved locally in <code>/Users/loyd/PycharmProjects/PytorchPractice/notebooks/wandb/run-20231225_232343-64l7xvr4</code>"
     },
     "metadata": {},
     "output_type": "display_data"
    },
    {
     "data": {
      "text/plain": "<IPython.core.display.HTML object>",
      "text/html": "Syncing run <strong><a href='https://wandb.ai/loyd-team/optuna_hyperparameter_optimization/runs/64l7xvr4' target=\"_blank\">trial_19</a></strong> to <a href='https://wandb.ai/loyd-team/optuna_hyperparameter_optimization' target=\"_blank\">Weights & Biases</a> (<a href='https://wandb.me/run' target=\"_blank\">docs</a>)<br/>"
     },
     "metadata": {},
     "output_type": "display_data"
    },
    {
     "data": {
      "text/plain": "<IPython.core.display.HTML object>",
      "text/html": " View project at <a href='https://wandb.ai/loyd-team/optuna_hyperparameter_optimization' target=\"_blank\">https://wandb.ai/loyd-team/optuna_hyperparameter_optimization</a>"
     },
     "metadata": {},
     "output_type": "display_data"
    },
    {
     "data": {
      "text/plain": "<IPython.core.display.HTML object>",
      "text/html": " View run at <a href='https://wandb.ai/loyd-team/optuna_hyperparameter_optimization/runs/64l7xvr4' target=\"_blank\">https://wandb.ai/loyd-team/optuna_hyperparameter_optimization/runs/64l7xvr4</a>"
     },
     "metadata": {},
     "output_type": "display_data"
    },
    {
     "name": "stderr",
     "output_type": "stream",
     "text": [
      "[I 2023-12-25 23:24:03,517] Trial 19 finished with value: 0.14750303508703683 and parameters: {'learning_rate': 0.00026897074569312806, 'gamma': 0.8211080871980361, 'epsilon_start': 0.6886336243723618, 'epsilon_decay': 0.9945866920259149}. Best is trial 7 with value: 0.575047441646383.\n"
     ]
    },
    {
     "name": "stdout",
     "output_type": "stream",
     "text": [
      "Best trial:\n",
      " Value: 0.575047441646383\n",
      " Params: \n",
      "    learning_rate: 0.026514591365969876\n",
      "    gamma: 0.8251724707269791\n",
      "    epsilon_start: 0.3207237971056019\n",
      "    epsilon_decay: 0.9935894352887233\n"
     ]
    }
   ],
   "source": [
    "\n",
    "study = optuna.create_study(direction='maximize')\n",
    "study.optimize(objective, n_trials=20)\n",
    "\n",
    "print(\"Best trial:\")\n",
    "trial = study.best_trial\n",
    "print(f\" Value: {trial.value}\")\n",
    "print(\" Params: \")\n",
    "for key, value in trial.params.items():\n",
    "    print(f\"    {key}: {value}\")"
   ],
   "metadata": {
    "collapsed": false,
    "ExecuteTime": {
     "end_time": "2023-12-25T22:24:03.523819Z",
     "start_time": "2023-12-25T22:16:04.282855Z"
    }
   },
   "id": "380fbbe2086bcac1"
  },
  {
   "cell_type": "code",
   "execution_count": 121,
   "outputs": [
    {
     "data": {
      "text/plain": "<Figure size 500x500 with 1 Axes>",
      "image/png": "[encoded data removed]"
     },
     "metadata": {},
     "output_type": "display_data"
    }
   ],
   "source": [
    "# Convert env.desc to a string format\n",
    "desc = env.desc.astype(str)\n",
    "\n",
    "# Create a color map for the grid\n",
    "color_map = {'S': 1.0, 'F': 0.5, 'H': 0.0, 'G': 0.75}\n",
    "grid_colors = np.vectorize(color_map.get)(desc)\n",
    "\n",
    "# Extracting the policy from the model\n",
    "policy = np.array([torch.argmax(model(torch.FloatTensor(np.eye(env.observation_space.n)[s]).to(device))).item() for s in range(env.observation_space.n)])\n",
    "\n",
    "# Mapping actions to symbols for visualization\n",
    "action_symbols = {0: '←', 1: '↓', 2: '→', 3: '↑'}\n",
    "policy_symbols = np.vectorize(action_symbols.get)(policy)\n",
    "\n",
    "# Reshape for grid visualization\n",
    "policy_grid = policy_symbols.reshape(env.desc.shape)\n",
    "\n",
    "# Plotting the policy grid\n",
    "plt.figure(figsize=(5, 5))\n",
    "plt.imshow(grid_colors, cmap='Pastel1', interpolation='nearest')\n",
    "for i in range(desc.shape[0]):\n",
    "    for j in range(desc.shape[1]):\n",
    "        cell_color = 'white' if desc[i, j] in ['H', 'G'] else 'black'\n",
    "        plt.text(j, i, policy_grid[i, j], ha='center', va='center', fontsize=12, color=cell_color)\n",
    "plt.title('Policy Visualization')\n",
    "plt.show()"
   ],
   "metadata": {
    "collapsed": false,
    "ExecuteTime": {
     "end_time": "2023-12-25T22:24:03.682819Z",
     "start_time": "2023-12-25T22:24:03.526437Z"
    }
   },
   "id": "bcec4f1a4aa586bc"
  },
  {
   "cell_type": "code",
   "execution_count": 122,
   "outputs": [
    {
     "data": {
      "text/plain": "array([[b'S', b'F', b'F', b'F'],\n       [b'F', b'H', b'F', b'H'],\n       [b'F', b'F', b'F', b'H'],\n       [b'H', b'F', b'F', b'G']], dtype='|S1')"
     },
     "execution_count": 122,
     "metadata": {},
     "output_type": "execute_result"
    }
   ],
   "source": [
    "env.desc\n"
   ],
   "metadata": {
    "collapsed": false,
    "ExecuteTime": {
     "end_time": "2023-12-25T22:24:03.683815Z",
     "start_time": "2023-12-25T22:24:03.681033Z"
    }
   },
   "id": "fb7197d0fc51f4f4"
  },
  {
   "cell_type": "code",
   "execution_count": 123,
   "outputs": [
    {
     "name": "stdout",
     "output_type": "stream",
     "text": [
      "Failure States:  {8}\n"
     ]
    }
   ],
   "source": [
    "def analyze_failures(env, model, num_episodes=100):\n",
    "    failed_states = []\n",
    "    for _ in range(num_episodes):\n",
    "        state = env.reset()[0]\n",
    "        done = False\n",
    "        while not done:\n",
    "            action = torch.argmax(model(torch.FloatTensor(np.eye(env.observation_space.n)[state]).to(device))).item()\n",
    "            next_state, reward, done, _, _ = env.step(action)\n",
    "            if done and reward == 0:  # Check if the episode ended without success\n",
    "                failed_states.append(state)\n",
    "            state = next_state\n",
    "    return failed_states\n",
    "\n",
    "# Analyze failures\n",
    "failed_states = analyze_failures(env, model)\n",
    "print(\"Failure States: \", set(failed_states))"
   ],
   "metadata": {
    "collapsed": false,
    "ExecuteTime": {
     "end_time": "2023-12-25T22:24:03.949835Z",
     "start_time": "2023-12-25T22:24:03.681181Z"
    }
   },
   "id": "e9d2f05bb18f04e5"
  },
  {
   "cell_type": "code",
   "execution_count": 124,
   "outputs": [
    {
     "data": {
      "text/plain": "<Figure size 500x500 with 2 Axes>",
      "image/png": "[encoded data removed]"
     },
     "metadata": {},
     "output_type": "display_data"
    }
   ],
   "source": [
    "def plot_heatmap(env, state_counts):\n",
    "    grid_counts = np.zeros(env.desc.shape)\n",
    "    for state, count in state_counts.items():\n",
    "        x, y = np.unravel_index(state, env.desc.shape)\n",
    "        grid_counts[x, y] = count\n",
    "\n",
    "    plt.figure(figsize=(5, 5))\n",
    "    plt.imshow(grid_counts, cmap='hot', interpolation='nearest')\n",
    "    plt.colorbar()\n",
    "    plt.title('Heatmap of Critical States')\n",
    "    plt.show()\n",
    "\n",
    "# Count occurrences of each state in failure cases\n",
    "state_counts = Counter(failed_states)\n",
    "\n",
    "# Plot heatmap\n",
    "plot_heatmap(env, state_counts)\n"
   ],
   "metadata": {
    "collapsed": false,
    "ExecuteTime": {
     "end_time": "2023-12-25T22:24:04.100680Z",
     "start_time": "2023-12-25T22:24:03.961449Z"
    }
   },
   "id": "12e9b864099f4c18"
  },
  {
   "cell_type": "code",
   "execution_count": 124,
   "outputs": [],
   "source": [],
   "metadata": {
    "collapsed": false,
    "ExecuteTime": {
     "end_time": "2023-12-25T22:24:04.173353Z",
     "start_time": "2023-12-25T22:24:04.098172Z"
    }
   },
   "id": "1cb37ca18ba4e6b2"
  }
 ],
 "metadata": {
  "kernelspec": {
   "display_name": "Python 3",
   "language": "python",
   "name": "python3"
  },
  "language_info": {
   "codemirror_mode": {
    "name": "ipython",
    "version": 2
   },
   "file_extension": ".py",
   "mimetype": "text/x-python",
   "name": "python",
   "nbconvert_exporter": "python",
   "pygments_lexer": "ipython2",
   "version": "2.7.6"
  }
 },
 "nbformat": 4,
 "nbformat_minor": 5
}

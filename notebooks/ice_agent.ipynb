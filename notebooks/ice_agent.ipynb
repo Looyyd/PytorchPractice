{
 "cells": [
  {
   "cell_type": "code",
   "execution_count": 199,
   "id": "initial_id",
   "metadata": {
    "collapsed": true,
    "ExecuteTime": {
     "end_time": "2023-12-26T18:38:03.079254Z",
     "start_time": "2023-12-26T18:38:03.062757Z"
    }
   },
   "outputs": [],
   "source": [
    "import gymnasium as gym\n",
    "import torch\n",
    "import torch.nn as nn\n",
    "import torch.optim as optim\n",
    "import torch.nn.functional as F\n",
    "import numpy as np\n",
    "import random\n",
    "import matplotlib.pyplot as plt\n",
    "from matplotlib.colors import ListedColormap\n",
    "from IPython import display\n",
    "from collections import Counter\n",
    "import optuna\n",
    "import wandb\n",
    "from tqdm import tqdm\n",
    "from gymnasium.envs.toy_text.frozen_lake import generate_random_map"
   ]
  },
  {
   "cell_type": "code",
   "execution_count": 200,
   "outputs": [],
   "source": [
    "# Environment setup\n",
    "env = gym.make('FrozenLake-v1', is_slippery=False)\n",
    "n_actions = env.action_space.n\n",
    "n_states = env.observation_space.n"
   ],
   "metadata": {
    "collapsed": false,
    "ExecuteTime": {
     "end_time": "2023-12-26T18:38:03.438457Z",
     "start_time": "2023-12-26T18:38:03.434033Z"
    }
   },
   "id": "655c4f8ad84a6e65"
  },
  {
   "cell_type": "code",
   "execution_count": 201,
   "outputs": [],
   "source": [
    "# Neural network model\n",
    "class Net(nn.Module):\n",
    "    def __init__(self):\n",
    "        super(Net, self).__init__()\n",
    "        self.fc = nn.Linear(n_states, n_actions)\n",
    "\n",
    "    def forward(self, x):\n",
    "        return self.fc(x)\n",
    "    \n",
    "class ConvNet(nn.Module):\n",
    "    # TODO: normalization layers, maybe layer norm because batch size of 1 ?\n",
    "    def __init__(self, input_size, n_actions):\n",
    "        super(ConvNet, self).__init__()\n",
    "        # Assuming input_size is the flattened size of the 2D state\n",
    "        self.conv1 = nn.Conv2d(1, 16, kernel_size=3, stride=1, padding=1)\n",
    "        self.conv2 = nn.Conv2d(16, 32, kernel_size=3, stride=1, padding=1)\n",
    "        # Flatten the output for the fully connected layer\n",
    "        self.fc = nn.Linear(32 * input_size, n_actions)\n",
    "\n",
    "    def forward(self, x):\n",
    "        x = F.relu(self.conv1(x))\n",
    "        x = F.relu(self.conv2(x))\n",
    "        x = x.view(1, -1)  # Flatten\n",
    "        return self.fc(x)"
   ],
   "metadata": {
    "collapsed": false,
    "ExecuteTime": {
     "end_time": "2023-12-26T18:38:03.889539Z",
     "start_time": "2023-12-26T18:38:03.885709Z"
    }
   },
   "id": "fc04ac7142783e42"
  },
  {
   "cell_type": "code",
   "execution_count": 202,
   "outputs": [],
   "source": [
    "device = torch.device(\"mps\")"
   ],
   "metadata": {
    "collapsed": false,
    "ExecuteTime": {
     "end_time": "2023-12-26T18:38:04.450885Z",
     "start_time": "2023-12-26T18:38:04.444655Z"
    }
   },
   "id": "475f097e7f7a6a9f"
  },
  {
   "cell_type": "code",
   "execution_count": 203,
   "outputs": [],
   "source": [
    "def preprocess_state(position, map_layout):\n",
    "    nrows, ncols = 4, 4  # Assuming a 4x4 map\n",
    "    state_matrix = np.zeros((nrows, ncols))\n",
    "    \n",
    "    # Decode map layout\n",
    "    layout_to_val = {b'F': 0, b'H': 1, b'S': 0, b'G': 3}  # Start 'S' also considered safe '0'\n",
    "    for i in range(nrows):\n",
    "        for j in range(ncols):\n",
    "            state_matrix[i][j] = layout_to_val[map_layout[i][j]]\n",
    "\n",
    "    # Convert position to 2D coordinates and update in state matrix\n",
    "    row, col = divmod(position, ncols)\n",
    "    state_matrix[row][col] = 2  # Marking the current position\n",
    "\n",
    "    # Normalize\n",
    "    normalized_state = state_matrix / 3.0 - 0.5\n",
    "    return torch.tensor(normalized_state, dtype=torch.float).unsqueeze(0)  # Adds batch dimension\n"
   ],
   "metadata": {
    "collapsed": false,
    "ExecuteTime": {
     "end_time": "2023-12-26T18:38:04.870994Z",
     "start_time": "2023-12-26T18:38:04.866425Z"
    }
   },
   "id": "3501c2ac8576ba78"
  },
  {
   "cell_type": "code",
   "execution_count": 204,
   "outputs": [
    {
     "name": "stdout",
     "output_type": "stream",
     "text": [
      "[[b'S' b'F' b'F' b'F']\n",
      " [b'F' b'H' b'F' b'H']\n",
      " [b'F' b'F' b'F' b'H']\n",
      " [b'H' b'F' b'F' b'G']]\n"
     ]
    }
   ],
   "source": [
    "print(env.desc)"
   ],
   "metadata": {
    "collapsed": false,
    "ExecuteTime": {
     "end_time": "2023-12-26T18:38:05.345292Z",
     "start_time": "2023-12-26T18:38:05.338348Z"
    }
   },
   "id": "abd04d238cc92983"
  },
  {
   "cell_type": "code",
   "execution_count": 211,
   "outputs": [],
   "source": [
    "def find_goal_position(env_desc):\n",
    "    \"\"\"\n",
    "    Find the position of the goal ('G') in the environment description.\n",
    "    \"\"\"\n",
    "    for row in range(len(env_desc)):\n",
    "        for col in range(len(env_desc[row])):\n",
    "            if env_desc[row][col] == b'G':\n",
    "                return row, col\n",
    "    return None\n",
    "\n",
    "def manhattan_distance(point_a, point_b):\n",
    "    \"\"\"\n",
    "    Calculate the Manhattan distance between two points.\n",
    "    \"\"\"\n",
    "    return abs(point_a[0] - point_b[0]) + abs(point_a[1] - point_b[1])\n",
    "\n",
    "def calculate_intermediate_reward(current_state, next_state, env, visited_states, forward_step_reward=0, visited_step_reward=0):\n",
    "    \"\"\"\n",
    "    Calculate intermediate reward based on movement towards the goal.\n",
    "    \"\"\"\n",
    "    if next_state in visited_states:\n",
    "        return visited_step_reward  # Negative reward for visiting a state that has already been visited\n",
    "    \n",
    "    goal_position = find_goal_position(env.desc)\n",
    "\n",
    "    # Convert state to 2D coordinates\n",
    "    ncols = len(env.desc[0])\n",
    "    current_row, current_col = divmod(current_state, ncols)\n",
    "    next_row, next_col = divmod(next_state, ncols)\n",
    "\n",
    "    current_distance = manhattan_distance((current_row, current_col), goal_position)\n",
    "    next_distance = manhattan_distance((next_row, next_col), goal_position)\n",
    "\n",
    "    # Positive reward for moving closer, no reward for moving away or staying\n",
    "    return forward_step_reward if next_distance < current_distance else 0\n",
    "\n",
    "# Training Function\n",
    "def train_model(model, optimizer, loss_fn, gamma, epsilon_start, epsilon_decay, num_episodes, device, n_states, random_map=False, is_slippery=False, hole_reward=-1, forward_step_reward=0, visited_step_reward=0):\n",
    "    epsilon = epsilon_start\n",
    "\n",
    "    # Training loop\n",
    "    # Initialize lists to store metrics\n",
    "    losses = []\n",
    "    weight_norms = []\n",
    "    bias_norms = []\n",
    "    grad_norms = []\n",
    "    total_rewards = []\n",
    "    epsilon_values = []\n",
    "    episode_lengths = []\n",
    "    successful_episodes = 0\n",
    "    success_rate = []\n",
    "\n",
    "    plot_update_frequency = int(num_episodes * (5/100))  # update plots every 5% of episodes\n",
    "\n",
    "\n",
    "    # Training loop\n",
    "    for episode in tqdm(range(num_episodes)):\n",
    "        if random_map:\n",
    "            env = gym.make('FrozenLake-v1', desc=generate_random_map(size=4), is_slippery=is_slippery)\n",
    "        else:\n",
    "            env = gym.make('FrozenLake-v1', is_slippery=is_slippery)\n",
    "\n",
    "        state = env.reset()[0]\n",
    "        done = False\n",
    "        episode_length = 0\n",
    "        total_reward = 0\n",
    "\n",
    "        # Calculate max steps as a factor of the environment size\n",
    "        max_steps = len(env.desc) * len(env.desc[0]) * 3 # 3x the number of states seems like a reasonable upper bound\n",
    "        step_count = 0\n",
    "        \n",
    "        visited_states = set()\n",
    "        while not done and step_count < max_steps:\n",
    "            visited_states.add(state)\n",
    "            step_count += 1\n",
    "            #state_tensor = torch.FloatTensor(np.eye(n_states)[int(state)]).to(device)\n",
    "            state_tensor = preprocess_state(state, env.desc).to(device)\n",
    "            q_values = model(state_tensor)[0] # Remove batch dimension\n",
    "            if random.random() < epsilon:\n",
    "                action = env.action_space.sample()\n",
    "            else:\n",
    "                action = torch.argmax(q_values).item()\n",
    "\n",
    "            # (0, 0.0, False, False, {'prob': 1.0})\n",
    "            next_state, reward, done, _, _ = env.step(action)\n",
    "            \n",
    "                    # Custom reward logic\n",
    "            if done and reward == 0:  # Agent fell into a hole\n",
    "                reward = hole_reward\n",
    "            else:\n",
    "                # Additional logic to calculate reward for moving towards the goal\n",
    "                reward += calculate_intermediate_reward(state, next_state, env, visited_states, forward_step_reward, visited_step_reward)\n",
    "\n",
    "\n",
    "            #next_state_tensor = torch.FloatTensor(np.eye(n_states)[next_state]).to(device)\n",
    "            next_state_tensor = preprocess_state(next_state, env.desc).to(device)\n",
    "            next_q_values = model(next_state_tensor)[0] # Remove batch dimension\n",
    "\n",
    "            max_next_q = torch.max(next_q_values)\n",
    "            q_target = reward + gamma * max_next_q * (1 - done)\n",
    "            q_val = q_values[action]\n",
    "\n",
    "            loss = loss_fn(q_val.view(1).cpu(), torch.tensor([q_target]))\n",
    "\n",
    "            optimizer.zero_grad()\n",
    "            loss.backward()\n",
    "            torch.nn.utils.clip_grad_norm_(model.parameters(), max_norm=2.0)\n",
    "            optimizer.step()\n",
    "\n",
    "            state = next_state\n",
    "\n",
    "            # Calculate and store loss\n",
    "            losses.append(loss.item())\n",
    "\n",
    "            # Calculate and store weight and bias norms\n",
    "            weight_norm = sum(torch.norm(param)**2 for param in model.parameters() if param.dim() > 1)\n",
    "            bias_norm = sum(torch.norm(param)**2 for param in model.parameters() if param.dim() == 1)\n",
    "            weight_norms.append(weight_norm.item())\n",
    "            bias_norms.append(bias_norm.item())\n",
    "\n",
    "            # Calculate and store gradient norms\n",
    "            grad_norm = sum(torch.norm(param.grad)**2 for param in model.parameters() if param.grad is not None)\n",
    "            grad_norms.append(grad_norm.item())\n",
    "\n",
    "            # Accumulate reward\n",
    "            total_reward += reward\n",
    "            # Increment episode length\n",
    "            episode_length += 1\n",
    "\n",
    "            if done and reward > 0:  # Assuming a positive reward indicates success\n",
    "                successful_episodes += 1\n",
    "\n",
    "        # Store total reward and epsilon value for the episode\n",
    "        total_rewards.append(total_reward)\n",
    "        epsilon_values.append(epsilon)\n",
    "        episode_lengths.append(episode_length)\n",
    "        success_rate.append(successful_episodes / (episode + 1))  # Calculate success rate\n",
    "\n",
    "        # Decay epsilon\n",
    "        if epsilon > 0.01:\n",
    "            epsilon *= epsilon_decay\n",
    "\n",
    "        # Update plots at specified frequency\n",
    "        if episode % plot_update_frequency == 0 or episode == num_episodes - 1:\n",
    "            # log metrics to wandb  \n",
    "            wandb.log({\"loss\": loss.item(),\n",
    "                       \"weight_norm\": weight_norm.item(),\n",
    "                       \"bias_norm\": bias_norm.item(),\n",
    "                       \"grad_norm\": grad_norm.item(),\n",
    "                       f\"total_reward_previous_{plot_update_frequency}_episodes\": sum(total_rewards[-plot_update_frequency:-1]),\n",
    "                       \"epsilon\": epsilon,\n",
    "                       \"episode_length\": episode_length,\n",
    "                       \"success_rate\": success_rate[-1],\n",
    "                       \"learning_rate\": learning_rate})\n",
    "                \n",
    "        # Close the environment at the end of the episode\n",
    "        env.close()\n",
    "\n",
    "\n",
    "\n",
    "    return model"
   ],
   "metadata": {
    "collapsed": false,
    "ExecuteTime": {
     "end_time": "2023-12-26T18:43:38.129693Z",
     "start_time": "2023-12-26T18:43:38.115366Z"
    }
   },
   "id": "ca47908718e26a43"
  },
  {
   "cell_type": "code",
   "execution_count": 212,
   "outputs": [],
   "source": [
    "# Evaluation Function\n",
    "def evaluate_model(model, num_eval_episodes, device, n_states, is_slippery=False, random_map=False):\n",
    "    successful_episodes = 0\n",
    "    \n",
    "    for _ in tqdm(range(num_eval_episodes)):\n",
    "        if random_map:\n",
    "            env = gym.make('FrozenLake-v1', desc=generate_random_map(size=4), is_slippery=is_slippery)\n",
    "        else:\n",
    "            env = gym.make('FrozenLake-v1', is_slippery=is_slippery)\n",
    "        state = env.reset()[0]\n",
    "        done = False\n",
    "\n",
    "        # Calculate max steps as a factor of the environment size\n",
    "        max_steps = len(env.desc) * len(env.desc[0]) * 4 # 4x the number of states seems like a reasonable upper bound\n",
    "        step_count = 0\n",
    "\n",
    "        while not done and step_count < max_steps:\n",
    "            step_count += 1\n",
    "            #state_tensor = torch.FloatTensor(np.eye(n_states)[int(state)]).to(device)\n",
    "            state_tensor = preprocess_state(state, env.desc).to(device)\n",
    "            q_values = model(state_tensor)[0] # Remove batch dimension\n",
    "            action = torch.argmax(q_values).item()\n",
    "\n",
    "            next_state, reward, done, _, _ = env.step(action)\n",
    "            state = next_state\n",
    "\n",
    "            if done and reward > 0:  # Assuming a positive reward indicates success\n",
    "                successful_episodes += 1\n",
    "\n",
    "    success_rate = successful_episodes / num_eval_episodes\n",
    "    return success_rate\n"
   ],
   "metadata": {
    "collapsed": false,
    "ExecuteTime": {
     "end_time": "2023-12-26T18:43:39.179648Z",
     "start_time": "2023-12-26T18:43:39.175285Z"
    }
   },
   "id": "bca62607ea444a77"
  },
  {
   "cell_type": "code",
   "execution_count": 214,
   "outputs": [],
   "source": [
    "# Optuna Objective Function\n",
    "def objective(trial):\n",
    "    wandb.init(project=\"frozenlake_slipperry_optuna_reward_search_convnet_random_map\",\n",
    "               name=f\"trial_{trial.number}\",\n",
    "               config=trial.params,\n",
    "               reinit=True)\n",
    "    # find rewards\n",
    "    hole_reward = trial.suggest_float(\"hole_reward\", -1, 0)\n",
    "    forward_step_reward = trial.suggest_float(\"forward_step_reward\", 0, 1)\n",
    "    visited_step_reward = trial.suggest_float(\"visited_step_reward\", -1, 0)\n",
    "    \n",
    "    # Hyperparameters\n",
    "    learning_rate = 0.0001\n",
    "    gamma = 0.99\n",
    "    epsilon = 0.8\n",
    "    epsilon_decay = 0.999\n",
    "    num_episodes = 2500\n",
    "\n",
    "    n_actions = env.action_space.n\n",
    "    n_states = env.observation_space.n\n",
    "    model = ConvNet(n_states, n_actions).to(device)\n",
    "    optimizer = optim.Adam(model.parameters(), lr=learning_rate)\n",
    "    loss_fn = nn.MSELoss()\n",
    "    random_map = True\n",
    "    is_slippery = False\n",
    "\n",
    "    trained_model = train_model(model, optimizer, loss_fn, gamma, epsilon, epsilon_decay, num_episodes, device, n_states, random_map=random_map, is_slippery=is_slippery,\n",
    "                                hole_reward=hole_reward, forward_step_reward=forward_step_reward, visited_step_reward=visited_step_reward)\n",
    "    \n",
    "    num_eval_episodes = 50 \n",
    "    success_rate = evaluate_model(trained_model, num_eval_episodes, device, n_states, is_slippery, random_map)\n",
    "\n",
    "\n",
    "    wandb.finish()\n",
    "    return success_rate\n"
   ],
   "metadata": {
    "collapsed": false,
    "ExecuteTime": {
     "end_time": "2023-12-26T18:45:03.016477Z",
     "start_time": "2023-12-26T18:45:03.011806Z"
    }
   },
   "id": "da966d3235295555"
  },
  {
   "cell_type": "code",
   "execution_count": null,
   "outputs": [],
   "source": [
    "\n",
    "study = optuna.create_study(direction='maximize')\n",
    "study.optimize(objective, n_trials=50)\n",
    "\n",
    "print(\"Best trial:\")\n",
    "trial = study.best_trial\n",
    "print(f\" Value: {trial.value}\")\n",
    "print(\" Params: \")\n",
    "for key, value in trial.params.items():\n",
    "    print(f\"    {key}: {value}\")"
   ],
   "metadata": {
    "collapsed": false
   },
   "id": "380fbbe2086bcac1"
  },
  {
   "cell_type": "code",
   "execution_count": 216,
   "outputs": [],
   "source": [
    "# Hyperparameters\n",
    "learning_rate = 0.0001\n",
    "gamma = 0.99\n",
    "epsilon = 0.8\n",
    "epsilon_decay = 0.999"
   ],
   "metadata": {
    "collapsed": false,
    "ExecuteTime": {
     "end_time": "2023-12-26T21:04:29.094123Z",
     "start_time": "2023-12-26T21:04:29.079386Z"
    }
   },
   "id": "907a4ada3bd611a3"
  },
  {
   "cell_type": "code",
   "execution_count": 217,
   "outputs": [],
   "source": [
    "random_map = True\n",
    "is_slippery = False"
   ],
   "metadata": {
    "collapsed": false,
    "ExecuteTime": {
     "end_time": "2023-12-26T21:04:30.017282Z",
     "start_time": "2023-12-26T21:04:30.011717Z"
    }
   },
   "id": "40fe2a1e4824ecb7"
  },
  {
   "cell_type": "code",
   "execution_count": null,
   "outputs": [
    {
     "data": {
      "text/plain": "<IPython.core.display.HTML object>",
      "text/html": "Finishing last run (ID:ywsmikp3) before initializing another..."
     },
     "metadata": {},
     "output_type": "display_data"
    },
    {
     "data": {
      "text/plain": "VBox(children=(Label(value='0.001 MB of 0.001 MB uploaded\\r'), FloatProgress(value=1.0, max=1.0)))",
      "application/vnd.jupyter.widget-view+json": {
       "version_major": 2,
       "version_minor": 0,
       "model_id": "f89cd269d42049668fe3b2e993c9076b"
      }
     },
     "metadata": {},
     "output_type": "display_data"
    },
    {
     "data": {
      "text/plain": "<IPython.core.display.HTML object>",
      "text/html": "<style>\n    table.wandb td:nth-child(1) { padding: 0 10px; text-align: left ; width: auto;} td:nth-child(2) {text-align: left ; width: 100%}\n    .wandb-row { display: flex; flex-direction: row; flex-wrap: wrap; justify-content: flex-start; width: 100% }\n    .wandb-col { display: flex; flex-direction: column; flex-basis: 100%; flex: 1; padding: 10px; }\n    </style>\n<div class=\"wandb-row\"><div class=\"wandb-col\"><h3>Run history:</h3><br/><table class=\"wandb\"><tr><td>bias_norm</td><td>▁█▄</td></tr><tr><td>episode_length</td><td>█▁▆</td></tr><tr><td>epsilon</td><td>█▄▁</td></tr><tr><td>grad_norm</td><td>▁▁█</td></tr><tr><td>learning_rate</td><td>▁▁▁</td></tr><tr><td>loss</td><td>▁▁█</td></tr><tr><td>success_rate</td><td>▁▇█</td></tr><tr><td>total_reward_previous_125_episodes</td><td>█▁▄</td></tr><tr><td>weight_norm</td><td>▁▇█</td></tr></table><br/></div><div class=\"wandb-col\"><h3>Run summary:</h3><br/><table class=\"wandb\"><tr><td>bias_norm</td><td>0.61544</td></tr><tr><td>episode_length</td><td>8</td></tr><tr><td>epsilon</td><td>0.62234</td></tr><tr><td>grad_norm</td><td>4.0</td></tr><tr><td>learning_rate</td><td>0.0001</td></tr><tr><td>loss</td><td>1.14207</td></tr><tr><td>success_rate</td><td>0.19522</td></tr><tr><td>total_reward_previous_125_episodes</td><td>-170.04278</td></tr><tr><td>weight_norm</td><td>17.87325</td></tr></table><br/></div></div>"
     },
     "metadata": {},
     "output_type": "display_data"
    },
    {
     "data": {
      "text/plain": "<IPython.core.display.HTML object>",
      "text/html": " View run <strong style=\"color:#cdcd00\">trial_26</strong> at: <a href='https://wandb.ai/loyd-team/frozenlake_slipperry_optuna_reward_search_convnet_random_map/runs/ywsmikp3' target=\"_blank\">https://wandb.ai/loyd-team/frozenlake_slipperry_optuna_reward_search_convnet_random_map/runs/ywsmikp3</a><br/> View job at <a href='https://wandb.ai/loyd-team/frozenlake_slipperry_optuna_reward_search_convnet_random_map/jobs/QXJ0aWZhY3RDb2xsZWN0aW9uOjEyNTgxMzg3Mg==/version_details/v0' target=\"_blank\">https://wandb.ai/loyd-team/frozenlake_slipperry_optuna_reward_search_convnet_random_map/jobs/QXJ0aWZhY3RDb2xsZWN0aW9uOjEyNTgxMzg3Mg==/version_details/v0</a><br/>Synced 6 W&B file(s), 0 media file(s), 0 artifact file(s) and 0 other file(s)"
     },
     "metadata": {},
     "output_type": "display_data"
    },
    {
     "data": {
      "text/plain": "<IPython.core.display.HTML object>",
      "text/html": "Find logs at: <code>./wandb/run-20231226_220144-ywsmikp3/logs</code>"
     },
     "metadata": {},
     "output_type": "display_data"
    },
    {
     "data": {
      "text/plain": "<IPython.core.display.HTML object>",
      "text/html": "Successfully finished last run (ID:ywsmikp3). Initializing new run:<br/>"
     },
     "metadata": {},
     "output_type": "display_data"
    },
    {
     "data": {
      "text/plain": "VBox(children=(Label(value='Waiting for wandb.init()...\\r'), FloatProgress(value=0.011168750933009303, max=1.0…",
      "application/vnd.jupyter.widget-view+json": {
       "version_major": 2,
       "version_minor": 0,
       "model_id": "0da60c971a7846cfb2c06016de78be8c"
      }
     },
     "metadata": {},
     "output_type": "display_data"
    },
    {
     "data": {
      "text/plain": "<IPython.core.display.HTML object>",
      "text/html": "Tracking run with wandb version 0.16.1"
     },
     "metadata": {},
     "output_type": "display_data"
    },
    {
     "data": {
      "text/plain": "<IPython.core.display.HTML object>",
      "text/html": "Run data is saved locally in <code>/Users/loyd/PycharmProjects/PytorchPractice/notebooks/wandb/run-20231226_220431-15d4jhmo</code>"
     },
     "metadata": {},
     "output_type": "display_data"
    },
    {
     "data": {
      "text/plain": "<IPython.core.display.HTML object>",
      "text/html": "Syncing run <strong><a href='https://wandb.ai/loyd-team/frozenlake_slipperry_optuna_convnet_random_map_rewards/runs/15d4jhmo' target=\"_blank\">Training</a></strong> to <a href='https://wandb.ai/loyd-team/frozenlake_slipperry_optuna_convnet_random_map_rewards' target=\"_blank\">Weights & Biases</a> (<a href='https://wandb.me/run' target=\"_blank\">docs</a>)<br/>"
     },
     "metadata": {},
     "output_type": "display_data"
    },
    {
     "data": {
      "text/plain": "<IPython.core.display.HTML object>",
      "text/html": " View project at <a href='https://wandb.ai/loyd-team/frozenlake_slipperry_optuna_convnet_random_map_rewards' target=\"_blank\">https://wandb.ai/loyd-team/frozenlake_slipperry_optuna_convnet_random_map_rewards</a>"
     },
     "metadata": {},
     "output_type": "display_data"
    },
    {
     "data": {
      "text/plain": "<IPython.core.display.HTML object>",
      "text/html": " View run at <a href='https://wandb.ai/loyd-team/frozenlake_slipperry_optuna_convnet_random_map_rewards/runs/15d4jhmo' target=\"_blank\">https://wandb.ai/loyd-team/frozenlake_slipperry_optuna_convnet_random_map_rewards/runs/15d4jhmo</a>"
     },
     "metadata": {},
     "output_type": "display_data"
    },
    {
     "name": "stderr",
     "output_type": "stream",
     "text": [
      " 12%|█▏        | 298/2500 [00:47<05:23,  6.80it/s]"
     ]
    }
   ],
   "source": [
    "# Train the model\n",
    "num_episodes = 2500\n",
    "n_actions = env.action_space.n\n",
    "n_states = env.observation_space.n\n",
    "model = ConvNet(n_states, n_actions).to(device)\n",
    "optimizer = optim.Adam(model.parameters(), lr=learning_rate)\n",
    "loss_fn = nn.MSELoss()\n",
    "wandb.init(project=\"frozenlake_slipperry_optuna_convnet_random_map_rewards\",\n",
    "           name=f\"Training\",\n",
    "           config=trial.params,\n",
    "           reinit=True)\n",
    "model = train_model(model, optimizer, loss_fn, gamma, epsilon, epsilon_decay, num_episodes, device, n_states, \n",
    "                    random_map=random_map, is_slippery=is_slippery,\n",
    "                    forward_step_reward=0.05,\n",
    "                    visited_step_reward=0,\n",
    "                    hole_reward=0)\n",
    "wandb.finish()"
   ],
   "metadata": {
    "collapsed": false,
    "is_executing": true,
    "ExecuteTime": {
     "start_time": "2023-12-26T21:04:31.225530Z"
    }
   },
   "id": "95783e41ab8de557"
  },
  {
   "cell_type": "code",
   "execution_count": 197,
   "outputs": [
    {
     "name": "stderr",
     "output_type": "stream",
     "text": [
      "100%|██████████| 50/50 [00:00<00:00, 53.70it/s]"
     ]
    },
    {
     "name": "stdout",
     "output_type": "stream",
     "text": [
      "Success Rate:  0.54\n"
     ]
    },
    {
     "name": "stderr",
     "output_type": "stream",
     "text": [
      "\n"
     ]
    }
   ],
   "source": [
    "# Evaluate the model\n",
    "num_eval_episodes = 50\n",
    "success_rate = evaluate_model(model, num_eval_episodes, device, n_states, is_slippery, random_map)\n",
    "print(\"Success Rate: \", success_rate)"
   ],
   "metadata": {
    "collapsed": false,
    "ExecuteTime": {
     "end_time": "2023-12-26T18:19:48.915992Z",
     "start_time": "2023-12-26T18:19:47.980234Z"
    }
   },
   "id": "510270e518b47635"
  },
  {
   "cell_type": "code",
   "execution_count": 187,
   "outputs": [
    {
     "data": {
      "text/plain": "<Figure size 500x500 with 1 Axes>",
      "image/png": "[encoded data removed]"
     },
     "metadata": {},
     "output_type": "display_data"
    },
    {
     "data": {
      "text/plain": "<Figure size 500x500 with 1 Axes>",
      "image/png": "[encoded data removed]"
     },
     "metadata": {},
     "output_type": "display_data"
    },
    {
     "data": {
      "text/plain": "<Figure size 500x500 with 1 Axes>",
      "image/png": "[encoded data removed]"
     },
     "metadata": {},
     "output_type": "display_data"
    },
    {
     "data": {
      "text/plain": "<Figure size 500x500 with 1 Axes>",
      "image/png": "[encoded data removed]"
     },
     "metadata": {},
     "output_type": "display_data"
    },
    {
     "data": {
      "text/plain": "<Figure size 500x500 with 1 Axes>",
      "image/png": "[encoded data removed]"
     },
     "metadata": {},
     "output_type": "display_data"
    }
   ],
   "source": [
    "def visualize_policy_on_random_maps(model, device, n_maps=5, n_states=16, is_slippery=False):\n",
    "    # Create a color map for the grid with your specified colors\n",
    "\n",
    "\n",
    "    for map_idx in range(n_maps):\n",
    "        # Create environment with a random map\n",
    "        env = gym.make('FrozenLake-v1', desc=generate_random_map(size=4), is_slippery=is_slippery)\n",
    "\n",
    "        # Convert env.desc to a string format\n",
    "        desc = env.desc.astype(str)\n",
    "\n",
    "        # Create a color map for the grid\n",
    "        numerical_color_map = {'S': 2, 'F': 1, 'H': 0, 'G': 3}\n",
    "        numerical_grid_colors = np.vectorize(numerical_color_map.get)(desc)\n",
    "\n",
    "\n",
    "        # Extracting the policy from the model for the current map\n",
    "        policy = np.array([torch.argmax(model(preprocess_state(s, env.desc).to(device))).item() for s in range(env.observation_space.n)])\n",
    "\n",
    "        # Mapping actions to symbols for visualization\n",
    "        action_symbols = {0: '←', 1: '↓', 2: '→', 3: '↑'}\n",
    "        policy_symbols = np.vectorize(action_symbols.get)(policy)\n",
    "\n",
    "        # Reshape for grid visualization\n",
    "        policy_grid = policy_symbols.reshape(env.desc.shape)\n",
    "\n",
    "        # Plotting the policy grid\n",
    "        plt.figure(figsize=(5, 5))\n",
    "        # Create a ListedColormap for custom colors\n",
    "        cmap = ListedColormap(['black', 'lightblue', 'lightblue', 'yellow'])  # Order: H, F, S, G\n",
    "        plt.imshow(numerical_grid_colors, cmap=cmap, interpolation='nearest')\n",
    "\n",
    "        for i in range(desc.shape[0]):\n",
    "            for j in range(desc.shape[1]):\n",
    "                arrow = policy_grid[i, j]\n",
    "                arrow_color = 'white' if desc[i, j] in ['H', 'G'] else 'black'\n",
    "                \n",
    "                        # Checking if the arrow points to a hole\n",
    "                if desc[i, j] != 'H':\n",
    "                    if (arrow == '←' and j > 0 and desc[i, j-1] == 'H') or \\\n",
    "                       (arrow == '→' and j < desc.shape[1] - 1 and desc[i, j+1] == 'H') or \\\n",
    "                       (arrow == '↑' and i > 0 and desc[i-1, j] == 'H') or \\\n",
    "                       (arrow == '↓' and i < desc.shape[0] - 1 and desc[i+1, j] == 'H'):\n",
    "                        arrow_color = 'red'\n",
    "                \n",
    "                plt.text(j, i, policy_grid[i, j], ha='center', va='center', fontsize=20, color=arrow_color)\n",
    "        plt.title(f'Policy Visualization for Map {map_idx+1}')\n",
    "        plt.show()\n",
    "\n",
    "visualize_policy_on_random_maps(model, device, n_maps=5, is_slippery=False)"
   ],
   "metadata": {
    "collapsed": false,
    "ExecuteTime": {
     "end_time": "2023-12-26T18:12:04.096924Z",
     "start_time": "2023-12-26T18:12:03.506675Z"
    }
   },
   "id": "bcec4f1a4aa586bc"
  },
  {
   "cell_type": "code",
   "execution_count": null,
   "outputs": [],
   "source": [],
   "metadata": {
    "collapsed": false,
    "ExecuteTime": {
     "end_time": "2023-12-26T13:07:16.984382Z",
     "start_time": "2023-12-26T13:07:16.964269Z"
    }
   },
   "id": "1cb37ca18ba4e6b2"
  }
 ],
 "metadata": {
  "kernelspec": {
   "display_name": "Python 3",
   "language": "python",
   "name": "python3"
  },
  "language_info": {
   "codemirror_mode": {
    "name": "ipython",
    "version": 2
   },
   "file_extension": ".py",
   "mimetype": "text/x-python",
   "name": "python",
   "nbconvert_exporter": "python",
   "pygments_lexer": "ipython2",
   "version": "2.7.6"
  }
 },
 "nbformat": 4,
 "nbformat_minor": 5
}

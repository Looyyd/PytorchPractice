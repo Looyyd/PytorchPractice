{
 "cells": [
  {
   "cell_type": "code",
   "execution_count": 146,
   "id": "initial_id",
   "metadata": {
    "collapsed": true,
    "ExecuteTime": {
     "end_time": "2023-12-26T17:04:15.297338Z",
     "start_time": "2023-12-26T17:04:15.282503Z"
    }
   },
   "outputs": [],
   "source": [
    "import gymnasium as gym\n",
    "import torch\n",
    "import torch.nn as nn\n",
    "import torch.optim as optim\n",
    "import torch.nn.functional as F\n",
    "import numpy as np\n",
    "import random\n",
    "import matplotlib.pyplot as plt\n",
    "from matplotlib.colors import ListedColormap\n",
    "from IPython import display\n",
    "from collections import Counter\n",
    "import optuna\n",
    "import wandb\n",
    "from tqdm import tqdm\n",
    "from gymnasium.envs.toy_text.frozen_lake import generate_random_map"
   ]
  },
  {
   "cell_type": "code",
   "execution_count": 68,
   "outputs": [],
   "source": [
    "# Environment setup\n",
    "env = gym.make('FrozenLake-v1', is_slippery=False)\n",
    "n_actions = env.action_space.n\n",
    "n_states = env.observation_space.n"
   ],
   "metadata": {
    "collapsed": false,
    "ExecuteTime": {
     "end_time": "2023-12-26T15:21:05.845782Z",
     "start_time": "2023-12-26T15:21:05.842802Z"
    }
   },
   "id": "655c4f8ad84a6e65"
  },
  {
   "cell_type": "code",
   "execution_count": 91,
   "outputs": [],
   "source": [
    "# Neural network model\n",
    "class Net(nn.Module):\n",
    "    def __init__(self):\n",
    "        super(Net, self).__init__()\n",
    "        self.fc = nn.Linear(n_states, n_actions)\n",
    "\n",
    "    def forward(self, x):\n",
    "        return self.fc(x)\n",
    "    \n",
    "class ConvNet(nn.Module):\n",
    "    def __init__(self, input_size, n_actions):\n",
    "        super(ConvNet, self).__init__()\n",
    "        # Assuming input_size is the flattened size of the 2D state\n",
    "        self.conv1 = nn.Conv2d(1, 16, kernel_size=3, stride=1, padding=1)\n",
    "        self.conv2 = nn.Conv2d(16, 32, kernel_size=3, stride=1, padding=1)\n",
    "        # Flatten the output for the fully connected layer\n",
    "        self.fc = nn.Linear(32 * input_size, n_actions)\n",
    "\n",
    "    def forward(self, x):\n",
    "        x = F.relu(self.conv1(x))\n",
    "        x = F.relu(self.conv2(x))\n",
    "        x = x.view(1, -1)  # Flatten\n",
    "        return self.fc(x)"
   ],
   "metadata": {
    "collapsed": false,
    "ExecuteTime": {
     "end_time": "2023-12-26T15:44:33.868553Z",
     "start_time": "2023-12-26T15:44:33.864846Z"
    }
   },
   "id": "fc04ac7142783e42"
  },
  {
   "cell_type": "code",
   "execution_count": 92,
   "outputs": [],
   "source": [
    "device = torch.device(\"mps\")"
   ],
   "metadata": {
    "collapsed": false,
    "ExecuteTime": {
     "end_time": "2023-12-26T15:44:34.075357Z",
     "start_time": "2023-12-26T15:44:34.070959Z"
    }
   },
   "id": "475f097e7f7a6a9f"
  },
  {
   "cell_type": "code",
   "execution_count": 93,
   "outputs": [],
   "source": [
    "def preprocess_state(position, map_layout):\n",
    "    nrows, ncols = 4, 4  # Assuming a 4x4 map\n",
    "    state_matrix = np.zeros((nrows, ncols))\n",
    "    \n",
    "    # Decode map layout\n",
    "    layout_to_val = {b'F': 0, b'H': 1, b'S': 0, b'G': 3}  # Start 'S' also considered safe '0'\n",
    "    for i in range(nrows):\n",
    "        for j in range(ncols):\n",
    "            state_matrix[i][j] = layout_to_val[map_layout[i][j]]\n",
    "\n",
    "    # Convert position to 2D coordinates and update in state matrix\n",
    "    row, col = divmod(position, ncols)\n",
    "    state_matrix[row][col] = 2  # Marking the current position\n",
    "\n",
    "    # Normalize\n",
    "    normalized_state = state_matrix / 3.0 - 0.5\n",
    "    return torch.tensor(normalized_state, dtype=torch.float).unsqueeze(0)  # Adds batch dimension\n"
   ],
   "metadata": {
    "collapsed": false,
    "ExecuteTime": {
     "end_time": "2023-12-26T15:44:34.701773Z",
     "start_time": "2023-12-26T15:44:34.696182Z"
    }
   },
   "id": "3501c2ac8576ba78"
  },
  {
   "cell_type": "code",
   "execution_count": null,
   "outputs": [],
   "source": [
    "# Training Function\n",
    "def train_model(model, optimizer, loss_fn, gamma, epsilon_start, epsilon_decay, num_episodes, device, n_states, random_map=False, is_slippery=False):\n",
    "    epsilon = epsilon_start\n",
    "\n",
    "    # Training loop\n",
    "    # Initialize lists to store metrics\n",
    "    losses = []\n",
    "    weight_norms = []\n",
    "    bias_norms = []\n",
    "    grad_norms = []\n",
    "    total_rewards = []\n",
    "    epsilon_values = []\n",
    "    episode_lengths = []\n",
    "    successful_episodes = 0\n",
    "    success_rate = []\n",
    "\n",
    "    plot_update_frequency = int(num_episodes * (5/100))  # update plots every 5% of episodes\n",
    "\n",
    "\n",
    "    # Training loop\n",
    "    for episode in tqdm(range(num_episodes)):\n",
    "        if random_map:\n",
    "            env = gym.make('FrozenLake-v1', desc=generate_random_map(size=4), is_slippery=is_slippery)\n",
    "        else:\n",
    "            env = gym.make('FrozenLake-v1', is_slippery=is_slippery)\n",
    "\n",
    "        state = env.reset()[0]\n",
    "        done = False\n",
    "        episode_length = 0\n",
    "        total_reward = 0\n",
    "\n",
    "        # Calculate max steps as a factor of the environment size\n",
    "        max_steps = len(env.desc) * len(env.desc[0]) * 4 # 4x the number of states seems like a reasonable upper bound\n",
    "        step_count = 0\n",
    "\n",
    "        while not done and step_count < max_steps:\n",
    "            step_count += 1\n",
    "            #state_tensor = torch.FloatTensor(np.eye(n_states)[int(state)]).to(device)\n",
    "            state_tensor = preprocess_state(state, env.desc).to(device)\n",
    "            q_values = model(state_tensor)[0] # Remove batch dimension\n",
    "            if random.random() < epsilon:\n",
    "                action = env.action_space.sample()\n",
    "            else:\n",
    "                action = torch.argmax(q_values).item()\n",
    "\n",
    "            # (0, 0.0, False, False, {'prob': 1.0})\n",
    "            next_state, reward, done, _, _ = env.step(action)\n",
    "\n",
    "            #next_state_tensor = torch.FloatTensor(np.eye(n_states)[next_state]).to(device)\n",
    "            next_state_tensor = preprocess_state(next_state, env.desc).to(device)\n",
    "            next_q_values = model(next_state_tensor)[0] # Remove batch dimension\n",
    "\n",
    "            max_next_q = torch.max(next_q_values)\n",
    "            q_target = reward + gamma * max_next_q * (1 - done)\n",
    "            q_val = q_values[action]\n",
    "\n",
    "            loss = loss_fn(q_val.view(1).cpu(), torch.tensor([q_target]))\n",
    "\n",
    "            optimizer.zero_grad()\n",
    "            loss.backward()\n",
    "            torch.nn.utils.clip_grad_norm_(model.parameters(), max_norm=2.0)\n",
    "            optimizer.step()\n",
    "\n",
    "            state = next_state\n",
    "\n",
    "            # Calculate and store loss\n",
    "            losses.append(loss.item())\n",
    "\n",
    "            # Calculate and store weight and bias norms\n",
    "            weight_norm = sum(torch.norm(param)**2 for param in model.parameters() if param.dim() > 1)\n",
    "            bias_norm = sum(torch.norm(param)**2 for param in model.parameters() if param.dim() == 1)\n",
    "            weight_norms.append(weight_norm.item())\n",
    "            bias_norms.append(bias_norm.item())\n",
    "\n",
    "            # Calculate and store gradient norms\n",
    "            grad_norm = sum(torch.norm(param.grad)**2 for param in model.parameters() if param.grad is not None)\n",
    "            grad_norms.append(grad_norm.item())\n",
    "\n",
    "            # Accumulate reward\n",
    "            total_reward += reward\n",
    "            # Increment episode length\n",
    "            episode_length += 1\n",
    "\n",
    "            if done and reward > 0:  # Assuming a positive reward indicates success\n",
    "                successful_episodes += 1\n",
    "\n",
    "        # Store total reward and epsilon value for the episode\n",
    "        total_rewards.append(total_reward)\n",
    "        epsilon_values.append(epsilon)\n",
    "        episode_lengths.append(episode_length)\n",
    "        success_rate.append(successful_episodes / (episode + 1))  # Calculate success rate\n",
    "\n",
    "        # Decay epsilon\n",
    "        if epsilon > 0.01:\n",
    "            epsilon *= epsilon_decay\n",
    "\n",
    "        # Update plots at specified frequency\n",
    "        if episode % plot_update_frequency == 0 or episode == num_episodes - 1:\n",
    "            # log metrics to wandb  \n",
    "            wandb.log({\"loss\": loss.item(),\n",
    "                       \"weight_norm\": weight_norm.item(),\n",
    "                       \"bias_norm\": bias_norm.item(),\n",
    "                       \"grad_norm\": grad_norm.item(),\n",
    "                       f\"total_reward_previous_{plot_update_frequency}_episodes\": sum(total_rewards[-plot_update_frequency:-1]),\n",
    "                       \"epsilon\": epsilon,\n",
    "                       \"episode_length\": episode_length,\n",
    "                       \"success_rate\": success_rate[-1],\n",
    "                       \"learning_rate\": learning_rate})\n",
    "                \n",
    "        # Close the environment at the end of the episode\n",
    "        env.close()\n",
    "\n",
    "\n",
    "\n",
    "    return model"
   ],
   "metadata": {
    "collapsed": false,
    "ExecuteTime": {
     "start_time": "2023-12-26T16:46:56.057671Z"
    }
   },
   "id": "ca47908718e26a43"
  },
  {
   "cell_type": "code",
   "execution_count": 136,
   "outputs": [],
   "source": [
    "# Evaluation Function\n",
    "def evaluate_model(model, num_eval_episodes, device, n_states, is_slippery=False, random_map=False):\n",
    "    successful_episodes = 0\n",
    "    \n",
    "    for _ in tqdm(range(num_eval_episodes)):\n",
    "        if random_map:\n",
    "            env = gym.make('FrozenLake-v1', desc=generate_random_map(size=4), is_slippery=is_slippery)\n",
    "        else:\n",
    "            env = gym.make('FrozenLake-v1', is_slippery=is_slippery)\n",
    "        state = env.reset()[0]\n",
    "        done = False\n",
    "\n",
    "        # Calculate max steps as a factor of the environment size\n",
    "        max_steps = len(env.desc) * len(env.desc[0]) * 4 # 4x the number of states seems like a reasonable upper bound\n",
    "        step_count = 0\n",
    "\n",
    "        while not done and step_count < max_steps:\n",
    "            step_count += 1\n",
    "            #state_tensor = torch.FloatTensor(np.eye(n_states)[int(state)]).to(device)\n",
    "            state_tensor = preprocess_state(state, env.desc).to(device)\n",
    "            q_values = model(state_tensor)[0] # Remove batch dimension\n",
    "            action = torch.argmax(q_values).item()\n",
    "\n",
    "            next_state, reward, done, _, _ = env.step(action)\n",
    "            state = next_state\n",
    "\n",
    "            if done and reward > 0:  # Assuming a positive reward indicates success\n",
    "                successful_episodes += 1\n",
    "\n",
    "    success_rate = successful_episodes / num_eval_episodes\n",
    "    return success_rate\n"
   ],
   "metadata": {
    "collapsed": false,
    "ExecuteTime": {
     "end_time": "2023-12-26T16:45:45.296271Z",
     "start_time": "2023-12-26T16:45:45.291344Z"
    }
   },
   "id": "bca62607ea444a77"
  },
  {
   "cell_type": "code",
   "execution_count": 126,
   "outputs": [],
   "source": [
    "# Optuna Objective Function\n",
    "def objective(trial):\n",
    "    wandb.init(project=\"frozenlake_slipperry_optuna_2_testing_code\",\n",
    "               name=f\"trial_{trial.number}\",\n",
    "               config=trial.params,\n",
    "               reinit=True)\n",
    "\n",
    "    learning_rate = trial.suggest_float('learning_rate', 1e-4, 1e-1, log=True)\n",
    "    gamma = 0.99\n",
    "    epsilon_start = 0.9\n",
    "    epsilon_decay = 0.999\n",
    "    num_episodes = 1000\n",
    "\n",
    "    model = ConvNet().to(device)\n",
    "    optimizer = optim.Adam(model.parameters(), lr=learning_rate)\n",
    "    loss_fn = nn.MSELoss()\n",
    "\n",
    "    trained_model = train_model(model, optimizer, loss_fn, gamma, epsilon_start, epsilon_decay, num_episodes, device, n_states,)\n",
    "    \n",
    "    num_eval_episodes = 50 \n",
    "    #TODO: might need to adapt if random map or slippery:\n",
    "    success_rate = evaluate_model(trained_model, num_eval_episodes, device, env, n_states)\n",
    "\n",
    "\n",
    "    wandb.finish()\n",
    "    return success_rate\n"
   ],
   "metadata": {
    "collapsed": false,
    "ExecuteTime": {
     "end_time": "2023-12-26T16:19:50.471915Z",
     "start_time": "2023-12-26T16:19:50.466906Z"
    }
   },
   "id": "da966d3235295555"
  },
  {
   "cell_type": "code",
   "execution_count": 9,
   "outputs": [
    {
     "name": "stderr",
     "output_type": "stream",
     "text": [
      "[I 2023-12-26 14:04:11,331] A new study created in memory with name: no-name-7b50be0a-9096-4524-8e79-e34c3e1e84fc\n",
      "\u001B[34m\u001B[1mwandb\u001B[0m: Currently logged in as: \u001B[33mloyd\u001B[0m (\u001B[33mloyd-team\u001B[0m). Use \u001B[1m`wandb login --relogin`\u001B[0m to force relogin\n"
     ]
    },
    {
     "data": {
      "text/plain": "<IPython.core.display.HTML object>",
      "text/html": "Tracking run with wandb version 0.16.1"
     },
     "metadata": {},
     "output_type": "display_data"
    },
    {
     "data": {
      "text/plain": "<IPython.core.display.HTML object>",
      "text/html": "Run data is saved locally in <code>/Users/loyd/PycharmProjects/PytorchPractice/notebooks/wandb/run-20231226_140412-tc7gmq82</code>"
     },
     "metadata": {},
     "output_type": "display_data"
    },
    {
     "data": {
      "text/plain": "<IPython.core.display.HTML object>",
      "text/html": "Syncing run <strong><a href='https://wandb.ai/loyd-team/frozenlake_slipperry_optuna_2_testing_code/runs/tc7gmq82' target=\"_blank\">trial_0</a></strong> to <a href='https://wandb.ai/loyd-team/frozenlake_slipperry_optuna_2_testing_code' target=\"_blank\">Weights & Biases</a> (<a href='https://wandb.me/run' target=\"_blank\">docs</a>)<br/>"
     },
     "metadata": {},
     "output_type": "display_data"
    },
    {
     "data": {
      "text/plain": "<IPython.core.display.HTML object>",
      "text/html": " View project at <a href='https://wandb.ai/loyd-team/frozenlake_slipperry_optuna_2_testing_code' target=\"_blank\">https://wandb.ai/loyd-team/frozenlake_slipperry_optuna_2_testing_code</a>"
     },
     "metadata": {},
     "output_type": "display_data"
    },
    {
     "data": {
      "text/plain": "<IPython.core.display.HTML object>",
      "text/html": " View run at <a href='https://wandb.ai/loyd-team/frozenlake_slipperry_optuna_2_testing_code/runs/tc7gmq82' target=\"_blank\">https://wandb.ai/loyd-team/frozenlake_slipperry_optuna_2_testing_code/runs/tc7gmq82</a>"
     },
     "metadata": {},
     "output_type": "display_data"
    },
    {
     "data": {
      "text/plain": "VBox(children=(Label(value='0.005 MB of 0.009 MB uploaded\\r'), FloatProgress(value=0.6071468082752517, max=1.0…",
      "application/vnd.jupyter.widget-view+json": {
       "version_major": 2,
       "version_minor": 0,
       "model_id": "c83da20a9e0544d1ad0f6f5a1b91650c"
      }
     },
     "metadata": {},
     "output_type": "display_data"
    },
    {
     "data": {
      "text/plain": "<IPython.core.display.HTML object>",
      "text/html": "<style>\n    table.wandb td:nth-child(1) { padding: 0 10px; text-align: left ; width: auto;} td:nth-child(2) {text-align: left ; width: 100%}\n    .wandb-row { display: flex; flex-direction: row; flex-wrap: wrap; justify-content: flex-start; width: 100% }\n    .wandb-col { display: flex; flex-direction: column; flex-basis: 100%; flex: 1; padding: 10px; }\n    </style>\n<div class=\"wandb-row\"><div class=\"wandb-col\"><h3>Run history:</h3><br/><table class=\"wandb\"><tr><td>bias_norm</td><td>▁▂▃▃▆▄▄█▆▄▄</td></tr><tr><td>episode_length</td><td>▁▂▁▄▁▄▁▁▇▅█</td></tr><tr><td>epsilon</td><td>█▇▆▅▄▄▃▂▂▁▁</td></tr><tr><td>grad_norm</td><td>▂▁▂▁▄▆▃██▅▃</td></tr><tr><td>learning_rate</td><td>▁▁▁▁▁▁▁▁▁▁▁</td></tr><tr><td>loss</td><td>▂▁▂▁▄▆▃██▅▃</td></tr><tr><td>success_rate</td><td>▁▅▅▄▅▅▅▇▇██</td></tr><tr><td>total_reward_previous_100_episodes</td><td>▁▃▂▂▃▃▂█▅▅▅</td></tr><tr><td>weight_norm</td><td>▂▁▂▃▅▅▅██▆▆</td></tr></table><br/></div><div class=\"wandb-col\"><h3>Run summary:</h3><br/><table class=\"wandb\"><tr><td>bias_norm</td><td>0.39946</td></tr><tr><td>episode_length</td><td>48</td></tr><tr><td>epsilon</td><td>0.33093</td></tr><tr><td>grad_norm</td><td>0.62263</td></tr><tr><td>learning_rate</td><td>0.01</td></tr><tr><td>loss</td><td>0.07783</td></tr><tr><td>success_rate</td><td>0.048</td></tr><tr><td>total_reward_previous_100_episodes</td><td>6.0</td></tr><tr><td>weight_norm</td><td>2.06423</td></tr></table><br/></div></div>"
     },
     "metadata": {},
     "output_type": "display_data"
    },
    {
     "data": {
      "text/plain": "<IPython.core.display.HTML object>",
      "text/html": " View run <strong style=\"color:#cdcd00\">trial_0</strong> at: <a href='https://wandb.ai/loyd-team/frozenlake_slipperry_optuna_2_testing_code/runs/tc7gmq82' target=\"_blank\">https://wandb.ai/loyd-team/frozenlake_slipperry_optuna_2_testing_code/runs/tc7gmq82</a><br/> View job at <a href='https://wandb.ai/loyd-team/frozenlake_slipperry_optuna_2_testing_code/jobs/QXJ0aWZhY3RDb2xsZWN0aW9uOjEyNTc4MTIxMw==/version_details/v0' target=\"_blank\">https://wandb.ai/loyd-team/frozenlake_slipperry_optuna_2_testing_code/jobs/QXJ0aWZhY3RDb2xsZWN0aW9uOjEyNTc4MTIxMw==/version_details/v0</a><br/>Synced 5 W&B file(s), 0 media file(s), 2 artifact file(s) and 0 other file(s)"
     },
     "metadata": {},
     "output_type": "display_data"
    },
    {
     "data": {
      "text/plain": "<IPython.core.display.HTML object>",
      "text/html": "Find logs at: <code>./wandb/run-20231226_140412-tc7gmq82/logs</code>"
     },
     "metadata": {},
     "output_type": "display_data"
    },
    {
     "name": "stderr",
     "output_type": "stream",
     "text": [
      "[I 2023-12-26 14:05:16,265] Trial 0 finished with value: 0.76 and parameters: {'learning_rate': 0.003886489791092363}. Best is trial 0 with value: 0.76.\n"
     ]
    },
    {
     "data": {
      "text/plain": "VBox(children=(Label(value='Waiting for wandb.init()...\\r'), FloatProgress(value=0.011168963888970514, max=1.0…",
      "application/vnd.jupyter.widget-view+json": {
       "version_major": 2,
       "version_minor": 0,
       "model_id": "2104ea29628f4b36b6bbf3bcc57387bf"
      }
     },
     "metadata": {},
     "output_type": "display_data"
    },
    {
     "data": {
      "text/plain": "<IPython.core.display.HTML object>",
      "text/html": "Tracking run with wandb version 0.16.1"
     },
     "metadata": {},
     "output_type": "display_data"
    },
    {
     "data": {
      "text/plain": "<IPython.core.display.HTML object>",
      "text/html": "Run data is saved locally in <code>/Users/loyd/PycharmProjects/PytorchPractice/notebooks/wandb/run-20231226_140516-t3hl47l6</code>"
     },
     "metadata": {},
     "output_type": "display_data"
    },
    {
     "data": {
      "text/plain": "<IPython.core.display.HTML object>",
      "text/html": "Syncing run <strong><a href='https://wandb.ai/loyd-team/frozenlake_slipperry_optuna_2_testing_code/runs/t3hl47l6' target=\"_blank\">trial_1</a></strong> to <a href='https://wandb.ai/loyd-team/frozenlake_slipperry_optuna_2_testing_code' target=\"_blank\">Weights & Biases</a> (<a href='https://wandb.me/run' target=\"_blank\">docs</a>)<br/>"
     },
     "metadata": {},
     "output_type": "display_data"
    },
    {
     "data": {
      "text/plain": "<IPython.core.display.HTML object>",
      "text/html": " View project at <a href='https://wandb.ai/loyd-team/frozenlake_slipperry_optuna_2_testing_code' target=\"_blank\">https://wandb.ai/loyd-team/frozenlake_slipperry_optuna_2_testing_code</a>"
     },
     "metadata": {},
     "output_type": "display_data"
    },
    {
     "data": {
      "text/plain": "<IPython.core.display.HTML object>",
      "text/html": " View run at <a href='https://wandb.ai/loyd-team/frozenlake_slipperry_optuna_2_testing_code/runs/t3hl47l6' target=\"_blank\">https://wandb.ai/loyd-team/frozenlake_slipperry_optuna_2_testing_code/runs/t3hl47l6</a>"
     },
     "metadata": {},
     "output_type": "display_data"
    },
    {
     "data": {
      "text/plain": "VBox(children=(Label(value='0.001 MB of 0.004 MB uploaded\\r'), FloatProgress(value=0.2678762006403415, max=1.0…",
      "application/vnd.jupyter.widget-view+json": {
       "version_major": 2,
       "version_minor": 0,
       "model_id": "ac0995853d1b4dc497f3c62923954feb"
      }
     },
     "metadata": {},
     "output_type": "display_data"
    },
    {
     "data": {
      "text/plain": "<IPython.core.display.HTML object>",
      "text/html": "<style>\n    table.wandb td:nth-child(1) { padding: 0 10px; text-align: left ; width: auto;} td:nth-child(2) {text-align: left ; width: 100%}\n    .wandb-row { display: flex; flex-direction: row; flex-wrap: wrap; justify-content: flex-start; width: 100% }\n    .wandb-col { display: flex; flex-direction: column; flex-basis: 100%; flex: 1; padding: 10px; }\n    </style>\n<div class=\"wandb-row\"><div class=\"wandb-col\"><h3>Run history:</h3><br/><table class=\"wandb\"><tr><td>bias_norm</td><td>▁▂▂▂▂▂▂▃▄▆█</td></tr><tr><td>episode_length</td><td>▃▃▁█▄▅▃▇▃▅█</td></tr><tr><td>epsilon</td><td>█▇▆▅▄▄▃▂▂▁▁</td></tr><tr><td>grad_norm</td><td>▂▁▁▁▁▁▁▂▁▁█</td></tr><tr><td>learning_rate</td><td>▁▁▁▁▁▁▁▁▁▁▁</td></tr><tr><td>loss</td><td>▂▁▁▁▁▁▁▂▁▁█</td></tr><tr><td>success_rate</td><td>▁▁▁▁▂▃▃▅▆▇█</td></tr><tr><td>total_reward_previous_100_episodes</td><td>▁▁▁▁▃▃▂▇▇▆█</td></tr><tr><td>weight_norm</td><td>█▆▄▂▂▁▁▁▁▂▄</td></tr></table><br/></div><div class=\"wandb-col\"><h3>Run summary:</h3><br/><table class=\"wandb\"><tr><td>bias_norm</td><td>0.23829</td></tr><tr><td>episode_length</td><td>15</td></tr><tr><td>epsilon</td><td>0.33093</td></tr><tr><td>grad_norm</td><td>4.48776</td></tr><tr><td>learning_rate</td><td>0.01</td></tr><tr><td>loss</td><td>0.56097</td></tr><tr><td>success_rate</td><td>0.046</td></tr><tr><td>total_reward_previous_100_episodes</td><td>11.0</td></tr><tr><td>weight_norm</td><td>0.94864</td></tr></table><br/></div></div>"
     },
     "metadata": {},
     "output_type": "display_data"
    },
    {
     "data": {
      "text/plain": "<IPython.core.display.HTML object>",
      "text/html": " View run <strong style=\"color:#cdcd00\">trial_1</strong> at: <a href='https://wandb.ai/loyd-team/frozenlake_slipperry_optuna_2_testing_code/runs/t3hl47l6' target=\"_blank\">https://wandb.ai/loyd-team/frozenlake_slipperry_optuna_2_testing_code/runs/t3hl47l6</a><br/> View job at <a href='https://wandb.ai/loyd-team/frozenlake_slipperry_optuna_2_testing_code/jobs/QXJ0aWZhY3RDb2xsZWN0aW9uOjEyNTc4MTIxMw==/version_details/v0' target=\"_blank\">https://wandb.ai/loyd-team/frozenlake_slipperry_optuna_2_testing_code/jobs/QXJ0aWZhY3RDb2xsZWN0aW9uOjEyNTc4MTIxMw==/version_details/v0</a><br/>Synced 5 W&B file(s), 0 media file(s), 0 artifact file(s) and 0 other file(s)"
     },
     "metadata": {},
     "output_type": "display_data"
    },
    {
     "data": {
      "text/plain": "<IPython.core.display.HTML object>",
      "text/html": "Find logs at: <code>./wandb/run-20231226_140516-t3hl47l6/logs</code>"
     },
     "metadata": {},
     "output_type": "display_data"
    },
    {
     "name": "stderr",
     "output_type": "stream",
     "text": [
      "[I 2023-12-26 14:06:14,935] Trial 1 finished with value: 0.7 and parameters: {'learning_rate': 0.0007596347834393297}. Best is trial 0 with value: 0.76.\n"
     ]
    },
    {
     "data": {
      "text/plain": "VBox(children=(Label(value='Waiting for wandb.init()...\\r'), FloatProgress(value=0.011169029166921973, max=1.0…",
      "application/vnd.jupyter.widget-view+json": {
       "version_major": 2,
       "version_minor": 0,
       "model_id": "b4a3336755fb464ea12a86c1ba2dbfd0"
      }
     },
     "metadata": {},
     "output_type": "display_data"
    },
    {
     "data": {
      "text/plain": "<IPython.core.display.HTML object>",
      "text/html": "Tracking run with wandb version 0.16.1"
     },
     "metadata": {},
     "output_type": "display_data"
    },
    {
     "data": {
      "text/plain": "<IPython.core.display.HTML object>",
      "text/html": "Run data is saved locally in <code>/Users/loyd/PycharmProjects/PytorchPractice/notebooks/wandb/run-20231226_140614-36c85zcq</code>"
     },
     "metadata": {},
     "output_type": "display_data"
    },
    {
     "data": {
      "text/plain": "<IPython.core.display.HTML object>",
      "text/html": "Syncing run <strong><a href='https://wandb.ai/loyd-team/frozenlake_slipperry_optuna_2_testing_code/runs/36c85zcq' target=\"_blank\">trial_2</a></strong> to <a href='https://wandb.ai/loyd-team/frozenlake_slipperry_optuna_2_testing_code' target=\"_blank\">Weights & Biases</a> (<a href='https://wandb.me/run' target=\"_blank\">docs</a>)<br/>"
     },
     "metadata": {},
     "output_type": "display_data"
    },
    {
     "data": {
      "text/plain": "<IPython.core.display.HTML object>",
      "text/html": " View project at <a href='https://wandb.ai/loyd-team/frozenlake_slipperry_optuna_2_testing_code' target=\"_blank\">https://wandb.ai/loyd-team/frozenlake_slipperry_optuna_2_testing_code</a>"
     },
     "metadata": {},
     "output_type": "display_data"
    },
    {
     "data": {
      "text/plain": "<IPython.core.display.HTML object>",
      "text/html": " View run at <a href='https://wandb.ai/loyd-team/frozenlake_slipperry_optuna_2_testing_code/runs/36c85zcq' target=\"_blank\">https://wandb.ai/loyd-team/frozenlake_slipperry_optuna_2_testing_code/runs/36c85zcq</a>"
     },
     "metadata": {},
     "output_type": "display_data"
    },
    {
     "data": {
      "text/plain": "VBox(children=(Label(value='0.001 MB of 0.004 MB uploaded\\r'), FloatProgress(value=0.24024886336444126, max=1.…",
      "application/vnd.jupyter.widget-view+json": {
       "version_major": 2,
       "version_minor": 0,
       "model_id": "340d7c84b3b54710b678e30647b00a75"
      }
     },
     "metadata": {},
     "output_type": "display_data"
    },
    {
     "data": {
      "text/plain": "<IPython.core.display.HTML object>",
      "text/html": "<style>\n    table.wandb td:nth-child(1) { padding: 0 10px; text-align: left ; width: auto;} td:nth-child(2) {text-align: left ; width: 100%}\n    .wandb-row { display: flex; flex-direction: row; flex-wrap: wrap; justify-content: flex-start; width: 100% }\n    .wandb-col { display: flex; flex-direction: column; flex-basis: 100%; flex: 1; padding: 10px; }\n    </style>\n<div class=\"wandb-row\"><div class=\"wandb-col\"><h3>Run history:</h3><br/><table class=\"wandb\"><tr><td>bias_norm</td><td>▃▁▁▂▃▃▃▃▄█▇</td></tr><tr><td>episode_length</td><td>▂▅▄▃▂▁▅▁▃█▄</td></tr><tr><td>epsilon</td><td>█▇▆▅▄▄▃▂▂▁▁</td></tr><tr><td>grad_norm</td><td>▂▃▁▂▁▃█▃▃▅▅</td></tr><tr><td>learning_rate</td><td>▁▁▁▁▁▁▁▁▁▁▁</td></tr><tr><td>loss</td><td>▂▃▁▂▁▃█▃▃▅▅</td></tr><tr><td>success_rate</td><td>▁▁▂▄▅▆▇▇▇██</td></tr><tr><td>total_reward_previous_100_episodes</td><td>▁▁▂▄▆▆▆▃▄█▅</td></tr><tr><td>weight_norm</td><td>▆▅▁▂▁▁▃▃▅██</td></tr></table><br/></div><div class=\"wandb-col\"><h3>Run summary:</h3><br/><table class=\"wandb\"><tr><td>bias_norm</td><td>0.23665</td></tr><tr><td>episode_length</td><td>23</td></tr><tr><td>epsilon</td><td>0.33093</td></tr><tr><td>grad_norm</td><td>0.37615</td></tr><tr><td>learning_rate</td><td>0.01</td></tr><tr><td>loss</td><td>0.04702</td></tr><tr><td>success_rate</td><td>0.045</td></tr><tr><td>total_reward_previous_100_episodes</td><td>5.0</td></tr><tr><td>weight_norm</td><td>1.41515</td></tr></table><br/></div></div>"
     },
     "metadata": {},
     "output_type": "display_data"
    },
    {
     "data": {
      "text/plain": "<IPython.core.display.HTML object>",
      "text/html": " View run <strong style=\"color:#cdcd00\">trial_2</strong> at: <a href='https://wandb.ai/loyd-team/frozenlake_slipperry_optuna_2_testing_code/runs/36c85zcq' target=\"_blank\">https://wandb.ai/loyd-team/frozenlake_slipperry_optuna_2_testing_code/runs/36c85zcq</a><br/> View job at <a href='https://wandb.ai/loyd-team/frozenlake_slipperry_optuna_2_testing_code/jobs/QXJ0aWZhY3RDb2xsZWN0aW9uOjEyNTc4MTIxMw==/version_details/v0' target=\"_blank\">https://wandb.ai/loyd-team/frozenlake_slipperry_optuna_2_testing_code/jobs/QXJ0aWZhY3RDb2xsZWN0aW9uOjEyNTc4MTIxMw==/version_details/v0</a><br/>Synced 5 W&B file(s), 0 media file(s), 0 artifact file(s) and 0 other file(s)"
     },
     "metadata": {},
     "output_type": "display_data"
    },
    {
     "data": {
      "text/plain": "<IPython.core.display.HTML object>",
      "text/html": "Find logs at: <code>./wandb/run-20231226_140614-36c85zcq/logs</code>"
     },
     "metadata": {},
     "output_type": "display_data"
    },
    {
     "name": "stderr",
     "output_type": "stream",
     "text": [
      "[I 2023-12-26 14:07:16,593] Trial 2 finished with value: 0.58 and parameters: {'learning_rate': 0.0011717511480981199}. Best is trial 0 with value: 0.76.\n"
     ]
    },
    {
     "name": "stdout",
     "output_type": "stream",
     "text": [
      "Best trial:\n",
      " Value: 0.76\n",
      " Params: \n",
      "    learning_rate: 0.003886489791092363\n"
     ]
    }
   ],
   "source": [
    "\n",
    "study = optuna.create_study(direction='maximize')\n",
    "study.optimize(objective, n_trials=3)\n",
    "\n",
    "print(\"Best trial:\")\n",
    "trial = study.best_trial\n",
    "print(f\" Value: {trial.value}\")\n",
    "print(\" Params: \")\n",
    "for key, value in trial.params.items():\n",
    "    print(f\"    {key}: {value}\")"
   ],
   "metadata": {
    "collapsed": false,
    "ExecuteTime": {
     "end_time": "2023-12-26T13:07:16.600013Z",
     "start_time": "2023-12-26T13:04:11.332333Z"
    }
   },
   "id": "380fbbe2086bcac1"
  },
  {
   "cell_type": "code",
   "execution_count": 137,
   "outputs": [],
   "source": [
    "# Hyperparameters\n",
    "learning_rate = 0.0001\n",
    "gamma = 0.99\n",
    "epsilon = 0.7\n",
    "epsilon_decay = 0.999"
   ],
   "metadata": {
    "collapsed": false,
    "ExecuteTime": {
     "end_time": "2023-12-26T16:45:51.181115Z",
     "start_time": "2023-12-26T16:45:51.177362Z"
    }
   },
   "id": "907a4ada3bd611a3"
  },
  {
   "cell_type": "code",
   "execution_count": 138,
   "outputs": [],
   "source": [
    "random_map = True\n",
    "is_slippery = False"
   ],
   "metadata": {
    "collapsed": false,
    "ExecuteTime": {
     "end_time": "2023-12-26T16:45:52.383987Z",
     "start_time": "2023-12-26T16:45:52.378261Z"
    }
   },
   "id": "40fe2a1e4824ecb7"
  },
  {
   "cell_type": "code",
   "execution_count": 140,
   "outputs": [
    {
     "data": {
      "text/plain": "<IPython.core.display.HTML object>",
      "text/html": "Finishing last run (ID:cmpx6b7o) before initializing another..."
     },
     "metadata": {},
     "output_type": "display_data"
    },
    {
     "data": {
      "text/plain": "VBox(children=(Label(value='0.001 MB of 0.001 MB uploaded\\r'), FloatProgress(value=1.0, max=1.0)))",
      "application/vnd.jupyter.widget-view+json": {
       "version_major": 2,
       "version_minor": 0,
       "model_id": "a1c6107ff13e4126a7606f475f55e8f0"
      }
     },
     "metadata": {},
     "output_type": "display_data"
    },
    {
     "data": {
      "text/plain": "<IPython.core.display.HTML object>",
      "text/html": "<style>\n    table.wandb td:nth-child(1) { padding: 0 10px; text-align: left ; width: auto;} td:nth-child(2) {text-align: left ; width: 100%}\n    .wandb-row { display: flex; flex-direction: row; flex-wrap: wrap; justify-content: flex-start; width: 100% }\n    .wandb-col { display: flex; flex-direction: column; flex-basis: 100%; flex: 1; padding: 10px; }\n    </style>\n<div class=\"wandb-row\"><div class=\"wandb-col\"><h3>Run history:</h3><br/><table class=\"wandb\"><tr><td>bias_norm</td><td>▅▁█</td></tr><tr><td>episode_length</td><td>▇█▁</td></tr><tr><td>epsilon</td><td>█▄▁</td></tr><tr><td>grad_norm</td><td>██▁</td></tr><tr><td>learning_rate</td><td>▁▁▁</td></tr><tr><td>loss</td><td>█▂▁</td></tr><tr><td>success_rate</td><td>█▁▁</td></tr><tr><td>total_reward_previous_100_episodes</td><td>▁█▆</td></tr><tr><td>weight_norm</td><td>▁█▅</td></tr></table><br/></div><div class=\"wandb-col\"><h3>Run summary:</h3><br/><table class=\"wandb\"><tr><td>bias_norm</td><td>0.56127</td></tr><tr><td>episode_length</td><td>2</td></tr><tr><td>epsilon</td><td>0.57248</td></tr><tr><td>grad_norm</td><td>0.58659</td></tr><tr><td>learning_rate</td><td>0.0001</td></tr><tr><td>loss</td><td>0.0237</td></tr><tr><td>success_rate</td><td>0.10945</td></tr><tr><td>total_reward_previous_100_episodes</td><td>8.0</td></tr><tr><td>weight_norm</td><td>17.51666</td></tr></table><br/></div></div>"
     },
     "metadata": {},
     "output_type": "display_data"
    },
    {
     "data": {
      "text/plain": "<IPython.core.display.HTML object>",
      "text/html": " View run <strong style=\"color:#cdcd00\">Training</strong> at: <a href='https://wandb.ai/loyd-team/frozenlake_slipperry_optuna_convnet_random_map/runs/cmpx6b7o' target=\"_blank\">https://wandb.ai/loyd-team/frozenlake_slipperry_optuna_convnet_random_map/runs/cmpx6b7o</a><br/> View job at <a href='https://wandb.ai/loyd-team/frozenlake_slipperry_optuna_convnet_random_map/jobs/QXJ0aWZhY3RDb2xsZWN0aW9uOjEyNTc5ODk0Mw==/version_details/v2' target=\"_blank\">https://wandb.ai/loyd-team/frozenlake_slipperry_optuna_convnet_random_map/jobs/QXJ0aWZhY3RDb2xsZWN0aW9uOjEyNTc5ODk0Mw==/version_details/v2</a><br/>Synced 6 W&B file(s), 0 media file(s), 0 artifact file(s) and 0 other file(s)"
     },
     "metadata": {},
     "output_type": "display_data"
    },
    {
     "data": {
      "text/plain": "<IPython.core.display.HTML object>",
      "text/html": "Find logs at: <code>./wandb/run-20231226_174553-cmpx6b7o/logs</code>"
     },
     "metadata": {},
     "output_type": "display_data"
    },
    {
     "data": {
      "text/plain": "<IPython.core.display.HTML object>",
      "text/html": "Successfully finished last run (ID:cmpx6b7o). Initializing new run:<br/>"
     },
     "metadata": {},
     "output_type": "display_data"
    },
    {
     "data": {
      "text/plain": "VBox(children=(Label(value='Waiting for wandb.init()...\\r'), FloatProgress(value=0.011159884722049658, max=1.0…",
      "application/vnd.jupyter.widget-view+json": {
       "version_major": 2,
       "version_minor": 0,
       "model_id": "f9a514333b2240f49d5fe7e4e4b194cf"
      }
     },
     "metadata": {},
     "output_type": "display_data"
    },
    {
     "data": {
      "text/plain": "<IPython.core.display.HTML object>",
      "text/html": "Tracking run with wandb version 0.16.1"
     },
     "metadata": {},
     "output_type": "display_data"
    },
    {
     "data": {
      "text/plain": "<IPython.core.display.HTML object>",
      "text/html": "Run data is saved locally in <code>/Users/loyd/PycharmProjects/PytorchPractice/notebooks/wandb/run-20231226_174657-jspg4iva</code>"
     },
     "metadata": {},
     "output_type": "display_data"
    },
    {
     "data": {
      "text/plain": "<IPython.core.display.HTML object>",
      "text/html": "Syncing run <strong><a href='https://wandb.ai/loyd-team/frozenlake_slipperry_optuna_convnet_random_map/runs/jspg4iva' target=\"_blank\">Training</a></strong> to <a href='https://wandb.ai/loyd-team/frozenlake_slipperry_optuna_convnet_random_map' target=\"_blank\">Weights & Biases</a> (<a href='https://wandb.me/run' target=\"_blank\">docs</a>)<br/>"
     },
     "metadata": {},
     "output_type": "display_data"
    },
    {
     "data": {
      "text/plain": "<IPython.core.display.HTML object>",
      "text/html": " View project at <a href='https://wandb.ai/loyd-team/frozenlake_slipperry_optuna_convnet_random_map' target=\"_blank\">https://wandb.ai/loyd-team/frozenlake_slipperry_optuna_convnet_random_map</a>"
     },
     "metadata": {},
     "output_type": "display_data"
    },
    {
     "data": {
      "text/plain": "<IPython.core.display.HTML object>",
      "text/html": " View run at <a href='https://wandb.ai/loyd-team/frozenlake_slipperry_optuna_convnet_random_map/runs/jspg4iva' target=\"_blank\">https://wandb.ai/loyd-team/frozenlake_slipperry_optuna_convnet_random_map/runs/jspg4iva</a>"
     },
     "metadata": {},
     "output_type": "display_data"
    },
    {
     "name": "stderr",
     "output_type": "stream",
     "text": [
      "100%|██████████| 2000/2000 [05:56<00:00,  5.60it/s]\n"
     ]
    },
    {
     "data": {
      "text/plain": "VBox(children=(Label(value='0.001 MB of 0.001 MB uploaded\\r'), FloatProgress(value=1.0, max=1.0)))",
      "application/vnd.jupyter.widget-view+json": {
       "version_major": 2,
       "version_minor": 0,
       "model_id": "f61be4e3eb1b41829273e30d232feccd"
      }
     },
     "metadata": {},
     "output_type": "display_data"
    },
    {
     "data": {
      "text/plain": "<IPython.core.display.HTML object>",
      "text/html": "<style>\n    table.wandb td:nth-child(1) { padding: 0 10px; text-align: left ; width: auto;} td:nth-child(2) {text-align: left ; width: 100%}\n    .wandb-row { display: flex; flex-direction: row; flex-wrap: wrap; justify-content: flex-start; width: 100% }\n    .wandb-col { display: flex; flex-direction: column; flex-basis: 100%; flex: 1; padding: 10px; }\n    </style>\n<div class=\"wandb-row\"><div class=\"wandb-col\"><h3>Run history:</h3><br/><table class=\"wandb\"><tr><td>bias_norm</td><td>▅▆█▆▅▄▅▅▄▄▃▃▃▂▂▂▂▂▂▁▁</td></tr><tr><td>episode_length</td><td>▂▃▁▂█▂▂▁▁▁▁▁▃▁▁▁▁▁▁▁▁</td></tr><tr><td>epsilon</td><td>█▇▇▆▅▅▄▄▄▃▃▃▂▂▂▂▂▁▁▁▁</td></tr><tr><td>grad_norm</td><td>▁▂███████▁███████▂▁▁▂</td></tr><tr><td>learning_rate</td><td>▁▁▁▁▁▁▁▁▁▁▁▁▁▁▁▁▁▁▁▁▁</td></tr><tr><td>loss</td><td>▁▁▄▅▃▄▅▁▆▁█▅█▅▄▇▇▁▁▁▁</td></tr><tr><td>success_rate</td><td>▁▂▃▃▃▄▄▄▅▅▅▆▆▆▆▇▇▇███</td></tr><tr><td>total_reward_previous_100_episodes</td><td>▁▂▃▂▃▄▃▅▅▅▆▆▇▆▇▇█████</td></tr><tr><td>weight_norm</td><td>▁▁▂▂▂▃▄▅▅▅▆▆▆▆▇▇▇▇▇██</td></tr></table><br/></div><div class=\"wandb-col\"><h3>Run summary:</h3><br/><table class=\"wandb\"><tr><td>bias_norm</td><td>0.80564</td></tr><tr><td>episode_length</td><td>6</td></tr><tr><td>epsilon</td><td>0.09464</td></tr><tr><td>grad_norm</td><td>0.35085</td></tr><tr><td>learning_rate</td><td>0.0001</td></tr><tr><td>loss</td><td>0.00442</td></tr><tr><td>success_rate</td><td>0.418</td></tr><tr><td>total_reward_previous_100_episodes</td><td>62.0</td></tr><tr><td>weight_norm</td><td>22.73895</td></tr></table><br/></div></div>"
     },
     "metadata": {},
     "output_type": "display_data"
    },
    {
     "data": {
      "text/plain": "<IPython.core.display.HTML object>",
      "text/html": " View run <strong style=\"color:#cdcd00\">Training</strong> at: <a href='https://wandb.ai/loyd-team/frozenlake_slipperry_optuna_convnet_random_map/runs/jspg4iva' target=\"_blank\">https://wandb.ai/loyd-team/frozenlake_slipperry_optuna_convnet_random_map/runs/jspg4iva</a><br/> View job at <a href='https://wandb.ai/loyd-team/frozenlake_slipperry_optuna_convnet_random_map/jobs/QXJ0aWZhY3RDb2xsZWN0aW9uOjEyNTc5ODk0Mw==/version_details/v2' target=\"_blank\">https://wandb.ai/loyd-team/frozenlake_slipperry_optuna_convnet_random_map/jobs/QXJ0aWZhY3RDb2xsZWN0aW9uOjEyNTc5ODk0Mw==/version_details/v2</a><br/>Synced 6 W&B file(s), 0 media file(s), 0 artifact file(s) and 0 other file(s)"
     },
     "metadata": {},
     "output_type": "display_data"
    },
    {
     "data": {
      "text/plain": "<IPython.core.display.HTML object>",
      "text/html": "Find logs at: <code>./wandb/run-20231226_174657-jspg4iva/logs</code>"
     },
     "metadata": {},
     "output_type": "display_data"
    }
   ],
   "source": [
    "# Train the model\n",
    "num_episodes = 2000\n",
    "n_actions = env.action_space.n\n",
    "n_states = env.observation_space.n\n",
    "model = ConvNet(n_states, n_actions).to(device)\n",
    "optimizer = optim.Adam(model.parameters(), lr=learning_rate)\n",
    "loss_fn = nn.MSELoss()\n",
    "wandb.init(project=\"frozenlake_slipperry_optuna_convnet_random_map\",\n",
    "           name=f\"Training\",\n",
    "           config=trial.params,\n",
    "           reinit=True)\n",
    "model = train_model(model, optimizer, loss_fn, gamma, epsilon, epsilon_decay, num_episodes, device, n_states, random_map=random_map, is_slippery=is_slippery)\n",
    "wandb.finish()"
   ],
   "metadata": {
    "collapsed": false,
    "ExecuteTime": {
     "end_time": "2023-12-26T16:53:09.907124Z",
     "start_time": "2023-12-26T16:46:57.560294Z"
    }
   },
   "id": "95783e41ab8de557"
  },
  {
   "cell_type": "code",
   "execution_count": 141,
   "outputs": [
    {
     "name": "stderr",
     "output_type": "stream",
     "text": [
      "100%|██████████| 50/50 [00:00<00:00, 61.94it/s]"
     ]
    },
    {
     "name": "stdout",
     "output_type": "stream",
     "text": [
      "Success Rate:  0.74\n"
     ]
    },
    {
     "name": "stderr",
     "output_type": "stream",
     "text": [
      "\n"
     ]
    }
   ],
   "source": [
    "# Evaluate the model\n",
    "num_eval_episodes = 50\n",
    "success_rate = evaluate_model(model, num_eval_episodes, device, n_states, is_slippery, random_map)\n",
    "print(\"Success Rate: \", success_rate)"
   ],
   "metadata": {
    "collapsed": false,
    "ExecuteTime": {
     "end_time": "2023-12-26T16:54:01.758399Z",
     "start_time": "2023-12-26T16:54:00.946856Z"
    }
   },
   "id": "510270e518b47635"
  },
  {
   "cell_type": "code",
   "execution_count": 151,
   "outputs": [
    {
     "data": {
      "text/plain": "<Figure size 500x500 with 1 Axes>",
      "image/png": "[encoded data removed]"
     },
     "metadata": {},
     "output_type": "display_data"
    },
    {
     "data": {
      "text/plain": "<Figure size 500x500 with 1 Axes>",
      "image/png": "[encoded data removed]"
     },
     "metadata": {},
     "output_type": "display_data"
    },
    {
     "data": {
      "text/plain": "<Figure size 500x500 with 1 Axes>",
      "image/png": "[encoded data removed]"
     },
     "metadata": {},
     "output_type": "display_data"
    },
    {
     "data": {
      "text/plain": "<Figure size 500x500 with 1 Axes>",
      "image/png": "[encoded data removed]"
     },
     "metadata": {},
     "output_type": "display_data"
    },
    {
     "data": {
      "text/plain": "<Figure size 500x500 with 1 Axes>",
      "image/png": "[encoded data removed]"
     },
     "metadata": {},
     "output_type": "display_data"
    }
   ],
   "source": [
    "def visualize_policy_on_random_maps(model, device, n_maps=5, n_states=16, is_slippery=False):\n",
    "    # Create a color map for the grid with your specified colors\n",
    "\n",
    "\n",
    "    for map_idx in range(n_maps):\n",
    "        # Create environment with a random map\n",
    "        env = gym.make('FrozenLake-v1', desc=generate_random_map(size=4), is_slippery=is_slippery)\n",
    "\n",
    "        # Convert env.desc to a string format\n",
    "        desc = env.desc.astype(str)\n",
    "\n",
    "        # Create a color map for the grid\n",
    "        numerical_color_map = {'S': 2, 'F': 1, 'H': 0, 'G': 3}\n",
    "        numerical_grid_colors = np.vectorize(numerical_color_map.get)(desc)\n",
    "\n",
    "\n",
    "        # Extracting the policy from the model for the current map\n",
    "        policy = np.array([torch.argmax(model(preprocess_state(s, env.desc).to(device))).item() for s in range(env.observation_space.n)])\n",
    "\n",
    "        # Mapping actions to symbols for visualization\n",
    "        action_symbols = {0: '←', 1: '↓', 2: '→', 3: '↑'}\n",
    "        policy_symbols = np.vectorize(action_symbols.get)(policy)\n",
    "\n",
    "        # Reshape for grid visualization\n",
    "        policy_grid = policy_symbols.reshape(env.desc.shape)\n",
    "\n",
    "        # Plotting the policy grid\n",
    "        plt.figure(figsize=(5, 5))\n",
    "        # Create a ListedColormap for custom colors\n",
    "        cmap = ListedColormap(['black', 'lightblue', 'lightblue', 'yellow'])  # Order: H, F, S, G\n",
    "        plt.imshow(numerical_grid_colors, cmap=cmap, interpolation='nearest')\n",
    "\n",
    "        for i in range(desc.shape[0]):\n",
    "            for j in range(desc.shape[1]):\n",
    "                cell_color = 'white' if desc[i, j] in ['H', 'G'] else 'black'\n",
    "                plt.text(j, i, policy_grid[i, j], ha='center', va='center', fontsize=12, color=cell_color)\n",
    "        plt.title(f'Policy Visualization for Map {map_idx+1}')\n",
    "        plt.show()\n",
    "\n",
    "visualize_policy_on_random_maps(model, device, n_maps=5, is_slippery=False)"
   ],
   "metadata": {
    "collapsed": false,
    "ExecuteTime": {
     "end_time": "2023-12-26T17:07:07.961494Z",
     "start_time": "2023-12-26T17:07:07.280891Z"
    }
   },
   "id": "bcec4f1a4aa586bc"
  },
  {
   "cell_type": "code",
   "execution_count": 25,
   "outputs": [
    {
     "name": "stdout",
     "output_type": "stream",
     "text": [
      "[[b'S' b'F' b'F' b'F']\n",
      " [b'F' b'H' b'F' b'H']\n",
      " [b'F' b'F' b'F' b'H']\n",
      " [b'H' b'F' b'F' b'G']]\n"
     ]
    }
   ],
   "source": [
    "print(env.desc)\n"
   ],
   "metadata": {
    "collapsed": false,
    "ExecuteTime": {
     "end_time": "2023-12-26T14:55:46.951020Z",
     "start_time": "2023-12-26T14:55:46.940506Z"
    }
   },
   "id": "fb7197d0fc51f4f4"
  },
  {
   "cell_type": "code",
   "execution_count": 21,
   "outputs": [
    {
     "name": "stdout",
     "output_type": "stream",
     "text": [
      "Failure States:  {6}\n"
     ]
    }
   ],
   "source": [
    "def analyze_failures(env, model, num_episodes=100):\n",
    "    failed_states = []\n",
    "    for _ in range(num_episodes):\n",
    "        state = env.reset()[0]\n",
    "        done = False\n",
    "        while not done:\n",
    "            action = torch.argmax(model(torch.FloatTensor(np.eye(env.observation_space.n)[state]).to(device))).item()\n",
    "            next_state, reward, done, _, _ = env.step(action)\n",
    "            if done and reward == 0:  # Check if the episode ended without success\n",
    "                failed_states.append(state)\n",
    "            state = next_state\n",
    "    return failed_states\n",
    "\n",
    "# Analyze failures\n",
    "failed_states = analyze_failures(env, model)\n",
    "print(\"Failure States: \", set(failed_states))"
   ],
   "metadata": {
    "collapsed": false,
    "ExecuteTime": {
     "end_time": "2023-12-26T14:49:37.774596Z",
     "start_time": "2023-12-26T14:49:35.296595Z"
    }
   },
   "id": "e9d2f05bb18f04e5"
  },
  {
   "cell_type": "code",
   "execution_count": 22,
   "outputs": [
    {
     "data": {
      "text/plain": "<Figure size 500x500 with 2 Axes>",
      "image/png": "[encoded data removed]"
     },
     "metadata": {},
     "output_type": "display_data"
    }
   ],
   "source": [
    "def plot_heatmap(env, state_counts):\n",
    "    grid_counts = np.zeros(env.desc.shape)\n",
    "    for state, count in state_counts.items():\n",
    "        x, y = np.unravel_index(state, env.desc.shape)\n",
    "        grid_counts[x, y] = count\n",
    "\n",
    "    plt.figure(figsize=(5, 5))\n",
    "    plt.imshow(grid_counts, cmap='hot', interpolation='nearest')\n",
    "    plt.colorbar()\n",
    "    plt.title('Heatmap of Critical States')\n",
    "    plt.show()\n",
    "\n",
    "# Count occurrences of each state in failure cases\n",
    "state_counts = Counter(failed_states)\n",
    "\n",
    "# Plot heatmap\n",
    "plot_heatmap(env, state_counts)\n"
   ],
   "metadata": {
    "collapsed": false,
    "ExecuteTime": {
     "end_time": "2023-12-26T14:49:40.636860Z",
     "start_time": "2023-12-26T14:49:40.530694Z"
    }
   },
   "id": "12e9b864099f4c18"
  },
  {
   "cell_type": "code",
   "execution_count": null,
   "outputs": [],
   "source": [],
   "metadata": {
    "collapsed": false,
    "ExecuteTime": {
     "end_time": "2023-12-26T13:07:16.984382Z",
     "start_time": "2023-12-26T13:07:16.964269Z"
    }
   },
   "id": "1cb37ca18ba4e6b2"
  }
 ],
 "metadata": {
  "kernelspec": {
   "display_name": "Python 3",
   "language": "python",
   "name": "python3"
  },
  "language_info": {
   "codemirror_mode": {
    "name": "ipython",
    "version": 2
   },
   "file_extension": ".py",
   "mimetype": "text/x-python",
   "name": "python",
   "nbconvert_exporter": "python",
   "pygments_lexer": "ipython2",
   "version": "2.7.6"
  }
 },
 "nbformat": 4,
 "nbformat_minor": 5
}

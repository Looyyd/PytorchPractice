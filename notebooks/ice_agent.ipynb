{
 "cells": [
  {
   "cell_type": "code",
   "execution_count": 136,
   "id": "initial_id",
   "metadata": {
    "collapsed": true,
    "ExecuteTime": {
     "end_time": "2023-12-27T02:02:28.180336Z",
     "start_time": "2023-12-27T02:02:28.130398Z"
    }
   },
   "outputs": [],
   "source": [
    "import gymnasium as gym\n",
    "import torch\n",
    "import torch.nn as nn\n",
    "import torch.optim as optim\n",
    "import torch.nn.functional as F\n",
    "import numpy as np\n",
    "import random\n",
    "import matplotlib.pyplot as plt\n",
    "from matplotlib.colors import ListedColormap\n",
    "from IPython import display\n",
    "from collections import Counter\n",
    "import optuna\n",
    "import wandb\n",
    "from tqdm import tqdm\n",
    "from gymnasium.envs.toy_text.frozen_lake import generate_random_map"
   ]
  },
  {
   "cell_type": "code",
   "execution_count": 137,
   "outputs": [],
   "source": [
    "# Environment setup\n",
    "env = gym.make('FrozenLake-v1', is_slippery=False)\n",
    "n_actions = env.action_space.n\n",
    "n_states = env.observation_space.n"
   ],
   "metadata": {
    "collapsed": false,
    "ExecuteTime": {
     "end_time": "2023-12-27T02:02:28.182903Z",
     "start_time": "2023-12-27T02:02:28.163491Z"
    }
   },
   "id": "655c4f8ad84a6e65"
  },
  {
   "cell_type": "code",
   "execution_count": 182,
   "outputs": [],
   "source": [
    "# Neural network model\n",
    "class Net(nn.Module):\n",
    "    def __init__(self):\n",
    "        super(Net, self).__init__()\n",
    "        self.fc = nn.Linear(n_states, n_actions)\n",
    "\n",
    "    def forward(self, x):\n",
    "        return self.fc(x)\n",
    "    \n",
    "class ConvNet(nn.Module):\n",
    "    def __init__(self, input_size, n_actions, dropout_p=None):\n",
    "        super(ConvNet, self).__init__()\n",
    "        self.conv1 = nn.Conv2d(4, 16, kernel_size=3, stride=1, padding=1)\n",
    "        self.bn1 = nn.BatchNorm2d(16)\n",
    "        # 1x1 conv for matching dimensions in residual connection\n",
    "        self.match_channels1 = nn.Conv2d(4, 16, kernel_size=1, stride=1, padding=0)\n",
    "\n",
    "        self.conv2 = nn.Conv2d(16, 32, kernel_size=3, stride=1, padding=1)\n",
    "        self.bn2 = nn.BatchNorm2d(32)\n",
    "        # 1x1 conv for matching dimensions in residual connection\n",
    "        self.match_channels2 = nn.Conv2d(16, 32, kernel_size=1, stride=1, padding=0)\n",
    "\n",
    "        self.fc = nn.Linear(32 * input_size, n_actions)\n",
    "        self.dropout_p = dropout_p\n",
    "        if dropout_p is not None:\n",
    "            self.dropout = nn.Dropout(dropout_p)\n",
    "\n",
    "    def forward(self, x):\n",
    "        # First convolutional block with residual connection\n",
    "        residual = self.match_channels1(x)\n",
    "        out = F.relu(self.bn1(self.conv1(x)))\n",
    "        x = out + residual\n",
    "\n",
    "        # Second convolutional block with residual connection\n",
    "        residual = self.match_channels2(x)\n",
    "        out = F.relu(self.bn2(self.conv2(x)))\n",
    "        x = out + residual\n",
    "\n",
    "        # Flattening and passing through fully connected layer\n",
    "        x = x.view(x.size(0), -1)\n",
    "        if self.dropout_p is not None:\n",
    "            x = self.dropout(x)\n",
    "        return self.fc(x)"
   ],
   "metadata": {
    "collapsed": false,
    "ExecuteTime": {
     "end_time": "2023-12-27T10:03:14.790460Z",
     "start_time": "2023-12-27T10:03:14.786108Z"
    }
   },
   "id": "fc04ac7142783e42"
  },
  {
   "cell_type": "code",
   "execution_count": 139,
   "outputs": [],
   "source": [
    "device = torch.device(\"mps\")"
   ],
   "metadata": {
    "collapsed": false,
    "ExecuteTime": {
     "end_time": "2023-12-27T02:02:28.200087Z",
     "start_time": "2023-12-27T02:02:28.189785Z"
    }
   },
   "id": "475f097e7f7a6a9f"
  },
  {
   "cell_type": "code",
   "execution_count": 140,
   "outputs": [],
   "source": [
    "def preprocess_state(position, map_layout):\n",
    "    nrows, ncols = 4, 4  # Assuming a 4x4 map\n",
    "    num_statuses = 4      # Four statuses including the agent's position\n",
    "\n",
    "    # Initialize a 4x4x4 tensor for one-hot encoded state\n",
    "    state_tensor = np.zeros((nrows, ncols, num_statuses))\n",
    "\n",
    "    # Decode map layout\n",
    "    layout_to_val = {b'F': 0, b'H': 1, b'S': 0, b'G': 3}  # Start 'S' also considered safe '0'\n",
    "\n",
    "    for i in range(nrows):\n",
    "        for j in range(ncols):\n",
    "            # Set the appropriate index in the one-hot vector\n",
    "            state_tensor[i, j, layout_to_val[map_layout[i][j]]] = 1\n",
    "\n",
    "    # Convert position to 2D coordinates and update in state tensor\n",
    "    row, col = divmod(position, ncols)\n",
    "    # Resetting the cell to a blank state before marking the current position\n",
    "    state_tensor[row, col] = np.array([0, 0, 0, 0])\n",
    "    state_tensor[row, col, 2] = 1  # Marking the current position with one-hot encoding\n",
    "\n",
    "    return torch.tensor(state_tensor, dtype=torch.float)\n"
   ],
   "metadata": {
    "collapsed": false,
    "ExecuteTime": {
     "end_time": "2023-12-27T02:02:28.205121Z",
     "start_time": "2023-12-27T02:02:28.202602Z"
    }
   },
   "id": "3501c2ac8576ba78"
  },
  {
   "cell_type": "code",
   "execution_count": 141,
   "outputs": [
    {
     "name": "stdout",
     "output_type": "stream",
     "text": [
      "[[b'S' b'F' b'F' b'F']\n",
      " [b'F' b'H' b'F' b'H']\n",
      " [b'F' b'F' b'F' b'H']\n",
      " [b'H' b'F' b'F' b'G']]\n"
     ]
    }
   ],
   "source": [
    "print(env.desc)"
   ],
   "metadata": {
    "collapsed": false,
    "ExecuteTime": {
     "end_time": "2023-12-27T02:02:28.213582Z",
     "start_time": "2023-12-27T02:02:28.205229Z"
    }
   },
   "id": "abd04d238cc92983"
  },
  {
   "cell_type": "code",
   "execution_count": 162,
   "outputs": [],
   "source": [
    "def calculate_intermediate_reward(current_state, next_state, env, visited_states, forward_step_reward=0, visited_step_reward=0, in_place_reward=0):\n",
    "    \"\"\"\n",
    "    Calculate intermediate reward based on movement towards the goal.\n",
    "    \"\"\"\n",
    "    if next_state == current_state:\n",
    "        return in_place_reward\n",
    "    elif next_state in visited_states:\n",
    "        return visited_step_reward \n",
    "    else:\n",
    "        return forward_step_reward if next_state > current_state else 0\n",
    "\n",
    "\n",
    "def create_vectorized_environments(env_name, n_envs, random_map, is_slippery):\n",
    "    if random_map:\n",
    "        envs = [gym.make(env_name, desc=generate_random_map(size=4), is_slippery=is_slippery) for _ in range(n_envs)]\n",
    "    else:\n",
    "        envs = [gym.make(env_name, is_slippery=is_slippery) for _ in range(n_envs)]\n",
    "    return envs\n",
    "\n",
    "# Training Function\n",
    "def train_model(model, optimizer, loss_fn, gamma, epsilon_start, epsilon_decay, num_episodes, device, n_states, random_map=False, is_slippery=False, hole_reward=-1, forward_step_reward=0, visited_step_reward=0, in_place_reward=0):\n",
    "    n_envs = 8\n",
    "    max_steps = 4 * 4 * 4 # 4x the number of states seems like a reasonable upper bound\n",
    "    epsilon = epsilon_start\n",
    "\n",
    "    last_eval_success_rate = 0 # metric that is sparsely updated\n",
    "    weight_norm = sum(torch.norm(param)**2 for param in model.parameters() if param.dim() > 1)\n",
    "    bias_norm = sum(torch.norm(param)**2 for param in model.parameters() if param.dim() == 1)\n",
    "\n",
    "\n",
    "    plot_update_frequency = int(num_episodes * (5/100))  # update plots every 5% of episodes\n",
    "    if plot_update_frequency == 0:\n",
    "        plot_update_frequency = 1\n",
    "\n",
    "\n",
    "    # Training loop\n",
    "    for episode in tqdm(range(num_episodes)):\n",
    "        model.train()\n",
    "        # Create vectorized environments\n",
    "        envs = create_vectorized_environments('FrozenLake-v1', n_envs, random_map, is_slippery)\n",
    "\n",
    "\n",
    "        states = [env.reset()[0] for env in envs]\n",
    "        dones = [False] * n_envs\n",
    "        episode_rewards = [0] * n_envs\n",
    "        visited_states = [set() for _ in envs]\n",
    "\n",
    "        step_count = 0\n",
    "        ongoing_indices = list(range(n_envs))  # Initialize with all environment indices\n",
    "\n",
    "        # TODO: fix loss bug when len is 1\n",
    "        while len(ongoing_indices) > 1 and step_count < max_steps:\n",
    "            step_count += 1\n",
    "            # Filter out completed environments for action selection and state update\n",
    "            ongoing_envs = [envs[i] for i in ongoing_indices]\n",
    "            ongoing_states = [states[i] for i in ongoing_indices]\n",
    "\n",
    "\n",
    "            # Preprocess all states and convert them into tensors\n",
    "            state_tensors = [preprocess_state(state, env.desc).to(device) for state, env in zip(ongoing_states, ongoing_envs)] \n",
    "            # Combine all state tensors into a single batch\n",
    "            state_tensor_batch = torch.stack(state_tensors)\n",
    "            \n",
    "            # Compute Q-values for the entire batch\n",
    "            q_values_batch = model(state_tensor_batch)\n",
    "            \n",
    "            # Iterate over each environment to select actions\n",
    "            actions = []\n",
    "            for i, (q_values, env) in enumerate(zip(q_values_batch, ongoing_envs)):\n",
    "                visited_states[ongoing_indices[i]] .add(states[ongoing_indices[i]])\n",
    "            \n",
    "                if random.random() < epsilon:\n",
    "                    action = env.action_space.sample()\n",
    "                else:\n",
    "                    action = torch.argmax(q_values).item()\n",
    "            \n",
    "                actions.append(action)\n",
    "\n",
    "\n",
    "            next_states, rewards, next_dones = [], [], []\n",
    "            for i, (env, action) in enumerate(zip(ongoing_envs, actions)):\n",
    "                next_state, reward, done, _, _ = env.step(action)\n",
    "                # Custom reward logic\n",
    "                if done and reward == 0:  # Agent fell into a hole\n",
    "                    reward = hole_reward\n",
    "                else:\n",
    "                    # Additional logic to calculate reward for moving towards the goal\n",
    "                    reward += calculate_intermediate_reward(states[ongoing_indices[i]], next_state, env, visited_states, forward_step_reward, visited_step_reward, in_place_reward)\n",
    "\n",
    "                next_states.append(next_state)\n",
    "                rewards.append(reward)\n",
    "                next_dones.append(done)\n",
    "                episode_rewards[ongoing_indices[i]] += reward\n",
    "            \n",
    "            \n",
    "            next_states_tensors = [preprocess_state(state, env.desc).to(device) for state, env in zip(next_states, ongoing_envs)]\n",
    "            next_states_batch = torch.stack(next_states_tensors)\n",
    "                        # Create batches for rewards, actions, and dones\n",
    "            reward_batch = torch.tensor(rewards, device=device)\n",
    "            action_batch = torch.tensor(actions, device=device)\n",
    "            done_batch = torch.tensor(next_dones, device=device)\n",
    "            \n",
    "            # Compute Q-values for the entire batch\n",
    "            next_q_values_batch = model(next_states_batch)\n",
    "            max_next_state_q_values = torch.max(next_q_values_batch, dim=1)[0]\n",
    "            # Compute the target Q-values\n",
    "            target_q_values = reward_batch + gamma * max_next_state_q_values * (1 - done_batch.float())\n",
    "            #print(q_values_batch.shape) # (8, 4)\n",
    "            #print(action_batch.shape) # (8,)\n",
    "            #print(target_q_values.shape) # (8,)\n",
    "            # Correct way to get predicted Q values for the taken actions\n",
    "            predicted_q_values = q_values_batch.gather(1, action_batch.unsqueeze(-1)).squeeze()\n",
    "            # Compute the loss\n",
    "            loss = loss_fn(predicted_q_values, target_q_values)\n",
    "            \n",
    "            # Rest of your optimization logic\n",
    "            optimizer.zero_grad()\n",
    "            loss.backward()\n",
    "            torch.nn.utils.clip_grad_norm_(model.parameters(), max_norm=10.0)\n",
    "            optimizer.step()\n",
    "\n",
    "            # Update states of ongoing indices\n",
    "            for i, (next_state, done) in enumerate(zip(next_states, next_dones)):\n",
    "                if not done:\n",
    "                    states[ongoing_indices[i]] = next_state\n",
    "\n",
    "\n",
    "            grad_norm = sum(torch.norm(param.grad)**2 for param in model.parameters() if param.grad is not None)\n",
    "            # log metrics to wandb\n",
    "            wandb.log({\"loss\": loss.item(),\n",
    "                       \"weight_norm\": weight_norm.item(),\n",
    "                       \"bias_norm\": bias_norm.item(),\n",
    "                       \"grad_norm\": grad_norm.item(),\n",
    "                       \"epsilon\": epsilon,\n",
    "                       \"average_episode_rewards\": sum(episode_rewards)/len(episode_rewards),\n",
    "                       \"last_eval_success_rate\": last_eval_success_rate})\n",
    "            \n",
    "\n",
    "            # Update ongoing indices\n",
    "            new_ongoing_indices = []\n",
    "            for i, (done, reward) in enumerate(zip(next_dones, rewards)):\n",
    "                if not done:\n",
    "                    new_ongoing_indices.append(ongoing_indices[i])\n",
    "            ongoing_indices = new_ongoing_indices\n",
    "        # Close all environments at the end of the episode\n",
    "        for env in envs:\n",
    "            env.close()\n",
    "    \n",
    "\n",
    "        # Decay epsilon\n",
    "        if epsilon > 0.01:\n",
    "            epsilon *= epsilon_decay\n",
    "\n",
    "        if episode % plot_update_frequency == 0 or episode == num_episodes - 1:\n",
    "            # update some metrics  \n",
    "            last_eval_success_rate = evaluate_model(model, 100, device, n_states, n_envs, is_slippery, random_map)\n",
    "            weight_norm = sum(torch.norm(param)**2 for param in model.parameters() if param.dim() > 1)\n",
    "            bias_norm = sum(torch.norm(param)**2 for param in model.parameters() if param.dim() == 1) \n",
    "\n",
    "    return model"
   ],
   "metadata": {
    "collapsed": false,
    "ExecuteTime": {
     "end_time": "2023-12-27T09:27:05.148493Z",
     "start_time": "2023-12-27T09:27:05.114716Z"
    }
   },
   "id": "ca47908718e26a43"
  },
  {
   "cell_type": "code",
   "execution_count": 163,
   "outputs": [],
   "source": [
    "def evaluate_model(model, num_eval_episodes, device, n_states, batch_size=10, is_slippery=False, random_map=False):\n",
    "    #TODO: give other metrics such as average episode length, average reward, etc.\n",
    "    model.eval()\n",
    "    with torch.no_grad():\n",
    "        successful_episodes = 0\n",
    "        total_evaluated = 0\n",
    "    \n",
    "        while total_evaluated < num_eval_episodes:\n",
    "            envs = []\n",
    "            states = []\n",
    "            dones = []\n",
    "            for _ in range(min(batch_size, num_eval_episodes - total_evaluated)):\n",
    "                if random_map:\n",
    "                    env = gym.make('FrozenLake-v1', desc=generate_random_map(size=4), is_slippery=is_slippery)\n",
    "                else:\n",
    "                    env = gym.make('FrozenLake-v1', is_slippery=is_slippery)\n",
    "                envs.append(env)\n",
    "                states.append(env.reset()[0])\n",
    "                dones.append(False)\n",
    "    \n",
    "            max_steps = len(envs[0].desc) * len(envs[0].desc[0]) * 4\n",
    "            step_count = 0\n",
    "    \n",
    "            while step_count < max_steps and not all(dones):\n",
    "                step_count += 1\n",
    "                state_tensors = [preprocess_state(state, env.desc).to(device) for state, env in zip(states, envs)]\n",
    "                state_batch = torch.stack(state_tensors)\n",
    "                q_values = model(state_batch)\n",
    "                actions = torch.argmax(q_values, dim=1).cpu().numpy()\n",
    "    \n",
    "                for i, env in enumerate(envs):\n",
    "                    if not dones[i]:\n",
    "                        next_state, reward, done, _, _ = env.step(actions[i])\n",
    "                        states[i] = next_state\n",
    "                        dones[i] = done\n",
    "    \n",
    "                        if done and reward > 0:\n",
    "                            successful_episodes += 1\n",
    "    \n",
    "            total_evaluated += len(envs)\n",
    "    \n",
    "        success_rate = successful_episodes / num_eval_episodes\n",
    "    return success_rate\n"
   ],
   "metadata": {
    "collapsed": false,
    "ExecuteTime": {
     "end_time": "2023-12-27T09:27:05.297176Z",
     "start_time": "2023-12-27T09:27:05.293146Z"
    }
   },
   "id": "bca62607ea444a77"
  },
  {
   "cell_type": "code",
   "execution_count": 183,
   "outputs": [],
   "source": [
    "# Optuna Objective Function\n",
    "def objective(trial):\n",
    "    wandb.init(project=\"frozenlake_slipperry_optuna_reward_search_convnet_random_map\",\n",
    "               name=f\"trial_{trial.number}\",\n",
    "               config=trial.params,\n",
    "               reinit=True)\n",
    "    # find rewards\n",
    "    hole_reward = trial.suggest_float(\"hole_reward\", -1, 0)\n",
    "    forward_step_reward = trial.suggest_float(\"forward_step_reward\", 0, 1)\n",
    "    visited_step_reward = trial.suggest_float(\"visited_step_reward\", -1, 0)\n",
    "    \n",
    "    # Hyperparameters\n",
    "    learning_rate = 0.0001\n",
    "    gamma = 0.99\n",
    "    epsilon = 0.8\n",
    "    epsilon_decay = 0.999\n",
    "    num_episodes = 2500\n",
    "\n",
    "    n_actions = env.action_space.n\n",
    "    n_states = env.observation_space.n\n",
    "    model = ConvNet(n_states, n_actions).to(device)\n",
    "    optimizer = optim.Adam(model.parameters(), lr=learning_rate)\n",
    "    loss_fn = nn.MSELoss().to(device)\n",
    "    random_map = True\n",
    "    is_slippery = False\n",
    "\n",
    "    trained_model = train_model(model, optimizer, loss_fn, gamma, epsilon, epsilon_decay, num_episodes, device, n_states, random_map=random_map, is_slippery=is_slippery,\n",
    "                                hole_reward=hole_reward, forward_step_reward=forward_step_reward, visited_step_reward=visited_step_reward)\n",
    "    \n",
    "    num_eval_episodes = 50 \n",
    "    success_rate = evaluate_model(trained_model, num_eval_episodes, device, n_states, is_slippery, random_map)\n",
    "\n",
    "\n",
    "    wandb.finish()\n",
    "    return success_rate\n"
   ],
   "metadata": {
    "collapsed": false,
    "ExecuteTime": {
     "end_time": "2023-12-27T10:03:20.690298Z",
     "start_time": "2023-12-27T10:03:20.686324Z"
    }
   },
   "id": "da966d3235295555"
  },
  {
   "cell_type": "markdown",
   "source": [
    "study"
   ],
   "metadata": {
    "collapsed": false
   },
   "id": "5bac2364ed794ffc"
  },
  {
   "cell_type": "code",
   "execution_count": 184,
   "outputs": [
    {
     "data": {
      "text/plain": "'\\nstudy = optuna.create_study(direction=\\'maximize\\')\\nstudy.optimize(objective, n_trials=50)\\n\\nprint(\"Best trial:\")\\ntrial = study.best_trial\\nprint(f\" Value: {trial.value}\")\\nprint(\" Params: \")\\nfor key, value in trial.params.items():\\n    print(f\"    {key}: {value}\")\\n'"
     },
     "execution_count": 184,
     "metadata": {},
     "output_type": "execute_result"
    }
   ],
   "source": [
    "\"\"\"\n",
    "study = optuna.create_study(direction='maximize')\n",
    "study.optimize(objective, n_trials=50)\n",
    "\n",
    "print(\"Best trial:\")\n",
    "trial = study.best_trial\n",
    "print(f\" Value: {trial.value}\")\n",
    "print(\" Params: \")\n",
    "for key, value in trial.params.items():\n",
    "    print(f\"    {key}: {value}\")\n",
    "\"\"\""
   ],
   "metadata": {
    "collapsed": false,
    "ExecuteTime": {
     "end_time": "2023-12-27T10:03:22.678023Z",
     "start_time": "2023-12-27T10:03:22.673881Z"
    }
   },
   "id": "380fbbe2086bcac1"
  },
  {
   "cell_type": "code",
   "execution_count": 225,
   "outputs": [],
   "source": [
    "# Hyperparameters\n",
    "learning_rate = 0.0001\n",
    "gamma = 0.99\n",
    "epsilon = 0\n",
    "epsilon_decay = 0.9\n",
    "weight_decay = 1e-5\n",
    "dropout_p = 0.3"
   ],
   "metadata": {
    "collapsed": false,
    "ExecuteTime": {
     "end_time": "2023-12-27T10:55:27.550495Z",
     "start_time": "2023-12-27T10:55:27.535621Z"
    }
   },
   "id": "907a4ada3bd611a3"
  },
  {
   "cell_type": "code",
   "execution_count": 226,
   "outputs": [],
   "source": [
    "random_map = True\n",
    "is_slippery = False"
   ],
   "metadata": {
    "collapsed": false,
    "ExecuteTime": {
     "end_time": "2023-12-27T10:55:28.347209Z",
     "start_time": "2023-12-27T10:55:28.340781Z"
    }
   },
   "id": "40fe2a1e4824ecb7"
  },
  {
   "cell_type": "code",
   "execution_count": 227,
   "outputs": [
    {
     "data": {
      "text/plain": "<IPython.core.display.HTML object>",
      "text/html": "Tracking run with wandb version 0.16.1"
     },
     "metadata": {},
     "output_type": "display_data"
    },
    {
     "data": {
      "text/plain": "<IPython.core.display.HTML object>",
      "text/html": "Run data is saved locally in <code>/Users/loyd/PycharmProjects/PytorchPractice/notebooks/wandb/run-20231227_115531-bvuntpwq</code>"
     },
     "metadata": {},
     "output_type": "display_data"
    },
    {
     "data": {
      "text/plain": "<IPython.core.display.HTML object>",
      "text/html": "Syncing run <strong><a href='https://wandb.ai/loyd-team/frozenlake_slipperry_batches_convnet_random_map/runs/bvuntpwq' target=\"_blank\">Batch normalization 3000 steps, trying 0 epsilon because learning starts after epsilon decay, Residual + dropout 0.3, weight decay 1e-5, random map</a></strong> to <a href='https://wandb.ai/loyd-team/frozenlake_slipperry_batches_convnet_random_map' target=\"_blank\">Weights & Biases</a> (<a href='https://wandb.me/run' target=\"_blank\">docs</a>)<br/>"
     },
     "metadata": {},
     "output_type": "display_data"
    },
    {
     "data": {
      "text/plain": "<IPython.core.display.HTML object>",
      "text/html": " View project at <a href='https://wandb.ai/loyd-team/frozenlake_slipperry_batches_convnet_random_map' target=\"_blank\">https://wandb.ai/loyd-team/frozenlake_slipperry_batches_convnet_random_map</a>"
     },
     "metadata": {},
     "output_type": "display_data"
    },
    {
     "data": {
      "text/plain": "<IPython.core.display.HTML object>",
      "text/html": " View run at <a href='https://wandb.ai/loyd-team/frozenlake_slipperry_batches_convnet_random_map/runs/bvuntpwq' target=\"_blank\">https://wandb.ai/loyd-team/frozenlake_slipperry_batches_convnet_random_map/runs/bvuntpwq</a>"
     },
     "metadata": {},
     "output_type": "display_data"
    },
    {
     "name": "stderr",
     "output_type": "stream",
     "text": [
      "100%|██████████| 3000/3000 [08:00<00:00,  6.24it/s]\n"
     ]
    },
    {
     "data": {
      "text/plain": "VBox(children=(Label(value='0.001 MB of 0.012 MB uploaded\\r'), FloatProgress(value=0.07966357216535745, max=1.…",
      "application/vnd.jupyter.widget-view+json": {
       "version_major": 2,
       "version_minor": 0,
       "model_id": "0130fae5db49479a864d4875027c8803"
      }
     },
     "metadata": {},
     "output_type": "display_data"
    },
    {
     "data": {
      "text/plain": "<IPython.core.display.HTML object>",
      "text/html": "<style>\n    table.wandb td:nth-child(1) { padding: 0 10px; text-align: left ; width: auto;} td:nth-child(2) {text-align: left ; width: 100%}\n    .wandb-row { display: flex; flex-direction: row; flex-wrap: wrap; justify-content: flex-start; width: 100% }\n    .wandb-col { display: flex; flex-direction: column; flex-basis: 100%; flex: 1; padding: 10px; }\n    </style>\n<div class=\"wandb-row\"><div class=\"wandb-col\"><h3>Run history:</h3><br/><table class=\"wandb\"><tr><td>average_episode_rewards</td><td>▅▁▅▅▆▁▃▅▁▂▂▂▂▂▃▂▂▁▅▄▂▃▃▃▃▃▃▄▂▄▇▂█▆▂▄▃▃▃▂</td></tr><tr><td>bias_norm</td><td>███▆▆▅▅▄▄▄▄▄▄▃▃▃▃▃▃▂▂▂▂▂▂▂▂▂▂▂▂▁▁▁▁▁▁▁▁▁</td></tr><tr><td>epsilon</td><td>▁▁▁▁▁▁▁▁▁▁▁▁▁▁▁▁▁▁▁▁▁▁▁▁▁▁▁▁▁▁▁▁▁▁▁▁▁▁▁▁</td></tr><tr><td>grad_norm</td><td>█▅█▅▅▁▃▂▁▂▄▂▂▁▃▃▃▂▂▂▁▂▁▂▂▁▂▂▂▁▂▁▁▂▂▂▂▃▂▁</td></tr><tr><td>last_eval_success_rate</td><td>▁▁▁▃▃▅▅▅▅▆▆▆▆▆▆▆▆▇▇▇▇▇▇▇▇▇▇▇▇████▇██████</td></tr><tr><td>loss</td><td>█▂▃▁▃▁▂▁▁▁▂▂▂▁▂▂▂▁▁▁▁▂▁▂▂▁▁▁▂▁▁▁▁▁▁▂▂▂▂▁</td></tr><tr><td>weight_norm</td><td>▂▂▂▁▁▁▁▁▁▁▁▁▁▂▂▂▂▂▂▃▃▃▃▄▄▄▄▅▅▆▆▆▆▆▇▇▇▇██</td></tr></table><br/></div><div class=\"wandb-col\"><h3>Run summary:</h3><br/><table class=\"wandb\"><tr><td>average_episode_rewards</td><td>2.2</td></tr><tr><td>bias_norm</td><td>43.24148</td></tr><tr><td>epsilon</td><td>0</td></tr><tr><td>grad_norm</td><td>1.96754</td></tr><tr><td>last_eval_success_rate</td><td>0.91</td></tr><tr><td>loss</td><td>0.01085</td></tr><tr><td>weight_norm</td><td>17.61391</td></tr></table><br/></div></div>"
     },
     "metadata": {},
     "output_type": "display_data"
    },
    {
     "data": {
      "text/plain": "<IPython.core.display.HTML object>",
      "text/html": " View run <strong style=\"color:#cdcd00\">Batch normalization 3000 steps, trying 0 epsilon because learning starts after epsilon decay, Residual + dropout 0.3, weight decay 1e-5, random map</strong> at: <a href='https://wandb.ai/loyd-team/frozenlake_slipperry_batches_convnet_random_map/runs/bvuntpwq' target=\"_blank\">https://wandb.ai/loyd-team/frozenlake_slipperry_batches_convnet_random_map/runs/bvuntpwq</a><br/> View job at <a href='https://wandb.ai/loyd-team/frozenlake_slipperry_batches_convnet_random_map/jobs/QXJ0aWZhY3RDb2xsZWN0aW9uOjEyNTgzMjg5Mw==/version_details/v9' target=\"_blank\">https://wandb.ai/loyd-team/frozenlake_slipperry_batches_convnet_random_map/jobs/QXJ0aWZhY3RDb2xsZWN0aW9uOjEyNTgzMjg5Mw==/version_details/v9</a><br/>Synced 6 W&B file(s), 0 media file(s), 0 artifact file(s) and 0 other file(s)"
     },
     "metadata": {},
     "output_type": "display_data"
    },
    {
     "data": {
      "text/plain": "<IPython.core.display.HTML object>",
      "text/html": "Find logs at: <code>./wandb/run-20231227_115531-bvuntpwq/logs</code>"
     },
     "metadata": {},
     "output_type": "display_data"
    }
   ],
   "source": [
    "# Train the model\n",
    "num_episodes = 3000\n",
    "n_actions = env.action_space.n\n",
    "n_states = env.observation_space.n\n",
    "model = ConvNet(n_states, n_actions, dropout_p=dropout_p).to(device)\n",
    "optimizer = optim.Adam(model.parameters(), lr=learning_rate, weight_decay=weight_decay)\n",
    "loss_fn = nn.MSELoss()\n",
    "wandb.init(project=\"frozenlake_slipperry_batches_convnet_random_map\",\n",
    "           name=f\"Batch normalization 3000 steps, trying 0 epsilon because learning starts after epsilon decay, Residual + dropout 0.3, weight decay 1e-5, random map\",\n",
    "           reinit=True)\n",
    "model = train_model(model, optimizer, loss_fn, gamma, epsilon, epsilon_decay, num_episodes, device, n_states, \n",
    "                    random_map=random_map, is_slippery=is_slippery,\n",
    "                    forward_step_reward=0.2,\n",
    "                    visited_step_reward=0,\n",
    "                    hole_reward=-0.1,\n",
    "                    in_place_reward=-0.05)\n",
    "wandb.finish()"
   ],
   "metadata": {
    "collapsed": false,
    "ExecuteTime": {
     "end_time": "2023-12-27T11:03:37.990076Z",
     "start_time": "2023-12-27T10:55:31.531576Z"
    }
   },
   "id": "95783e41ab8de557"
  },
  {
   "cell_type": "code",
   "execution_count": 223,
   "outputs": [],
   "source": [
    "#TODO: try different gamma values"
   ],
   "metadata": {
    "collapsed": false,
    "ExecuteTime": {
     "end_time": "2023-12-27T10:54:47.321296Z",
     "start_time": "2023-12-27T10:54:47.316309Z"
    }
   },
   "id": "acc6144be123021e"
  },
  {
   "cell_type": "code",
   "execution_count": 228,
   "outputs": [
    {
     "name": "stdout",
     "output_type": "stream",
     "text": [
      "Success Rate:  0.94\n"
     ]
    }
   ],
   "source": [
    "# Evaluate the model\n",
    "num_eval_episodes = 200\n",
    "success_rate = evaluate_model(model, num_eval_episodes, device, n_states, batch_size=10, is_slippery=is_slippery, random_map=random_map)\n",
    "print(\"Success Rate: \", success_rate)"
   ],
   "metadata": {
    "collapsed": false,
    "ExecuteTime": {
     "end_time": "2023-12-27T11:04:07.037490Z",
     "start_time": "2023-12-27T11:04:05.328152Z"
    }
   },
   "id": "510270e518b47635"
  },
  {
   "cell_type": "code",
   "execution_count": 214,
   "outputs": [
    {
     "data": {
      "text/plain": "<Figure size 500x500 with 1 Axes>",
      "image/png": "[encoded data removed]"
     },
     "metadata": {},
     "output_type": "display_data"
    },
    {
     "data": {
      "text/plain": "<Figure size 500x500 with 1 Axes>",
      "image/png": "[encoded data removed]"
     },
     "metadata": {},
     "output_type": "display_data"
    },
    {
     "data": {
      "text/plain": "<Figure size 500x500 with 1 Axes>",
      "image/png": "[encoded data removed]"
     },
     "metadata": {},
     "output_type": "display_data"
    },
    {
     "data": {
      "text/plain": "<Figure size 500x500 with 1 Axes>",
      "image/png": "[encoded data removed]"
     },
     "metadata": {},
     "output_type": "display_data"
    },
    {
     "data": {
      "text/plain": "<Figure size 500x500 with 1 Axes>",
      "image/png": "[encoded data removed]"
     },
     "metadata": {},
     "output_type": "display_data"
    }
   ],
   "source": [
    "def visualize_policy_on_random_maps(model, device, n_maps=5, n_states=16, is_slippery=False):\n",
    "    # Create a color map for the grid with your specified colors\n",
    "\n",
    "\n",
    "    for map_idx in range(n_maps):\n",
    "        # Create environment with a random map\n",
    "        env = gym.make('FrozenLake-v1', desc=generate_random_map(size=4), is_slippery=is_slippery)\n",
    "\n",
    "        # Convert env.desc to a string format\n",
    "        desc = env.desc.astype(str)\n",
    "\n",
    "        # Create a color map for the grid\n",
    "        numerical_color_map = {'S': 2, 'F': 1, 'H': 0, 'G': 3}\n",
    "        numerical_grid_colors = np.vectorize(numerical_color_map.get)(desc)\n",
    "\n",
    "        # Prepare batch of states for vectorized operation\n",
    "        state_tensors = [preprocess_state(state, env.desc).to(device) for state in range(n_states)]\n",
    "        batch_states = torch.stack(state_tensors)\n",
    "\n",
    "        # Get policy for all states in one go\n",
    "        policy_batch = torch.argmax(model(batch_states), dim=1).cpu().numpy()\n",
    "\n",
    "        # Mapping actions to symbols for visualization\n",
    "        action_symbols = {0: '←', 1: '↓', 2: '→', 3: '↑'}\n",
    "        policy_symbols = np.vectorize(action_symbols.get)(policy_batch)\n",
    "\n",
    "        # Reshape for grid visualization\n",
    "        policy_grid = policy_symbols.reshape(env.desc.shape)\n",
    "\n",
    "        # Plotting the policy grid\n",
    "        plt.figure(figsize=(5, 5))\n",
    "        # Create a ListedColormap for custom colors\n",
    "        cmap = ListedColormap(['black', 'lightblue', 'lightblue', 'yellow'])  # Order: H, F, S, G\n",
    "        plt.imshow(numerical_grid_colors, cmap=cmap, interpolation='nearest')\n",
    "\n",
    "        for i in range(desc.shape[0]):\n",
    "            for j in range(desc.shape[1]):\n",
    "                arrow = policy_grid[i, j]\n",
    "                arrow_color = 'white' if desc[i, j] in ['H', 'G'] else 'black'\n",
    "                \n",
    "                        # Checking if the arrow points to a hole\n",
    "                if desc[i, j] != 'H':\n",
    "                    if (arrow == '←' and j > 0 and desc[i, j-1] == 'H') or \\\n",
    "                       (arrow == '→' and j < desc.shape[1] - 1 and desc[i, j+1] == 'H') or \\\n",
    "                       (arrow == '↑' and i > 0 and desc[i-1, j] == 'H') or \\\n",
    "                       (arrow == '↓' and i < desc.shape[0] - 1 and desc[i+1, j] == 'H'):\n",
    "                        arrow_color = 'red'\n",
    "                \n",
    "                plt.text(j, i, policy_grid[i, j], ha='center', va='center', fontsize=20, color=arrow_color)\n",
    "        plt.title(f'Policy Visualization for Map {map_idx+1}')\n",
    "        plt.show()\n",
    "\n",
    "visualize_policy_on_random_maps(model, device, n_maps=5, is_slippery=is_slippery)"
   ],
   "metadata": {
    "collapsed": false,
    "ExecuteTime": {
     "end_time": "2023-12-27T10:43:48.927316Z",
     "start_time": "2023-12-27T10:43:48.504055Z"
    }
   },
   "id": "bcec4f1a4aa586bc"
  },
  {
   "cell_type": "code",
   "execution_count": 151,
   "outputs": [],
   "source": [],
   "metadata": {
    "collapsed": false,
    "ExecuteTime": {
     "end_time": "2023-12-27T02:10:35.935048Z",
     "start_time": "2023-12-27T02:10:35.931558Z"
    }
   },
   "id": "1cb37ca18ba4e6b2"
  }
 ],
 "metadata": {
  "kernelspec": {
   "display_name": "Python 3",
   "language": "python",
   "name": "python3"
  },
  "language_info": {
   "codemirror_mode": {
    "name": "ipython",
    "version": 2
   },
   "file_extension": ".py",
   "mimetype": "text/x-python",
   "name": "python",
   "nbconvert_exporter": "python",
   "pygments_lexer": "ipython2",
   "version": "2.7.6"
  }
 },
 "nbformat": 4,
 "nbformat_minor": 5
}
